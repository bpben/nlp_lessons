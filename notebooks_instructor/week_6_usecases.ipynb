{
 "cells": [
  {
   "cell_type": "markdown",
   "metadata": {
    "colab_type": "text",
    "id": "KD37FKDql7KB"
   },
   "source": [
    "# Week 6: NLP use-cases\n",
    "This notebook accompanies the week 6 lecture.  This week focuses on a set of interesting use-cases in NLP using the techniques we've covered in class"
   ]
  },
  {
   "cell_type": "code",
   "execution_count": 236,
   "metadata": {
    "colab": {},
    "colab_type": "code",
    "id": "OwhFPIGPl7KC"
   },
   "outputs": [],
   "source": [
    "# setup\n",
    "import sys\n",
    "import subprocess\n",
    "import pkg_resources\n",
    "from collections import Counter\n",
    "import re\n",
    "import pickle\n",
    "\n",
    "required = {'spacy', 'transformers'}\n",
    "installed = {pkg.key for pkg in pkg_resources.working_set}\n",
    "missing = required - installed\n",
    "\n",
    "if missing:\n",
    "    python = sys.executable\n",
    "    subprocess.check_call([python, '-m', 'pip', 'install', *missing], stdout=subprocess.DEVNULL)\n",
    "\n",
    "import json\n",
    "import numpy as np\n",
    "import pandas as pd\n",
    "import spacy\n",
    "from sklearn.metrics import accuracy_score\n",
    "from sklearn.metrics.pairwise import cosine_similarity\n",
    "from sklearn.feature_extraction.text import TfidfVectorizer\n",
    "from sklearn.decomposition import NMF\n",
    "from sklearn.svm import LinearSVC\n",
    "from sklearn.cluster import KMeans\n",
    "import torch\n",
    "import transformers\n",
    "# this will set the device on which to train\n",
    "#device = torch.device(\"cpu\")\n",
    "# if using collab, set your runtime to use GPU and use the line below\n",
    "#device = torch.device(\"cuda:0\")"
   ]
  },
  {
   "cell_type": "markdown",
   "metadata": {
    "colab_type": "text",
    "id": "_J1R3hdWl7KI"
   },
   "source": [
    "## Unsupervised use-case: Movie genre \"clusters\"\n",
    "Though we've dealt with several labelled datasets in our class, for the most part you will not have the advantage of labels on your dataset.  However, with the techniques we've covered, we can create informative groupings that may provide answers to some questions or facilitate labeling."
   ]
  },
  {
   "cell_type": "code",
   "execution_count": 132,
   "metadata": {},
   "outputs": [],
   "source": [
    "# read in movie descriptions from spoilers dataset\n",
    "movies = pd.read_pickle('../data/spoilers_movies.pkl.gz')\n",
    "\n",
    "# format a genre dataset, which will allow us to see how well our approach approximates the labelling\n",
    "genres = np.unique(np.concatenate(movies.genre.values))\n",
    "genre_dummies = np.zeros(shape=(len(movies), len(genres)))\n",
    "for i, r in enumerate(movies.genre):\n",
    "    for ii, g in enumerate(genres):\n",
    "        if g in r:\n",
    "            genre_dummies[i, ii] = 1\n",
    "df_genre_dummies = pd.DataFrame(genre_dummies,\n",
    "                               columns=genres,\n",
    "                               index=movies.movie_id)"
   ]
  },
  {
   "cell_type": "markdown",
   "metadata": {},
   "source": [
    "### Exercise: Choose a technique to process movie plot summaries\n",
    "Think about some of the techniques we've already used (e.g. TFIDF, NMF, GloVe embeddings) and choose one for turning the raw summary text into a vector of information"
   ]
  },
  {
   "cell_type": "code",
   "execution_count": 50,
   "metadata": {},
   "outputs": [
    {
     "data": {
      "text/plain": [
       "sam        2\n",
       "gerry      2\n",
       "angels     2\n",
       "fbi        2\n",
       "frank      2\n",
       "beloved    2\n",
       "peter      2\n",
       "alien      2\n",
       "king       2\n",
       "gordon     2\n",
       "dtype: int64"
      ]
     },
     "execution_count": 50,
     "metadata": {},
     "output_type": "execute_result"
    }
   ],
   "source": [
    "# run word counts - TFIDF\n",
    "tfidf = TfidfVectorizer(min_df=0.01, stop_words='english')\n",
    "tfidf_vecs = tfidf.fit_transform(movies.plot_summary)\n",
    "\n",
    "# examine sets of particularly \"informative\" words (i.e. high TF, low DF)\n",
    "tfidf_df = pd.DataFrame(tfidf_vecs.toarray(),\n",
    "            columns=tfidf.get_feature_names())\n",
    "# what's the highest-weighted per movie, look at the top 10\n",
    "tfidf_df.idxmax(axis=1).value_counts()[:10]"
   ]
  },
  {
   "cell_type": "code",
   "execution_count": 58,
   "metadata": {},
   "outputs": [
    {
     "data": {
      "text/html": [
       "<div>\n",
       "<style scoped>\n",
       "    .dataframe tbody tr th:only-of-type {\n",
       "        vertical-align: middle;\n",
       "    }\n",
       "\n",
       "    .dataframe tbody tr th {\n",
       "        vertical-align: top;\n",
       "    }\n",
       "\n",
       "    .dataframe thead th {\n",
       "        text-align: right;\n",
       "    }\n",
       "</style>\n",
       "<table border=\"1\" class=\"dataframe\">\n",
       "  <thead>\n",
       "    <tr style=\"text-align: right;\">\n",
       "      <th></th>\n",
       "      <th>movie_id</th>\n",
       "      <th>plot_summary</th>\n",
       "      <th>duration</th>\n",
       "      <th>genre</th>\n",
       "      <th>rating</th>\n",
       "      <th>release_date</th>\n",
       "      <th>plot_synopsis</th>\n",
       "    </tr>\n",
       "  </thead>\n",
       "  <tbody>\n",
       "    <tr>\n",
       "      <th>1550</th>\n",
       "      <td>tt0103644</td>\n",
       "      <td>After escaping with Newt and Hicks from the mo...</td>\n",
       "      <td>1h 54min</td>\n",
       "      <td>[Action, Horror, Sci-Fi]</td>\n",
       "      <td>6.4</td>\n",
       "      <td>1992-05-22</td>\n",
       "      <td>In the movie's opening credits, the Sulaco, th...</td>\n",
       "    </tr>\n",
       "    <tr>\n",
       "      <th>745</th>\n",
       "      <td>tt0120201</td>\n",
       "      <td>In the distant future high school kids are enc...</td>\n",
       "      <td>2h 9min</td>\n",
       "      <td>[Action, Adventure, Sci-Fi]</td>\n",
       "      <td>7.2</td>\n",
       "      <td>1997-11-07</td>\n",
       "      <td>In the distant future, several hundred years a...</td>\n",
       "    </tr>\n",
       "    <tr>\n",
       "      <th>237</th>\n",
       "      <td>tt0115571</td>\n",
       "      <td>Zane (Charlie Sheen), a young, mild-mannered a...</td>\n",
       "      <td>1h 55min</td>\n",
       "      <td>[Sci-Fi, Thriller]</td>\n",
       "      <td>6.3</td>\n",
       "      <td>1996-05-31</td>\n",
       "      <td>Zane Zaminski (Charlie Sheen), a radio astrono...</td>\n",
       "    </tr>\n",
       "  </tbody>\n",
       "</table>\n",
       "</div>"
      ],
      "text/plain": [
       "       movie_id                                       plot_summary  duration  \\\n",
       "1550  tt0103644  After escaping with Newt and Hicks from the mo...  1h 54min   \n",
       "745   tt0120201  In the distant future high school kids are enc...   2h 9min   \n",
       "237   tt0115571  Zane (Charlie Sheen), a young, mild-mannered a...  1h 55min   \n",
       "\n",
       "                            genre  rating release_date  \\\n",
       "1550     [Action, Horror, Sci-Fi]     6.4   1992-05-22   \n",
       "745   [Action, Adventure, Sci-Fi]     7.2   1997-11-07   \n",
       "237            [Sci-Fi, Thriller]     6.3   1996-05-31   \n",
       "\n",
       "                                          plot_synopsis  \n",
       "1550  In the movie's opening credits, the Sulaco, th...  \n",
       "745   In the distant future, several hundred years a...  \n",
       "237   Zane Zaminski (Charlie Sheen), a radio astrono...  "
      ]
     },
     "execution_count": 58,
     "metadata": {},
     "output_type": "execute_result"
    }
   ],
   "source": [
    "# alien seems pretty distinctive.  I imagine anything that has \"alien\" is probably sci-fi\n",
    "movies[movies.plot_summary.str.find('alien')>-1]"
   ]
  },
  {
   "cell_type": "code",
   "execution_count": 107,
   "metadata": {},
   "outputs": [
    {
     "data": {
      "text/plain": [
       "array([\"Tommy Callahan Jr. is a slow-witted, clumsy guy who recently graduated college after attending for seven years. His father, Big Tom Callahan, owns an auto parts factory in Ohio. When Tommy arrives back home, he finds he has a position at the factory waiting for him. His dad also introduces Tommy to the new brake pad division of the factory and to Tommy's soon-to-be stepmother, Beverly, and her son Paul. But when Big Tom dies, the factory threatens to go under unless the new brake pads are to be sold. Therefore, Tommy must go on the road to sell them, along with the assistance of Richard, Big Tom's right-hand man. Will Tommy save the company, or will the factory, and the town, go under?                Written by\\nAnonymous\",\n",
       "       'New York based jazz pianist Willie Conway heads back to his small hometown of Knights Ridge, Massachusetts for a high school reunion. The trip is as much to go to the reunion and see his old friends - none of whom left Knights Ridge after graduation - as it is to get away from his current life, at which he is at a crossroads both personally and professionally. He is just eking out a living with his piano playing gigs, and as such he is thinking about taking a sales job. He\\'s also not sure if he\\'s ready to marry his long time girlfriend, lawyer Tracy Stover. Most of Willie\\'s Knights Ridge blue collar friends\\' best days were in high school, they still having that \"trophy\" mentality of girlfriends and wives. Only Michael \"Mo\" Morris is happily married with a family. Paul Kirkwood, whose room is plastered with magazine pictures of models, wants his waitress ex-girlfriend Jan back only because he knows now that he can\\'t have her. And Tommy \"Birdman\" Rowland, who was the big man in high ...                Written by\\nHuggo'],\n",
       "      dtype=object)"
      ]
     },
     "execution_count": 107,
     "metadata": {},
     "output_type": "execute_result"
    }
   ],
   "source": [
    "# but a better measure here is comparing vectors\n",
    "tfidf_sim = cosine_similarity(tfidf_df)\n",
    "random_idx = np.random.randint(len(tfidf_sim))\n",
    "# take the most similar for this random idx (aside from self)\n",
    "movies.iloc[[random_idx,\n",
    "            tfidf_sim[random_idx].argsort()[-2]]].plot_summary.values\n",
    "# not clear if this is working, just pairwisw"
   ]
  },
  {
   "cell_type": "code",
   "execution_count": 69,
   "metadata": {},
   "outputs": [
    {
     "name": "stdout",
     "output_type": "stream",
     "text": [
      "Topic 0:\n",
      "family man decides home frank\n",
      "Topic 1:\n",
      "luke han princess leia skywalker\n",
      "Topic 2:\n",
      "life year love old sam\n",
      "Topic 3:\n",
      "ed mindspring esutton sutton man\n",
      "Topic 4:\n",
      "king porthos athos artagnan aramis\n",
      "Topic 5:\n",
      "movie follows film new building\n",
      "Topic 6:\n",
      "war general attack army force\n",
      "Topic 7:\n",
      "bond max jhailey cady hotmail\n",
      "Topic 8:\n",
      "school high friends girl hero\n",
      "Topic 9:\n",
      "gordon team hockey coach win\n"
     ]
    }
   ],
   "source": [
    "# run topic model - NMF\n",
    "n_components = 10\n",
    "nmf = NMF(n_components=n_components)\n",
    "nmf_vecs = nmf.fit_transform(tfidf_vecs)\n",
    "\n",
    "# examine topic model\n",
    "def display_components(model, word_features, top_display=5):\n",
    "    # utility for displaying respresentative words per component for topic models\n",
    "    for topic_idx, topic in enumerate(model.components_):\n",
    "        print(\"Topic %d:\" % (topic_idx))\n",
    "        top_words_idx = topic.argsort()[::-1][:top_display]\n",
    "        top_words = [word_features[i] for i in top_words_idx]\n",
    "        print(\" \".join(top_words))\n",
    "display_components(nmf, tfidf.get_feature_names())\n"
   ]
  },
  {
   "cell_type": "code",
   "execution_count": 66,
   "metadata": {},
   "outputs": [
    {
     "data": {
      "text/plain": [
       "array([\"12-year-old Dre Parker has moved to China, and finds himself like a fish out of water. He befriends a fellow classmate, Mei Ying, only to make a rival, Cheng, who starts to bully and attack Dre. Soon, Mr Han, the maintenance man of Dre's apartment, fends off Cheng and his friends when they are attacking Dre and signs Dre up to fight in the Kung Fu tournament in return for the bullies laying off of Dre. Dre realizes Mr. Han is much more than a maintenance man, when he's revealed as a master of Kung Fu and Dre soon learns that Kung Fu is about self defense and peace, instead of violence and bloodshed.                Written by\\nKennedy\",\n",
       "       'As the Clone Wars sweep through the galaxy, the heroic Jedi Knights struggle to maintain order and restore peace. More and more systems are falling prey to the forces of the dark side as the Galactic Republic slips further and further under the sway of the Separatists and their never-ending droid army. Anakin Skywalker and his Padawan learner Ahsoka Tano find themselves on a mission with far-reaching consequences, one that brings them face-to-face with crime lord Jabba the Hutt. But Count Dooku and his sinister agents, including the nefarious Asajj Ventress, will stop at nothing to ensure that Anakin and Ahsoka fail at their quest. Meanwhile, on the front lines of the Clone Wars, Obi-Wan Kenobi and Master Yoda lead the massive clone army in a valiant effort to resist the forces of the dark side ...                Written by\\nWarner Bros. Pictures',\n",
       "       \"Luke Skywalker, Han Solo, Princess Leia and Chewbacca face attack by the Imperial forces and its AT-AT walkers on the ice planet Hoth. While Han and Leia escape in the Millennium Falcon, Luke travels to Dagobah in search of Yoda. Only with the Jedi master's help will Luke survive when the dark side of the Force beckons him into the ultimate duel with Darth Vader.                Written by\\nJwelch5742\",\n",
       "       'Luke Skywalker battles horrible Jabba the Hut and cruel Darth Vader to save his comrades in the Rebel Alliance and triumph over the Galactic Empire. Han Solo and Princess Leia reaffirm their love and team with Chewbacca, Lando Calrissian, the Ewoks and the androids C-3PO and R2-D2 to aid in the disruption of the Dark Side and the defeat of the evil emperor.                Written by\\nJwelch5742',\n",
       "       'The Imperial Forces, under orders from cruel Darth Vader, hold Princess Leia hostage in their efforts to quell the rebellion against the Galactic Empire. Luke Skywalker and Han Solo, captain of the Millennium Falcon, work together with the companionable droid duo R2-D2 and C-3PO to rescue the beautiful princess, help the Rebel Alliance and restore freedom and justice to the Galaxy.                Written by\\nJwelch5742'],\n",
       "      dtype=object)"
      ]
     },
     "execution_count": 66,
     "metadata": {},
     "output_type": "execute_result"
    }
   ],
   "source": [
    "# i'd imagine  loading on 1 = star wars\n",
    "movies.iloc[np.argsort(nmf_vecs[:, 1])[-5:]].plot_summary.values"
   ]
  },
  {
   "cell_type": "code",
   "execution_count": 110,
   "metadata": {},
   "outputs": [
    {
     "data": {
      "text/plain": [
       "array([\"Luke Skywalker, Han Solo, Princess Leia and Chewbacca face attack by the Imperial forces and its AT-AT walkers on the ice planet Hoth. While Han and Leia escape in the Millennium Falcon, Luke travels to Dagobah in search of Yoda. Only with the Jedi master's help will Luke survive when the dark side of the Force beckons him into the ultimate duel with Darth Vader.                Written by\\nJwelch5742\",\n",
       "       'The Imperial Forces, under orders from cruel Darth Vader, hold Princess Leia hostage in their efforts to quell the rebellion against the Galactic Empire. Luke Skywalker and Han Solo, captain of the Millennium Falcon, work together with the companionable droid duo R2-D2 and C-3PO to rescue the beautiful princess, help the Rebel Alliance and restore freedom and justice to the Galaxy.                Written by\\nJwelch5742'],\n",
       "      dtype=object)"
      ]
     },
     "execution_count": 110,
     "metadata": {},
     "output_type": "execute_result"
    }
   ],
   "source": [
    "# with similarity\n",
    "nmf_sim = cosine_similarity(nmf_vecs)\n",
    "random_idx = np.random.randint(len(nmf_sim))\n",
    "# take the most similar for this random idx (aside from self)\n",
    "movies.iloc[[random_idx,\n",
    "            nmf_sim[random_idx].argsort()[-2]]].plot_summary.values\n",
    "# not clear if this is working, just pairwisw"
   ]
  },
  {
   "cell_type": "markdown",
   "metadata": {},
   "source": [
    "So far we've been looking at different slices of these models/heuristics.  But the purpose, as we've covered before, is to go from unstructured text and a lot of noise, to distilled representations.  In SVM models, we used the representations as input and trained weights on each dimension.  In clustering, we'll be embedding our text in \"representation space\" and grouping those representations.\n",
    "\n",
    "The method we're using here is called K-Means clustering.  Refer to the slides for an explanation.  Suffice to say here, it's a fairly simple method for creating those groups."
   ]
  },
  {
   "cell_type": "code",
   "execution_count": 141,
   "metadata": {},
   "outputs": [
    {
     "name": "stdout",
     "output_type": "stream",
     "text": [
      "Inertia (Sum of squared distances to cluster center): 7.561936280646607\n"
     ]
    }
   ],
   "source": [
    "# clustering K-means\n",
    "clusterer = KMeans(n_clusters=5)\n",
    "clusterer.fit(nmf_vecs)\n",
    "cluster_preds = clusterer.predict(nmf_vecs)\n",
    "\n",
    "# how well did our clustering do\n",
    "print('Inertia (Sum of squared distances to cluster center):', clusterer.inertia_)"
   ]
  },
  {
   "cell_type": "code",
   "execution_count": 181,
   "metadata": {},
   "outputs": [
    {
     "data": {
      "text/html": [
       "<div>\n",
       "<style scoped>\n",
       "    .dataframe tbody tr th:only-of-type {\n",
       "        vertical-align: middle;\n",
       "    }\n",
       "\n",
       "    .dataframe tbody tr th {\n",
       "        vertical-align: top;\n",
       "    }\n",
       "\n",
       "    .dataframe thead th {\n",
       "        text-align: right;\n",
       "    }\n",
       "</style>\n",
       "<table border=\"1\" class=\"dataframe\">\n",
       "  <thead>\n",
       "    <tr style=\"text-align: right;\">\n",
       "      <th></th>\n",
       "      <th>Drama</th>\n",
       "      <th>Comedy</th>\n",
       "      <th>Adventure</th>\n",
       "      <th>Action</th>\n",
       "      <th>Crime</th>\n",
       "    </tr>\n",
       "  </thead>\n",
       "  <tbody>\n",
       "    <tr>\n",
       "      <th>0</th>\n",
       "      <td>7.0</td>\n",
       "      <td>3.0</td>\n",
       "      <td>4.0</td>\n",
       "      <td>4.0</td>\n",
       "      <td>2.0</td>\n",
       "    </tr>\n",
       "    <tr>\n",
       "      <th>1</th>\n",
       "      <td>77.0</td>\n",
       "      <td>52.0</td>\n",
       "      <td>39.0</td>\n",
       "      <td>35.0</td>\n",
       "      <td>34.0</td>\n",
       "    </tr>\n",
       "    <tr>\n",
       "      <th>2</th>\n",
       "      <td>2.0</td>\n",
       "      <td>1.0</td>\n",
       "      <td>2.0</td>\n",
       "      <td>2.0</td>\n",
       "      <td>2.0</td>\n",
       "    </tr>\n",
       "    <tr>\n",
       "      <th>3</th>\n",
       "      <td>0.0</td>\n",
       "      <td>0.0</td>\n",
       "      <td>3.0</td>\n",
       "      <td>3.0</td>\n",
       "      <td>0.0</td>\n",
       "    </tr>\n",
       "    <tr>\n",
       "      <th>4</th>\n",
       "      <td>0.0</td>\n",
       "      <td>1.0</td>\n",
       "      <td>3.0</td>\n",
       "      <td>3.0</td>\n",
       "      <td>0.0</td>\n",
       "    </tr>\n",
       "  </tbody>\n",
       "</table>\n",
       "</div>"
      ],
      "text/plain": [
       "   Drama  Comedy  Adventure  Action  Crime\n",
       "0    7.0     3.0        4.0     4.0    2.0\n",
       "1   77.0    52.0       39.0    35.0   34.0\n",
       "2    2.0     1.0        2.0     2.0    2.0\n",
       "3    0.0     0.0        3.0     3.0    0.0\n",
       "4    0.0     1.0        3.0     3.0    0.0"
      ]
     },
     "execution_count": 181,
     "metadata": {},
     "output_type": "execute_result"
    }
   ],
   "source": [
    "# how are these clusters split by genre\n",
    "# just subseting to our top 5 genres, for ease of viewing\n",
    "top_genres = df_genre_dummies.sum().nlargest(n=5).index.tolist()\n",
    "cluster_by_genre = df_genre_dummies[top_genres].groupby(cluster_preds).sum()\n",
    "cluster_by_genre\n",
    "# seems like we're seeing a lot in one cluster, yikes!"
   ]
  },
  {
   "cell_type": "code",
   "execution_count": 194,
   "metadata": {},
   "outputs": [
    {
     "data": {
      "text/plain": [
       "<matplotlib.axes._subplots.AxesSubplot at 0x1a3a5a1990>"
      ]
     },
     "execution_count": 194,
     "metadata": {},
     "output_type": "execute_result"
    },
    {
     "data": {
      "image/png": "[encoded data removed]",
      "text/plain": [
       "<Figure size 432x288 with 1 Axes>"
      ]
     },
     "metadata": {
      "needs_background": "light"
     },
     "output_type": "display_data"
    }
   ],
   "source": [
    "# get the % of each cluster in each genre\n",
    "cluster_by_genre.apply(lambda x: x/x.sum(), axis=1).plot(kind='bar', stacked=True)"
   ]
  },
  {
   "cell_type": "code",
   "execution_count": 165,
   "metadata": {},
   "outputs": [
    {
     "data": {
      "text/plain": [
       "<matplotlib.collections.PathCollection at 0x1a37a2cf90>"
      ]
     },
     "execution_count": 165,
     "metadata": {},
     "output_type": "execute_result"
    },
    {
     "data": {
      "image/png": "[encoded data removed]",
      "text/plain": [
       "<Figure size 432x288 with 1 Axes>"
      ]
     },
     "metadata": {
      "needs_background": "light"
     },
     "output_type": "display_data"
    }
   ],
   "source": [
    "# one way to visualize this: a two-dimensional decomposition (T-SNE)\n",
    "# see https://scikit-learn.org/stable/modules/manifold.html#t-sne for more info\n",
    "from sklearn.manifold import TSNE\n",
    "import matplotlib.pyplot as plt\n",
    "# fitting to 2 components\n",
    "tsne_decomposition = TSNE(n_components=2, random_state=42).fit_transform(nmf_vecs)\n",
    "fig, ax = plt.subplots()\n",
    "# colors based on clusters\n",
    "color_cycle = ['r', 'b', 'g', 'y', 'purple']\n",
    "ax.scatter(tsne_decomposition[:,0], tsne_decomposition[:,1],\n",
    "          c=[color_cycle[c] for c in cluster_preds])"
   ]
  },
  {
   "cell_type": "markdown",
   "metadata": {},
   "source": [
    "### Exercise: Experiment with clustering\n",
    "We've tried out a specific use of KMeans with a specific set of features, but there are tons of other ways to approach this.  Spend some time experimenting with different KMeans parameters and using other sets of features.  \n",
    "\n",
    "Some example experiments:\n",
    "- Tuning the number of clusters based on lowest inertia\n",
    "- Fitting clusters to vectors of spatial information (e.g. cosine similarity)\n",
    "- Trying other featuresets (e.g. TFIDF)\n",
    "\n",
    "See if you can find a solution where the clusters seem to map on to genres to some extent, or at least where we don't see these big clusters."
   ]
  },
  {
   "cell_type": "code",
   "execution_count": null,
   "metadata": {},
   "outputs": [],
   "source": []
  },
  {
   "cell_type": "markdown",
   "metadata": {},
   "source": [
    "## Named-Entity Recognition\n",
    "The use-case we'll be covering in the slides might be considered \"semi-supervised\".  In a lot of cases, you may have an inventory of named-entities, but not necessary a fully labelled set of text.  In this use-case, we'll use our movie  dataset and a simple pattern matching implemented in SpaCy to train a NER model from scratch to recognize locations and actors."
   ]
  },
  {
   "cell_type": "code",
   "execution_count": 203,
   "metadata": {},
   "outputs": [],
   "source": [
    "from spacy.matcher import Matcher, PhraseMatcher"
   ]
  },
  {
   "cell_type": "code",
   "execution_count": 235,
   "metadata": {},
   "outputs": [],
   "source": [
    "# read in movie descriptions from spoilers dataset\n",
    "movies = pd.read_pickle('../data/spoilers_movies.pkl.gz')\n",
    "# an inventory of 288 academy award nominated actors \n",
    "actor_inventory = pickle.load(open('../data/actors_inventory.pkl', 'rb'))\n",
    "# a set of 150 US cities\n",
    "city_inventory = pickle.load(open('../data/city_inventory.pkl', 'rb'))"
   ]
  },
  {
   "cell_type": "code",
   "execution_count": 252,
   "metadata": {},
   "outputs": [
    {
     "name": "stdout",
     "output_type": "stream",
     "text": [
      "7593739049417968140 people Angela Merkel\n",
      "7593739049417968140 people Barack Obama\n",
      "13063876858105367867 locations Oval Office\n",
      "13063876858105367867 locations Washington, D.C.\n"
     ]
    }
   ],
   "source": [
    "# how to use spaCy's PhraseMatcher\n",
    "# adapted from https://spacy.io/usage/rule-based-matching#phrasematcher\n",
    "# load a language model\n",
    "from spacy.lang.en import English\n",
    "en = English()\n",
    "matcher = PhraseMatcher(en.vocab)\n",
    "inventories = {'people': [\"Barack Obama\", \"Angela Merkel\"],\n",
    "           'locations': [\"Washington, D.C.\", \"Oval Office\"]}\n",
    "for k in inventories:           \n",
    "    matcher.add(k, # label for the match \n",
    "                None, # no custom function for dealing with matches (\"callback\")\n",
    "                *[en(text) for text in inventories[k]])\n",
    "\n",
    "doc = en(\"German Chancellor Angela Merkel and US President Barack Obama \"\n",
    "          \"converse in the Oval Office inside the White House in Washington, D.C.\")\n",
    "matches = matcher(doc)\n",
    "for match_id, start, end in matches:\n",
    "    span = doc[start:end]\n",
    "    # note: match_id is stored as an index within the vocab\n",
    "    print(match_id, en.vocab[match_id].text, span.text)"
   ]
  },
  {
   "cell_type": "markdown",
   "metadata": {},
   "source": [
    "### Exercise: Create "
   ]
  },
  {
   "cell_type": "code",
   "execution_count": null,
   "metadata": {
    "colab": {
     "base_uri": "https://localhost:8080/",
     "height": 232
    },
    "colab_type": "code",
    "id": "aYcOIUdRl7KI",
    "outputId": "5e9f98ea-99af-46a0-d5d0-c86553369d88"
   },
   "outputs": [],
   "source": [
    "# this code is for subsetting, you don't need to run this\n",
    "# read in full data\n",
    "movies = pd.read_json(\n",
    "    open('../data/imdb-spoiler-dataset/IMDB_movie_details.json'),\n",
    "    lines=True)\n",
    "reviews = pd.read_json(\n",
    "    open('../data/imdb-spoiler-dataset/IMDB_reviews.json'),\n",
    "    lines=True)\n",
    "# subset\n",
    "random_state = 42\n",
    "samp_movies = movies.sample(frac=.1, random_state=random_state)\n",
    "samp_reviews = reviews[reviews.movie_id.isin(samp_movies.movie_id)]\n",
    "\n",
    "# output for analysis\n",
    "samp_movies.to_pickle('../data/spoilers_movies.pkl.gz')\n",
    "samp_reviews.to_pickle('../data/spoilers_reviews.pkl.gz')"
   ]
  },
  {
   "cell_type": "code",
   "execution_count": null,
   "metadata": {
    "colab": {},
    "colab_type": "code",
    "id": "CZSW3IHpl7KK"
   },
   "outputs": [],
   "source": [
    "# read in data\n",
    "movies = pd.read_pickle('./spoilers_movies.pkl.gz')\n",
    "reviews = pd.read_pickle('./spoilers_reviews.pkl.gz')"
   ]
  },
  {
   "cell_type": "code",
   "execution_count": null,
   "metadata": {
    "colab": {
     "base_uri": "https://localhost:8080/",
     "height": 731
    },
    "colab_type": "code",
    "id": "utwV9T3ul7KN",
    "outputId": "51fca7f7-67a0-446d-cd56-d608a4fef1ec"
   },
   "outputs": [],
   "source": [
    "# some general EDA\n",
    "print(movies.info())\n",
    "print(reviews.info())\n",
    "# descriptives of review text\n",
    "print(reviews.review_text.apply(len).describe())\n",
    "# what's our class distribution\n",
    "print(reviews.is_spoiler.value_counts())"
   ]
  },
  {
   "cell_type": "markdown",
   "metadata": {
    "colab_type": "text",
    "id": "WC5O4ebml7KP"
   },
   "source": [
    "#### How can we identify whether a review is likely to be a spoiler?\n",
    "Let's refer to the [ML project requirements](https://www.jeremyjordan.me/ml-requirements/) article and see if we can evaluate this dataset for its potential to answer that question.\n",
    "\n",
    "Some questions we might want to ask:\n",
    "- Who is the user of this product?\n",
    "- What data might we need?\n",
    "- What data/features do we have to work with?\n",
    "- Is the a simple heuristic here that might be preferable over a model?\n",
    "- How can we iterate here and find improvement?\n",
    "- What is the benefit from getting more elaborate with our design? What is the cost?\n",
    "\n",
    "We're lucky because we have a dataset tailored to this problem.  So let's focus on how we can identify spoilers with a minimal approach before even looking into models."
   ]
  },
  {
   "cell_type": "code",
   "execution_count": null,
   "metadata": {
    "colab": {
     "base_uri": "https://localhost:8080/",
     "height": 34
    },
    "colab_type": "code",
    "id": "tzrM5DGIl7KQ",
    "outputId": "1b46833f-22c8-44a2-ef66-bcb30db846d0"
   },
   "outputs": [],
   "source": [
    "# What about a coin-flip? 50/50 chance a review is a spoiler\n",
    "actual = reviews.is_spoiler\n",
    "pred = np.random.random(size=len(actual))<=0.5\n",
    "accuracy_score(actual, pred)"
   ]
  },
  {
   "cell_type": "code",
   "execution_count": null,
   "metadata": {
    "colab": {
     "base_uri": "https://localhost:8080/",
     "height": 669
    },
    "colab_type": "code",
    "id": "gSP2a_CTl7KS",
    "outputId": "0dda152e-f0e2-4bc2-d591-c672185cfd3d"
   },
   "outputs": [],
   "source": [
    "# what if we adjusted our coin flip by genre?\n",
    "# are certain genres more likely to have spoilers?\n",
    "# genre is a list of variable length, so we need to expand that\n",
    "genres = np.unique(np.concatenate(movies.genre.values))\n",
    "genre_dummies = np.zeros(shape=(len(movies), len(genres)))\n",
    "for i, r in enumerate(movies.genre):\n",
    "    for ii, g in enumerate(genres):\n",
    "        if g in r:\n",
    "            genre_dummies[i, ii] = 1\n",
    "df_genre_dummies = pd.DataFrame(genre_dummies,\n",
    "                               columns=genres,\n",
    "                               index=movies.movie_id)\n",
    "reviews_genre = df_genre_dummies.merge(reviews[['movie_id', 'is_spoiler']],\n",
    "                      left_index=True, right_on='movie_id')\n",
    "# now we have the count of spoilers and non spoilers, by genre\n",
    "genre_spoiler = reviews_genre.groupby('is_spoiler').sum().T\n",
    "genre_spoiler"
   ]
  },
  {
   "cell_type": "code",
   "execution_count": null,
   "metadata": {
    "colab": {
     "base_uri": "https://localhost:8080/",
     "height": 34
    },
    "colab_type": "code",
    "id": "CHKqBpiIl7KU",
    "outputId": "eed95a53-1146-4562-a69a-64ffce167fa4"
   },
   "outputs": [],
   "source": [
    "# so what if we just set our prediction to the average spoiler prob of genres?\n",
    "genre_spoiler_prob = genre_spoiler[True]/genre_spoiler.sum(axis=1)\n",
    "# just getting this at the movie level\n",
    "movie_spoiler_prob = movies.genre.apply(lambda x: genre_spoiler_prob.loc[x].mean())\n",
    "movie_spoiler_prob.index = movies.movie_id\n",
    "actual = reviews.is_spoiler\n",
    "pred = np.random.random(size=len(actual))\n",
    "pred = pred <= reviews.movie_id.apply(lambda x: movie_spoiler_prob.loc[x])\n",
    "accuracy_score(actual, pred)\n",
    "# what's the problem with this prediction?"
   ]
  },
  {
   "cell_type": "code",
   "execution_count": null,
   "metadata": {
    "colab": {
     "base_uri": "https://localhost:8080/",
     "height": 34
    },
    "colab_type": "code",
    "id": "AvViXhaVl7KW",
    "outputId": "4c3c297d-a95a-403d-b1cb-6c3e7ba5df37"
   },
   "outputs": [],
   "source": [
    "# train/val/test construction\n",
    "# what are the considerations for constructing?\n",
    "np.random.seed(seed=42)\n",
    "# Will use 70/15/15 train/validation/test\n",
    "pct_train = 0.7\n",
    "pct_val = 0.15\n",
    "pct_test = 1-pct_train-pct_val\n",
    "draws = np.random.random(len(reviews))\n",
    "train_bool = draws<=pct_train\n",
    "val_bool = (draws>pct_train)&(draws<=pct_train+pct_val)\n",
    "test_bool = (draws>pct_train+pct_val)&(draws<=pct_train+pct_val+pct_test)\n",
    "train = reviews[train_bool]\n",
    "val = reviews[val_bool]\n",
    "test = reviews[test_bool]\n",
    "print(train.shape, val.shape, test.shape)"
   ]
  },
  {
   "cell_type": "code",
   "execution_count": null,
   "metadata": {
    "colab": {
     "base_uri": "https://localhost:8080/",
     "height": 51
    },
    "colab_type": "code",
    "id": "-K5LkcPql7KZ",
    "outputId": "77297724-1e60-48b9-ead5-4bc7df3f9598"
   },
   "outputs": [],
   "source": [
    "# try the above method, but considering fitting on train\n",
    "train_spoiler_prob = reviews_genre[train_bool].groupby('is_spoiler').sum().T\n",
    "train_spoiler_prob = train_spoiler_prob[True]/train_spoiler_prob.sum(axis=1)\n",
    "movie_spoiler_prob = movies.genre.apply(lambda x: train_spoiler_prob.loc[x].mean())\n",
    "movie_spoiler_prob.index = movies.movie_id\n",
    "for d in [train, val]:\n",
    "    actual = d.is_spoiler\n",
    "    pred = np.random.random(size=len(actual))\n",
    "    pred = pred <= d.movie_id.apply(lambda x: movie_spoiler_prob.loc[x])\n",
    "    print(accuracy_score(actual, pred))"
   ]
  },
  {
   "cell_type": "code",
   "execution_count": null,
   "metadata": {
    "colab": {
     "base_uri": "https://localhost:8080/",
     "height": 68
    },
    "colab_type": "code",
    "id": "Jyb1pE-rl7Kb",
    "outputId": "7841fcd3-61aa-4e6d-b642-01139a235d97"
   },
   "outputs": [],
   "source": [
    "# now we're getting into models\n",
    "# how does a simple word count+SVM perform?\n",
    "tfidf = TfidfVectorizer(lowercase=False, min_df=0.01)\n",
    "svc = LinearSVC()\n",
    "tfidf_train = tfidf.fit_transform(train.review_text)\n",
    "print(tfidf_train.shape)\n",
    "svc.fit(tfidf_train, train.is_spoiler)\n",
    "for d in [train, val]:\n",
    "    actual = d.is_spoiler\n",
    "    pred = svc.predict(tfidf.transform(d.review_text))\n",
    "    print(accuracy_score(actual, pred))"
   ]
  },
  {
   "cell_type": "code",
   "execution_count": null,
   "metadata": {
    "colab": {
     "base_uri": "https://localhost:8080/",
     "height": 51
    },
    "colab_type": "code",
    "id": "6fCFno3Vl7Ke",
    "outputId": "0f39c464-1867-425a-d53e-30d5b09b8dd0"
   },
   "outputs": [],
   "source": [
    "# what about topic models?\n",
    "n_components = 10\n",
    "nmf = NMF(n_components=n_components)\n",
    "nmf_train = nmf.fit_transform(tfidf_train)\n",
    "svc.fit(nmf_train, train.is_spoiler)\n",
    "for d in [train, val]:\n",
    "    actual = d.is_spoiler\n",
    "    pred = svc.predict(\n",
    "        nmf.transform(\n",
    "            tfidf.transform(d.review_text)))\n",
    "    print(accuracy_score(actual, pred))\n"
   ]
  },
  {
   "cell_type": "code",
   "execution_count": null,
   "metadata": {
    "colab": {
     "base_uri": "https://localhost:8080/",
     "height": 170
    },
    "colab_type": "code",
    "id": "34X9A8Sul7Kg",
    "outputId": "6e6dc6e7-55ab-4307-f6af-436431f5e591"
   },
   "outputs": [],
   "source": [
    "# what is our information inventory?\n",
    "# what text info do we have from movies?\n",
    "print(movies.filter(regex='plot').applymap(lambda x: len(x)).describe())\n",
    "# what if we include movie information?\n",
    "# using summary, which is a bit more concise\n",
    "tfidf_movies = pd.DataFrame(tfidf.transform(movies.plot_summary).toarray(),\n",
    "                            index=movies.movie_id)\n",
    "# shape to fit base dataset\n",
    "movie_features = train.merge(\n",
    "    tfidf_movies, left_on='movie_id', right_index=True)[tfidf_movies.columns]"
   ]
  },
  {
   "cell_type": "code",
   "execution_count": null,
   "metadata": {
    "colab": {
     "base_uri": "https://localhost:8080/",
     "height": 51
    },
    "colab_type": "code",
    "id": "6ij-LtGMl7Ki",
    "outputId": "2da53b1c-4c46-4fd6-874a-3b493a2edae3"
   },
   "outputs": [],
   "source": [
    "# concatenate the two arrays\n",
    "train_feats = np.concatenate([tfidf_train.toarray(),\n",
    "                              movie_features.values], axis=1)\n",
    "svc.fit(train_feats, train.is_spoiler)\n",
    "for d in [train, val]:\n",
    "    actual = d.is_spoiler\n",
    "    movie_feats = d.merge(\n",
    "        tfidf_movies, left_on='movie_id', right_index=True)[tfidf_movies.columns].values\n",
    "    tfidf_feats = tfidf.transform(d.review_text).toarray()\n",
    "    pred = svc.predict(\n",
    "        np.concatenate([tfidf_feats, \n",
    "                        movie_feats], axis=1))\n",
    "    print(accuracy_score(actual, pred))"
   ]
  },
  {
   "cell_type": "markdown",
   "metadata": {
    "colab_type": "text",
    "id": "M3EwEjLOl7Kj"
   },
   "source": [
    "#### Exploring pre-trained models\n",
    "Now that we have a simple, performant baseline, here's where we might want to bring in some pre-trained models.  Or, maybe adapt these pre-trained models via a process called fine-tuning. \n",
    "\n",
    "Let's start by exploring some available models and their outputs."
   ]
  },
  {
   "cell_type": "code",
   "execution_count": null,
   "metadata": {
    "colab": {},
    "colab_type": "code",
    "id": "RT4_ynfwl7Kk"
   },
   "outputs": [],
   "source": [
    "# what we're used to: BERT\n",
    "from transformers import BertTokenizer, BertModel \n",
    "MODEL_NAME = 'bert-base-uncased'\n",
    "# Load pre-trained model\n",
    "model = BertModel.from_pretrained(MODEL_NAME)\n",
    "# Load pre-trained model tokenizer (vocabulary)\n",
    "tokenizer = BertTokenizer.from_pretrained(MODEL_NAME)"
   ]
  },
  {
   "cell_type": "code",
   "execution_count": null,
   "metadata": {
    "colab": {
     "base_uri": "https://localhost:8080/",
     "height": 164,
     "referenced_widgets": [
      "113785db3fff4cebb333547def6a3e7e",
      "a48d098fd5f84b69bd48f781a30cd9cf",
      "250a5b33586e446aa854e931897262b1",
      "32c0e2488c7e4f5da4de89379f2087de",
      "bba9944b17ed42c6bb7c7a41a57d5f32",
      "2665d51083e2495bb59f1cbfceb94cb1",
      "fb98c3946c3a447e8aea928fcd60787f",
      "f48438770cc2493c98dd287c42a3a8d1",
      "964be5aed4bb42fb9f1954cc31c78f44",
      "4ccb577ea8c4496f8f5da7fdb925b598",
      "5aa01c5c96484549aacd377f3a017faa",
      "dda260a25b174799a87bcec9ce7d5fb3",
      "0426dfb932f34544b41a713341f72a66",
      "9358dac6728749958658d9fdad894be5",
      "b20ebae009a043e589d85a01f86769c6",
      "9eb1877f49dc4fa4a1b04c7008db029d",
      "1aa1af45996b48019c8edfc5b6680c93",
      "18a058fbe9de43b8bcbbd8a9c59dfa88",
      "7ce3f1d752e346eeaa1271f5240ea2de",
      "d74668b6b570463baf4864f7c3c623a4",
      "8591a0fd56c847698965b03eb9b27c52",
      "fd9739bca498421cb1ce14f41acc0989",
      "2e022f78c0bb4beaa5f8adcc771b05cd",
      "37e7c6e7381d400cb5a7a1cfb07ee5a3"
     ]
    },
    "colab_type": "code",
    "id": "MRCld7Egl7Km",
    "outputId": "98900edc-a085-4483-9d4f-69201cbfbeed"
   },
   "outputs": [],
   "source": [
    "# what probably makes more sense to use in this setting\n",
    "from transformers import DistilBertModel, DistilBertTokenizer\n",
    "MODEL_NAME = 'distilbert-base-uncased'\n",
    "# Load pre-trained model\n",
    "distil_model = DistilBertModel.from_pretrained(MODEL_NAME)\n",
    "# Load pre-trained model tokenizer (vocabulary)\n",
    "distil_tokenizer = DistilBertTokenizer.from_pretrained(MODEL_NAME)"
   ]
  },
  {
   "cell_type": "code",
   "execution_count": null,
   "metadata": {
    "colab": {},
    "colab_type": "code",
    "id": "fEsr6N_3l7Kn"
   },
   "outputs": [],
   "source": [
    "%%time\n",
    "# one dimension of difference: speed\n",
    "samp_reviews = reviews['review_text'].sample(frac=0.001)\n",
    "tokens = tokenizer.batch_encode_plus(samp_reviews,\n",
    "  pad_to_max_length=True, return_tensors=\"pt\", \n",
    "  max_length=512) # BERT expects sequences of 512 tokens\n",
    "outputs = model(**tokens)"
   ]
  },
  {
   "cell_type": "code",
   "execution_count": null,
   "metadata": {
    "colab": {},
    "colab_type": "code",
    "id": "bGS6msmVl7Kq"
   },
   "outputs": [],
   "source": [
    "%%time\n",
    "samp_reviews = reviews['review_text'].sample(frac=0.01)\n",
    "tokens = distil_tokenizer.batch_encode_plus(samp_reviews,\n",
    "  pad_to_max_length=True, return_tensors=\"pt\", \n",
    "  max_length=512) # BERT expects sequences of 512 tokens\n",
    "distil_outputs = distil_model(**tokens)"
   ]
  },
  {
   "cell_type": "markdown",
   "metadata": {
    "colab_type": "text",
    "id": "eiUBhD7Fl7Ks"
   },
   "source": [
    "We can see here the difference between some of the models out there.  Some will take many hours to run our data through (if we can even do so without crashing the machine!).  BERT is not really designed for CPU work.  It's also not really designed to give document-level representations because it's trained on sentences.\n",
    "\n",
    "Luckily, on Collaboratory, we get access to a GPU, which speeds things up a bit."
   ]
  },
  {
   "cell_type": "code",
   "execution_count": null,
   "metadata": {
    "colab": {
     "base_uri": "https://localhost:8080/",
     "height": 1000
    },
    "colab_type": "code",
    "id": "bKXJo9ZRl7Ks",
    "outputId": "f6cf4d12-37dd-40df-9cef-2365ea0bb462"
   },
   "outputs": [],
   "source": [
    "# pass model to GPU\n",
    "distil_model.to(device)"
   ]
  },
  {
   "cell_type": "code",
   "execution_count": null,
   "metadata": {
    "colab": {},
    "colab_type": "code",
    "id": "0noZPlLll7Kv"
   },
   "outputs": [],
   "source": [
    "# here we're doing small batches to the model on GPU, we'll load the product of this process later\n",
    "# The model itself takes up a LOT of memory, so we're passing very small batches\n",
    "# note here: You may run out of RAM if you try and run this along with all the above.\n",
    "st = 0\n",
    "batch_size = 5\n",
    "batches = list(range(batch_size, len(reviews), batch_size))+[len(reviews)]\n",
    "doc_rep_collector = []\n",
    "for b in batches:\n",
    "    tokens = distil_tokenizer.batch_encode_plus(\n",
    "        reviews['review_text'][st:b],\n",
    "        pad_to_max_length=True, \n",
    "        return_tensors=\"pt\",\n",
    "        max_length=512)\n",
    "    st = b\n",
    "    tokens.to(device)\n",
    "    outputs = distil_model(**tokens)\n",
    "    # taking the representation of the 'CLS' token (doc-level embedding)\n",
    "    o = outputs[0][:,0].cpu().detach().numpy()\n",
    "    doc_rep_collector.append(o)\n",
    "\n",
    "# stack into array\n",
    "doc_rep_collector = np.concatenate(doc_rep_collector)\n",
    "# to minimize size, can store as 16-bit float\n",
    "doc_rep_collector = doc_rep_collector.astype('float16')\n",
    "# additionally, will store as gzip (pandas can handle this)\n",
    "import gzip\n",
    "pickle.dump(doc_rep_collector, gzip.open('review_bert_vectors.pkl.gz', 'wb'))"
   ]
  },
  {
   "cell_type": "code",
   "execution_count": null,
   "metadata": {
    "colab": {
     "base_uri": "https://localhost:8080/",
     "height": 34
    },
    "colab_type": "code",
    "id": "GWEwZNjkl7LF",
    "outputId": "38500194-97f5-4ebd-c146-7ad58a05facc"
   },
   "outputs": [],
   "source": [
    "# bringing this portion down here: often running out of RAM on standard runtimes\n",
    "reviews = pd.read_pickle('../data/spoilers_reviews.pkl.gz')\n",
    "np.random.seed(seed=42)\n",
    "# Will use 70/15/15 train/validation/test\n",
    "pct_train = 0.7\n",
    "pct_val = 0.15\n",
    "pct_test = 1-pct_train-pct_val\n",
    "draws = np.random.random(len(reviews))\n",
    "train_bool = draws<=pct_train\n",
    "val_bool = (draws>pct_train)&(draws<=pct_train+pct_val)\n",
    "test_bool = (draws>pct_train+pct_val)&(draws<=pct_train+pct_val+pct_test)\n",
    "train = reviews[train_bool]\n",
    "val = reviews[val_bool]\n",
    "test = reviews[test_bool]\n",
    "print(train.shape, val.shape, test.shape)"
   ]
  },
  {
   "cell_type": "code",
   "execution_count": null,
   "metadata": {
    "colab": {
     "base_uri": "https://localhost:8080/",
     "height": 34
    },
    "colab_type": "code",
    "id": "TUt2g4GVMEM4",
    "outputId": "67002ffd-e503-4634-8d4f-ff788c8cb6c9"
   },
   "outputs": [],
   "source": [
    "# using BERT representations for prediction\n",
    "bert_vectors = pd.read_pickle('../data/review_bert_vectors.pkl.gz')\n",
    "print(bert_vectors.shape)"
   ]
  },
  {
   "cell_type": "code",
   "execution_count": null,
   "metadata": {
    "colab": {
     "base_uri": "https://localhost:8080/",
     "height": 105
    },
    "colab_type": "code",
    "id": "kF6oAIzvK_PB",
    "outputId": "52b79753-2148-4706-9213-89d6c2ef82fe"
   },
   "outputs": [],
   "source": [
    "svc = LinearSVC()\n",
    "svc.fit(bert_vectors[train_bool], train.is_spoiler)\n",
    "for b in [train_bool, val_bool]:\n",
    "    actual = reviews[b].is_spoiler\n",
    "    pred = svc.predict(bert_vectors[b])\n",
    "    print(accuracy_score(actual, pred))"
   ]
  },
  {
   "cell_type": "markdown",
   "metadata": {
    "colab_type": "text",
    "id": "iWSdZH67l7K0"
   },
   "source": [
    "This is bonus, but SpaCy also has an implementation of transformers.  I haven't set it up on GPU, but feel free to try this out.  It gives you similar objects to those we're used to working with out of SpaCy.  However, it has some compatibility issues with the `transformers` library (specifically, it requires transformers 2.0)."
   ]
  },
  {
   "cell_type": "code",
   "execution_count": null,
   "metadata": {
    "colab": {},
    "colab_type": "code",
    "id": "sxsHhmK7l7K0",
    "outputId": "f04521c4-ed44-4a91-ea9a-b5d567b6fb97"
   },
   "outputs": [],
   "source": [
    "# this is what we might refer to as \"tech debt\"\n",
    "# for spacy-transformers, you'll need a different version of transformers\n",
    "!pip uninstall -y transformers\n",
    "# after running this, you may need to restart the runtime/kernel\n",
    "!python -m spacy download en_trf_distilbertbaseuncased_lg\n",
    "# if running on collaboratory, you'll have to run these as well\n",
    "!pip install spacy\n",
    "!pip install spacy-transformers\n",
    "# definitely makes sense to restart the runtime/kernel if you're running these"
   ]
  },
  {
   "cell_type": "code",
   "execution_count": null,
   "metadata": {
    "colab": {},
    "colab_type": "code",
    "id": "VzBibD-3l7K2"
   },
   "outputs": [],
   "source": [
    "import spacy\n",
    "nlp = spacy.load(\"en_trf_distilbertbaseuncased_lg\")"
   ]
  },
  {
   "cell_type": "code",
   "execution_count": null,
   "metadata": {
    "colab": {},
    "colab_type": "code",
    "id": "3kqsD66nl7K5"
   },
   "outputs": [],
   "source": [
    "%%time\n",
    "samp_reviews = reviews['review_text'].sample(frac=0.001)\n",
    "parsed = [nlp(doc) for doc in samp_reviews]"
   ]
  },
  {
   "cell_type": "markdown",
   "metadata": {
    "colab_type": "text",
    "id": "-Bxw_VzGl7K7"
   },
   "source": [
    "In the snippet below, I run the dataset iteratively through DistilBERT, retrieving the representation of the [CLS] token.  This takes a while to run, so we'll just be loading the product of that."
   ]
  },
  {
   "cell_type": "code",
   "execution_count": null,
   "metadata": {
    "colab": {},
    "colab_type": "code",
    "id": "hsVgRe7Tl7K8"
   },
   "outputs": [],
   "source": [
    "st = 0\n",
    "batch_size = 5\n",
    "batches = list(range(batch_size, len(reviews), batch_size))+[len(reviews)]\n",
    "doc_rep_collector = []\n",
    "for b in batches:\n",
    "    cls_rep = [nlp(x)._.trf_last_hidden_state[0] for x in reviews['review_text'][st:b]]\n",
    "    st = b\n",
    "    doc_rep_collector.append(cls_rep)\n",
    "\n",
    "# stack into array\n",
    "doc_rep_collector = np.concatenate(doc_rep_collector)\n",
    "pickle.dump(doc_rep_collector, open('review_bert_vectors.pkl', 'wb'))"
   ]
  },
  {
   "cell_type": "code",
   "execution_count": null,
   "metadata": {
    "colab": {},
    "colab_type": "code",
    "id": "SHeO-oxtl7LH"
   },
   "outputs": [],
   "source": []
  }
 ],
 "metadata": {
  "accelerator": "GPU",
  "colab": {
   "collapsed_sections": [],
   "name": "week_5_scoping.ipynb",
   "provenance": []
  },
  "kernelspec": {
   "display_name": "Python 3",
   "language": "python",
   "name": "python3"
  },
  "language_info": {
   "codemirror_mode": {
    "name": "ipython",
    "version": 3
   },
   "file_extension": ".py",
   "mimetype": "text/x-python",
   "name": "python",
   "nbconvert_exporter": "python",
   "pygments_lexer": "ipython3",
   "version": "3.7.6"
  },
  "widgets": {
   "application/vnd.jupyter.widget-state+json": {
    "0426dfb932f34544b41a713341f72a66": {
     "model_module": "@jupyter-widgets/controls",
     "model_name": "ProgressStyleModel",
     "state": {
      "_model_module": "@jupyter-widgets/controls",
      "_model_module_version": "1.5.0",
      "_model_name": "ProgressStyleModel",
      "_view_count": null,
      "_view_module": "@jupyter-widgets/base",
      "_view_module_version": "1.2.0",
      "_view_name": "StyleView",
      "bar_color": null,
      "description_width": "initial"
     }
    },
    "113785db3fff4cebb333547def6a3e7e": {
     "model_module": "@jupyter-widgets/controls",
     "model_name": "HBoxModel",
     "state": {
      "_dom_classes": [],
      "_model_module": "@jupyter-widgets/controls",
      "_model_module_version": "1.5.0",
      "_model_name": "HBoxModel",
      "_view_count": null,
      "_view_module": "@jupyter-widgets/controls",
      "_view_module_version": "1.5.0",
      "_view_name": "HBoxView",
      "box_style": "",
      "children": [
       "IPY_MODEL_250a5b33586e446aa854e931897262b1",
       "IPY_MODEL_32c0e2488c7e4f5da4de89379f2087de"
      ],
      "layout": "IPY_MODEL_a48d098fd5f84b69bd48f781a30cd9cf"
     }
    },
    "18a058fbe9de43b8bcbbd8a9c59dfa88": {
     "model_module": "@jupyter-widgets/base",
     "model_name": "LayoutModel",
     "state": {
      "_model_module": "@jupyter-widgets/base",
      "_model_module_version": "1.2.0",
      "_model_name": "LayoutModel",
      "_view_count": null,
      "_view_module": "@jupyter-widgets/base",
      "_view_module_version": "1.2.0",
      "_view_name": "LayoutView",
      "align_content": null,
      "align_items": null,
      "align_self": null,
      "border": null,
      "bottom": null,
      "display": null,
      "flex": null,
      "flex_flow": null,
      "grid_area": null,
      "grid_auto_columns": null,
      "grid_auto_flow": null,
      "grid_auto_rows": null,
      "grid_column": null,
      "grid_gap": null,
      "grid_row": null,
      "grid_template_areas": null,
      "grid_template_columns": null,
      "grid_template_rows": null,
      "height": null,
      "justify_content": null,
      "justify_items": null,
      "left": null,
      "margin": null,
      "max_height": null,
      "max_width": null,
      "min_height": null,
      "min_width": null,
      "object_fit": null,
      "object_position": null,
      "order": null,
      "overflow": null,
      "overflow_x": null,
      "overflow_y": null,
      "padding": null,
      "right": null,
      "top": null,
      "visibility": null,
      "width": null
     }
    },
    "1aa1af45996b48019c8edfc5b6680c93": {
     "model_module": "@jupyter-widgets/controls",
     "model_name": "HBoxModel",
     "state": {
      "_dom_classes": [],
      "_model_module": "@jupyter-widgets/controls",
      "_model_module_version": "1.5.0",
      "_model_name": "HBoxModel",
      "_view_count": null,
      "_view_module": "@jupyter-widgets/controls",
      "_view_module_version": "1.5.0",
      "_view_name": "HBoxView",
      "box_style": "",
      "children": [
       "IPY_MODEL_7ce3f1d752e346eeaa1271f5240ea2de",
       "IPY_MODEL_d74668b6b570463baf4864f7c3c623a4"
      ],
      "layout": "IPY_MODEL_18a058fbe9de43b8bcbbd8a9c59dfa88"
     }
    },
    "250a5b33586e446aa854e931897262b1": {
     "model_module": "@jupyter-widgets/controls",
     "model_name": "FloatProgressModel",
     "state": {
      "_dom_classes": [],
      "_model_module": "@jupyter-widgets/controls",
      "_model_module_version": "1.5.0",
      "_model_name": "FloatProgressModel",
      "_view_count": null,
      "_view_module": "@jupyter-widgets/controls",
      "_view_module_version": "1.5.0",
      "_view_name": "ProgressView",
      "bar_style": "success",
      "description": "Downloading: 100%",
      "description_tooltip": null,
      "layout": "IPY_MODEL_2665d51083e2495bb59f1cbfceb94cb1",
      "max": 442,
      "min": 0,
      "orientation": "horizontal",
      "style": "IPY_MODEL_bba9944b17ed42c6bb7c7a41a57d5f32",
      "value": 442
     }
    },
    "2665d51083e2495bb59f1cbfceb94cb1": {
     "model_module": "@jupyter-widgets/base",
     "model_name": "LayoutModel",
     "state": {
      "_model_module": "@jupyter-widgets/base",
      "_model_module_version": "1.2.0",
      "_model_name": "LayoutModel",
      "_view_count": null,
      "_view_module": "@jupyter-widgets/base",
      "_view_module_version": "1.2.0",
      "_view_name": "LayoutView",
      "align_content": null,
      "align_items": null,
      "align_self": null,
      "border": null,
      "bottom": null,
      "display": null,
      "flex": null,
      "flex_flow": null,
      "grid_area": null,
      "grid_auto_columns": null,
      "grid_auto_flow": null,
      "grid_auto_rows": null,
      "grid_column": null,
      "grid_gap": null,
      "grid_row": null,
      "grid_template_areas": null,
      "grid_template_columns": null,
      "grid_template_rows": null,
      "height": null,
      "justify_content": null,
      "justify_items": null,
      "left": null,
      "margin": null,
      "max_height": null,
      "max_width": null,
      "min_height": null,
      "min_width": null,
      "object_fit": null,
      "object_position": null,
      "order": null,
      "overflow": null,
      "overflow_x": null,
      "overflow_y": null,
      "padding": null,
      "right": null,
      "top": null,
      "visibility": null,
      "width": null
     }
    },
    "2e022f78c0bb4beaa5f8adcc771b05cd": {
     "model_module": "@jupyter-widgets/controls",
     "model_name": "DescriptionStyleModel",
     "state": {
      "_model_module": "@jupyter-widgets/controls",
      "_model_module_version": "1.5.0",
      "_model_name": "DescriptionStyleModel",
      "_view_count": null,
      "_view_module": "@jupyter-widgets/base",
      "_view_module_version": "1.2.0",
      "_view_name": "StyleView",
      "description_width": ""
     }
    },
    "32c0e2488c7e4f5da4de89379f2087de": {
     "model_module": "@jupyter-widgets/controls",
     "model_name": "HTMLModel",
     "state": {
      "_dom_classes": [],
      "_model_module": "@jupyter-widgets/controls",
      "_model_module_version": "1.5.0",
      "_model_name": "HTMLModel",
      "_view_count": null,
      "_view_module": "@jupyter-widgets/controls",
      "_view_module_version": "1.5.0",
      "_view_name": "HTMLView",
      "description": "",
      "description_tooltip": null,
      "layout": "IPY_MODEL_f48438770cc2493c98dd287c42a3a8d1",
      "placeholder": "​",
      "style": "IPY_MODEL_fb98c3946c3a447e8aea928fcd60787f",
      "value": " 442/442 [00:12&lt;00:00, 34.8B/s]"
     }
    },
    "37e7c6e7381d400cb5a7a1cfb07ee5a3": {
     "model_module": "@jupyter-widgets/base",
     "model_name": "LayoutModel",
     "state": {
      "_model_module": "@jupyter-widgets/base",
      "_model_module_version": "1.2.0",
      "_model_name": "LayoutModel",
      "_view_count": null,
      "_view_module": "@jupyter-widgets/base",
      "_view_module_version": "1.2.0",
      "_view_name": "LayoutView",
      "align_content": null,
      "align_items": null,
      "align_self": null,
      "border": null,
      "bottom": null,
      "display": null,
      "flex": null,
      "flex_flow": null,
      "grid_area": null,
      "grid_auto_columns": null,
      "grid_auto_flow": null,
      "grid_auto_rows": null,
      "grid_column": null,
      "grid_gap": null,
      "grid_row": null,
      "grid_template_areas": null,
      "grid_template_columns": null,
      "grid_template_rows": null,
      "height": null,
      "justify_content": null,
      "justify_items": null,
      "left": null,
      "margin": null,
      "max_height": null,
      "max_width": null,
      "min_height": null,
      "min_width": null,
      "object_fit": null,
      "object_position": null,
      "order": null,
      "overflow": null,
      "overflow_x": null,
      "overflow_y": null,
      "padding": null,
      "right": null,
      "top": null,
      "visibility": null,
      "width": null
     }
    },
    "4ccb577ea8c4496f8f5da7fdb925b598": {
     "model_module": "@jupyter-widgets/base",
     "model_name": "LayoutModel",
     "state": {
      "_model_module": "@jupyter-widgets/base",
      "_model_module_version": "1.2.0",
      "_model_name": "LayoutModel",
      "_view_count": null,
      "_view_module": "@jupyter-widgets/base",
      "_view_module_version": "1.2.0",
      "_view_name": "LayoutView",
      "align_content": null,
      "align_items": null,
      "align_self": null,
      "border": null,
      "bottom": null,
      "display": null,
      "flex": null,
      "flex_flow": null,
      "grid_area": null,
      "grid_auto_columns": null,
      "grid_auto_flow": null,
      "grid_auto_rows": null,
      "grid_column": null,
      "grid_gap": null,
      "grid_row": null,
      "grid_template_areas": null,
      "grid_template_columns": null,
      "grid_template_rows": null,
      "height": null,
      "justify_content": null,
      "justify_items": null,
      "left": null,
      "margin": null,
      "max_height": null,
      "max_width": null,
      "min_height": null,
      "min_width": null,
      "object_fit": null,
      "object_position": null,
      "order": null,
      "overflow": null,
      "overflow_x": null,
      "overflow_y": null,
      "padding": null,
      "right": null,
      "top": null,
      "visibility": null,
      "width": null
     }
    },
    "5aa01c5c96484549aacd377f3a017faa": {
     "model_module": "@jupyter-widgets/controls",
     "model_name": "FloatProgressModel",
     "state": {
      "_dom_classes": [],
      "_model_module": "@jupyter-widgets/controls",
      "_model_module_version": "1.5.0",
      "_model_name": "FloatProgressModel",
      "_view_count": null,
      "_view_module": "@jupyter-widgets/controls",
      "_view_module_version": "1.5.0",
      "_view_name": "ProgressView",
      "bar_style": "success",
      "description": "Downloading: 100%",
      "description_tooltip": null,
      "layout": "IPY_MODEL_9358dac6728749958658d9fdad894be5",
      "max": 267967963,
      "min": 0,
      "orientation": "horizontal",
      "style": "IPY_MODEL_0426dfb932f34544b41a713341f72a66",
      "value": 267967963
     }
    },
    "7ce3f1d752e346eeaa1271f5240ea2de": {
     "model_module": "@jupyter-widgets/controls",
     "model_name": "FloatProgressModel",
     "state": {
      "_dom_classes": [],
      "_model_module": "@jupyter-widgets/controls",
      "_model_module_version": "1.5.0",
      "_model_name": "FloatProgressModel",
      "_view_count": null,
      "_view_module": "@jupyter-widgets/controls",
      "_view_module_version": "1.5.0",
      "_view_name": "ProgressView",
      "bar_style": "success",
      "description": "Downloading: 100%",
      "description_tooltip": null,
      "layout": "IPY_MODEL_fd9739bca498421cb1ce14f41acc0989",
      "max": 231508,
      "min": 0,
      "orientation": "horizontal",
      "style": "IPY_MODEL_8591a0fd56c847698965b03eb9b27c52",
      "value": 231508
     }
    },
    "8591a0fd56c847698965b03eb9b27c52": {
     "model_module": "@jupyter-widgets/controls",
     "model_name": "ProgressStyleModel",
     "state": {
      "_model_module": "@jupyter-widgets/controls",
      "_model_module_version": "1.5.0",
      "_model_name": "ProgressStyleModel",
      "_view_count": null,
      "_view_module": "@jupyter-widgets/base",
      "_view_module_version": "1.2.0",
      "_view_name": "StyleView",
      "bar_color": null,
      "description_width": "initial"
     }
    },
    "9358dac6728749958658d9fdad894be5": {
     "model_module": "@jupyter-widgets/base",
     "model_name": "LayoutModel",
     "state": {
      "_model_module": "@jupyter-widgets/base",
      "_model_module_version": "1.2.0",
      "_model_name": "LayoutModel",
      "_view_count": null,
      "_view_module": "@jupyter-widgets/base",
      "_view_module_version": "1.2.0",
      "_view_name": "LayoutView",
      "align_content": null,
      "align_items": null,
      "align_self": null,
      "border": null,
      "bottom": null,
      "display": null,
      "flex": null,
      "flex_flow": null,
      "grid_area": null,
      "grid_auto_columns": null,
      "grid_auto_flow": null,
      "grid_auto_rows": null,
      "grid_column": null,
      "grid_gap": null,
      "grid_row": null,
      "grid_template_areas": null,
      "grid_template_columns": null,
      "grid_template_rows": null,
      "height": null,
      "justify_content": null,
      "justify_items": null,
      "left": null,
      "margin": null,
      "max_height": null,
      "max_width": null,
      "min_height": null,
      "min_width": null,
      "object_fit": null,
      "object_position": null,
      "order": null,
      "overflow": null,
      "overflow_x": null,
      "overflow_y": null,
      "padding": null,
      "right": null,
      "top": null,
      "visibility": null,
      "width": null
     }
    },
    "964be5aed4bb42fb9f1954cc31c78f44": {
     "model_module": "@jupyter-widgets/controls",
     "model_name": "HBoxModel",
     "state": {
      "_dom_classes": [],
      "_model_module": "@jupyter-widgets/controls",
      "_model_module_version": "1.5.0",
      "_model_name": "HBoxModel",
      "_view_count": null,
      "_view_module": "@jupyter-widgets/controls",
      "_view_module_version": "1.5.0",
      "_view_name": "HBoxView",
      "box_style": "",
      "children": [
       "IPY_MODEL_5aa01c5c96484549aacd377f3a017faa",
       "IPY_MODEL_dda260a25b174799a87bcec9ce7d5fb3"
      ],
      "layout": "IPY_MODEL_4ccb577ea8c4496f8f5da7fdb925b598"
     }
    },
    "9eb1877f49dc4fa4a1b04c7008db029d": {
     "model_module": "@jupyter-widgets/base",
     "model_name": "LayoutModel",
     "state": {
      "_model_module": "@jupyter-widgets/base",
      "_model_module_version": "1.2.0",
      "_model_name": "LayoutModel",
      "_view_count": null,
      "_view_module": "@jupyter-widgets/base",
      "_view_module_version": "1.2.0",
      "_view_name": "LayoutView",
      "align_content": null,
      "align_items": null,
      "align_self": null,
      "border": null,
      "bottom": null,
      "display": null,
      "flex": null,
      "flex_flow": null,
      "grid_area": null,
      "grid_auto_columns": null,
      "grid_auto_flow": null,
      "grid_auto_rows": null,
      "grid_column": null,
      "grid_gap": null,
      "grid_row": null,
      "grid_template_areas": null,
      "grid_template_columns": null,
      "grid_template_rows": null,
      "height": null,
      "justify_content": null,
      "justify_items": null,
      "left": null,
      "margin": null,
      "max_height": null,
      "max_width": null,
      "min_height": null,
      "min_width": null,
      "object_fit": null,
      "object_position": null,
      "order": null,
      "overflow": null,
      "overflow_x": null,
      "overflow_y": null,
      "padding": null,
      "right": null,
      "top": null,
      "visibility": null,
      "width": null
     }
    },
    "a48d098fd5f84b69bd48f781a30cd9cf": {
     "model_module": "@jupyter-widgets/base",
     "model_name": "LayoutModel",
     "state": {
      "_model_module": "@jupyter-widgets/base",
      "_model_module_version": "1.2.0",
      "_model_name": "LayoutModel",
      "_view_count": null,
      "_view_module": "@jupyter-widgets/base",
      "_view_module_version": "1.2.0",
      "_view_name": "LayoutView",
      "align_content": null,
      "align_items": null,
      "align_self": null,
      "border": null,
      "bottom": null,
      "display": null,
      "flex": null,
      "flex_flow": null,
      "grid_area": null,
      "grid_auto_columns": null,
      "grid_auto_flow": null,
      "grid_auto_rows": null,
      "grid_column": null,
      "grid_gap": null,
      "grid_row": null,
      "grid_template_areas": null,
      "grid_template_columns": null,
      "grid_template_rows": null,
      "height": null,
      "justify_content": null,
      "justify_items": null,
      "left": null,
      "margin": null,
      "max_height": null,
      "max_width": null,
      "min_height": null,
      "min_width": null,
      "object_fit": null,
      "object_position": null,
      "order": null,
      "overflow": null,
      "overflow_x": null,
      "overflow_y": null,
      "padding": null,
      "right": null,
      "top": null,
      "visibility": null,
      "width": null
     }
    },
    "b20ebae009a043e589d85a01f86769c6": {
     "model_module": "@jupyter-widgets/controls",
     "model_name": "DescriptionStyleModel",
     "state": {
      "_model_module": "@jupyter-widgets/controls",
      "_model_module_version": "1.5.0",
      "_model_name": "DescriptionStyleModel",
      "_view_count": null,
      "_view_module": "@jupyter-widgets/base",
      "_view_module_version": "1.2.0",
      "_view_name": "StyleView",
      "description_width": ""
     }
    },
    "bba9944b17ed42c6bb7c7a41a57d5f32": {
     "model_module": "@jupyter-widgets/controls",
     "model_name": "ProgressStyleModel",
     "state": {
      "_model_module": "@jupyter-widgets/controls",
      "_model_module_version": "1.5.0",
      "_model_name": "ProgressStyleModel",
      "_view_count": null,
      "_view_module": "@jupyter-widgets/base",
      "_view_module_version": "1.2.0",
      "_view_name": "StyleView",
      "bar_color": null,
      "description_width": "initial"
     }
    },
    "d74668b6b570463baf4864f7c3c623a4": {
     "model_module": "@jupyter-widgets/controls",
     "model_name": "HTMLModel",
     "state": {
      "_dom_classes": [],
      "_model_module": "@jupyter-widgets/controls",
      "_model_module_version": "1.5.0",
      "_model_name": "HTMLModel",
      "_view_count": null,
      "_view_module": "@jupyter-widgets/controls",
      "_view_module_version": "1.5.0",
      "_view_name": "HTMLView",
      "description": "",
      "description_tooltip": null,
      "layout": "IPY_MODEL_37e7c6e7381d400cb5a7a1cfb07ee5a3",
      "placeholder": "​",
      "style": "IPY_MODEL_2e022f78c0bb4beaa5f8adcc771b05cd",
      "value": " 232k/232k [00:00&lt;00:00, 693kB/s]"
     }
    },
    "dda260a25b174799a87bcec9ce7d5fb3": {
     "model_module": "@jupyter-widgets/controls",
     "model_name": "HTMLModel",
     "state": {
      "_dom_classes": [],
      "_model_module": "@jupyter-widgets/controls",
      "_model_module_version": "1.5.0",
      "_model_name": "HTMLModel",
      "_view_count": null,
      "_view_module": "@jupyter-widgets/controls",
      "_view_module_version": "1.5.0",
      "_view_name": "HTMLView",
      "description": "",
      "description_tooltip": null,
      "layout": "IPY_MODEL_9eb1877f49dc4fa4a1b04c7008db029d",
      "placeholder": "​",
      "style": "IPY_MODEL_b20ebae009a043e589d85a01f86769c6",
      "value": " 268M/268M [00:09&lt;00:00, 27.4MB/s]"
     }
    },
    "f48438770cc2493c98dd287c42a3a8d1": {
     "model_module": "@jupyter-widgets/base",
     "model_name": "LayoutModel",
     "state": {
      "_model_module": "@jupyter-widgets/base",
      "_model_module_version": "1.2.0",
      "_model_name": "LayoutModel",
      "_view_count": null,
      "_view_module": "@jupyter-widgets/base",
      "_view_module_version": "1.2.0",
      "_view_name": "LayoutView",
      "align_content": null,
      "align_items": null,
      "align_self": null,
      "border": null,
      "bottom": null,
      "display": null,
      "flex": null,
      "flex_flow": null,
      "grid_area": null,
      "grid_auto_columns": null,
      "grid_auto_flow": null,
      "grid_auto_rows": null,
      "grid_column": null,
      "grid_gap": null,
      "grid_row": null,
      "grid_template_areas": null,
      "grid_template_columns": null,
      "grid_template_rows": null,
      "height": null,
      "justify_content": null,
      "justify_items": null,
      "left": null,
      "margin": null,
      "max_height": null,
      "max_width": null,
      "min_height": null,
      "min_width": null,
      "object_fit": null,
      "object_position": null,
      "order": null,
      "overflow": null,
      "overflow_x": null,
      "overflow_y": null,
      "padding": null,
      "right": null,
      "top": null,
      "visibility": null,
      "width": null
     }
    },
    "fb98c3946c3a447e8aea928fcd60787f": {
     "model_module": "@jupyter-widgets/controls",
     "model_name": "DescriptionStyleModel",
     "state": {
      "_model_module": "@jupyter-widgets/controls",
      "_model_module_version": "1.5.0",
      "_model_name": "DescriptionStyleModel",
      "_view_count": null,
      "_view_module": "@jupyter-widgets/base",
      "_view_module_version": "1.2.0",
      "_view_name": "StyleView",
      "description_width": ""
     }
    },
    "fd9739bca498421cb1ce14f41acc0989": {
     "model_module": "@jupyter-widgets/base",
     "model_name": "LayoutModel",
     "state": {
      "_model_module": "@jupyter-widgets/base",
      "_model_module_version": "1.2.0",
      "_model_name": "LayoutModel",
      "_view_count": null,
      "_view_module": "@jupyter-widgets/base",
      "_view_module_version": "1.2.0",
      "_view_name": "LayoutView",
      "align_content": null,
      "align_items": null,
      "align_self": null,
      "border": null,
      "bottom": null,
      "display": null,
      "flex": null,
      "flex_flow": null,
      "grid_area": null,
      "grid_auto_columns": null,
      "grid_auto_flow": null,
      "grid_auto_rows": null,
      "grid_column": null,
      "grid_gap": null,
      "grid_row": null,
      "grid_template_areas": null,
      "grid_template_columns": null,
      "grid_template_rows": null,
      "height": null,
      "justify_content": null,
      "justify_items": null,
      "left": null,
      "margin": null,
      "max_height": null,
      "max_width": null,
      "min_height": null,
      "min_width": null,
      "object_fit": null,
      "object_position": null,
      "order": null,
      "overflow": null,
      "overflow_x": null,
      "overflow_y": null,
      "padding": null,
      "right": null,
      "top": null,
      "visibility": null,
      "width": null
     }
    }
   }
  }
 },
 "nbformat": 4,
 "nbformat_minor": 1
}
