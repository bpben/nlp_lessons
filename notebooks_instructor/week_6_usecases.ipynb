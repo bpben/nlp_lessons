{
 "cells": [
  {
   "cell_type": "markdown",
   "metadata": {
    "colab_type": "text",
    "id": "KD37FKDql7KB"
   },
   "source": [
    "# Week 6: NLP use-cases\n",
    "This notebook accompanies the week 6 lecture.  This week focuses on a set of interesting use-cases in NLP using the techniques we've covered in class"
   ]
  },
  {
   "cell_type": "code",
   "execution_count": 4,
   "metadata": {
    "colab": {},
    "colab_type": "code",
    "id": "OwhFPIGPl7KC"
   },
   "outputs": [
    {
     "name": "stderr",
     "output_type": "stream",
     "text": [
      "I0720 09:28:04.804933 140735234007040 file_utils.py:39] PyTorch version 1.5.1 available.\n"
     ]
    }
   ],
   "source": [
    "# setup\n",
    "import sys\n",
    "import subprocess\n",
    "import pkg_resources\n",
    "from collections import Counter\n",
    "import re\n",
    "import pickle\n",
    "\n",
    "required = {'spacy', 'transformers'}\n",
    "installed = {pkg.key for pkg in pkg_resources.working_set}\n",
    "missing = required - installed\n",
    "\n",
    "if missing:\n",
    "    python = sys.executable\n",
    "    subprocess.check_call([python, '-m', 'pip', 'install', *missing], stdout=subprocess.DEVNULL)\n",
    "\n",
    "import json\n",
    "import numpy as np\n",
    "import pandas as pd\n",
    "import spacy\n",
    "from spacy.matcher import Matcher, PhraseMatcher\n",
    "from sklearn.metrics import accuracy_score\n",
    "from sklearn.metrics.pairwise import cosine_similarity\n",
    "from sklearn.feature_extraction.text import TfidfVectorizer\n",
    "from sklearn.decomposition import NMF\n",
    "from sklearn.svm import LinearSVC\n",
    "from sklearn.cluster import KMeans\n",
    "import torch\n",
    "import torch.nn as nn\n",
    "from torch.utils.data import TensorDataset, DataLoader\n",
    "import transformers\n",
    "# this will set the device on which to train\n",
    "device = torch.device(\"cpu\")\n",
    "# if using collab, set your runtime to use GPU and use the line below\n",
    "#device = torch.device(\"cuda:0\")"
   ]
  },
  {
   "cell_type": "markdown",
   "metadata": {
    "colab_type": "text",
    "id": "_J1R3hdWl7KI"
   },
   "source": [
    "## Unsupervised use-case: Movie genre \"clusters\"\n",
    "Though we've dealt with several labelled datasets in our class, for the most part you will not have the advantage of labels on your dataset.  However, with the techniques we've covered, we can create informative groupings that may provide answers to some questions or facilitate labeling."
   ]
  },
  {
   "cell_type": "code",
   "execution_count": 132,
   "metadata": {},
   "outputs": [],
   "source": [
    "# read in movie descriptions from spoilers dataset\n",
    "movies = pd.read_pickle('../data/spoilers_movies.pkl.gz')\n",
    "\n",
    "# format a genre dataset, which will allow us to see how well our approach approximates the labelling\n",
    "genres = np.unique(np.concatenate(movies.genre.values))\n",
    "genre_dummies = np.zeros(shape=(len(movies), len(genres)))\n",
    "for i, r in enumerate(movies.genre):\n",
    "    for ii, g in enumerate(genres):\n",
    "        if g in r:\n",
    "            genre_dummies[i, ii] = 1\n",
    "df_genre_dummies = pd.DataFrame(genre_dummies,\n",
    "                               columns=genres,\n",
    "                               index=movies.movie_id)"
   ]
  },
  {
   "cell_type": "markdown",
   "metadata": {},
   "source": [
    "### Exercise: Choose a technique to process movie plot summaries\n",
    "Think about some of the techniques we've already used (e.g. TFIDF, NMF, GloVe embeddings) and choose one for turning the raw summary text into a vector of information"
   ]
  },
  {
   "cell_type": "code",
   "execution_count": 50,
   "metadata": {},
   "outputs": [
    {
     "data": {
      "text/plain": [
       "sam        2\n",
       "gerry      2\n",
       "angels     2\n",
       "fbi        2\n",
       "frank      2\n",
       "beloved    2\n",
       "peter      2\n",
       "alien      2\n",
       "king       2\n",
       "gordon     2\n",
       "dtype: int64"
      ]
     },
     "execution_count": 50,
     "metadata": {},
     "output_type": "execute_result"
    }
   ],
   "source": [
    "# run word counts - TFIDF\n",
    "tfidf = TfidfVectorizer(min_df=0.01, stop_words='english')\n",
    "tfidf_vecs = tfidf.fit_transform(movies.plot_summary)\n",
    "\n",
    "# examine sets of particularly \"informative\" words (i.e. high TF, low DF)\n",
    "tfidf_df = pd.DataFrame(tfidf_vecs.toarray(),\n",
    "            columns=tfidf.get_feature_names())\n",
    "# what's the highest-weighted per movie, look at the top 10\n",
    "tfidf_df.idxmax(axis=1).value_counts()[:10]"
   ]
  },
  {
   "cell_type": "code",
   "execution_count": 51,
   "metadata": {},
   "outputs": [
    {
     "data": {
      "text/html": [
       "<div>\n",
       "<style scoped>\n",
       "    .dataframe tbody tr th:only-of-type {\n",
       "        vertical-align: middle;\n",
       "    }\n",
       "\n",
       "    .dataframe tbody tr th {\n",
       "        vertical-align: top;\n",
       "    }\n",
       "\n",
       "    .dataframe thead th {\n",
       "        text-align: right;\n",
       "    }\n",
       "</style>\n",
       "<table border=\"1\" class=\"dataframe\">\n",
       "  <thead>\n",
       "    <tr style=\"text-align: right;\">\n",
       "      <th></th>\n",
       "      <th>movie_id</th>\n",
       "      <th>plot_summary</th>\n",
       "      <th>duration</th>\n",
       "      <th>genre</th>\n",
       "      <th>rating</th>\n",
       "      <th>release_date</th>\n",
       "      <th>plot_synopsis</th>\n",
       "    </tr>\n",
       "  </thead>\n",
       "  <tbody>\n",
       "    <tr>\n",
       "      <td>1550</td>\n",
       "      <td>tt0103644</td>\n",
       "      <td>After escaping with Newt and Hicks from the mo...</td>\n",
       "      <td>1h 54min</td>\n",
       "      <td>[Action, Horror, Sci-Fi]</td>\n",
       "      <td>6.4</td>\n",
       "      <td>1992-05-22</td>\n",
       "      <td>In the movie's opening credits, the Sulaco, th...</td>\n",
       "    </tr>\n",
       "    <tr>\n",
       "      <td>745</td>\n",
       "      <td>tt0120201</td>\n",
       "      <td>In the distant future high school kids are enc...</td>\n",
       "      <td>2h 9min</td>\n",
       "      <td>[Action, Adventure, Sci-Fi]</td>\n",
       "      <td>7.2</td>\n",
       "      <td>1997-11-07</td>\n",
       "      <td>In the distant future, several hundred years a...</td>\n",
       "    </tr>\n",
       "    <tr>\n",
       "      <td>237</td>\n",
       "      <td>tt0115571</td>\n",
       "      <td>Zane (Charlie Sheen), a young, mild-mannered a...</td>\n",
       "      <td>1h 55min</td>\n",
       "      <td>[Sci-Fi, Thriller]</td>\n",
       "      <td>6.3</td>\n",
       "      <td>1996-05-31</td>\n",
       "      <td>Zane Zaminski (Charlie Sheen), a radio astrono...</td>\n",
       "    </tr>\n",
       "  </tbody>\n",
       "</table>\n",
       "</div>"
      ],
      "text/plain": [
       "       movie_id                                       plot_summary  duration  \\\n",
       "1550  tt0103644  After escaping with Newt and Hicks from the mo...  1h 54min   \n",
       "745   tt0120201  In the distant future high school kids are enc...   2h 9min   \n",
       "237   tt0115571  Zane (Charlie Sheen), a young, mild-mannered a...  1h 55min   \n",
       "\n",
       "                            genre  rating release_date  \\\n",
       "1550     [Action, Horror, Sci-Fi]     6.4   1992-05-22   \n",
       "745   [Action, Adventure, Sci-Fi]     7.2   1997-11-07   \n",
       "237            [Sci-Fi, Thriller]     6.3   1996-05-31   \n",
       "\n",
       "                                          plot_synopsis  \n",
       "1550  In the movie's opening credits, the Sulaco, th...  \n",
       "745   In the distant future, several hundred years a...  \n",
       "237   Zane Zaminski (Charlie Sheen), a radio astrono...  "
      ]
     },
     "execution_count": 51,
     "metadata": {},
     "output_type": "execute_result"
    }
   ],
   "source": [
    "# alien seems pretty distinctive.  I imagine anything that has \"alien\" is probably sci-fi\n",
    "movies[movies.plot_summary.str.find('alien')>-1]"
   ]
  },
  {
   "cell_type": "code",
   "execution_count": 107,
   "metadata": {},
   "outputs": [
    {
     "data": {
      "text/plain": [
       "array([\"Tommy Callahan Jr. is a slow-witted, clumsy guy who recently graduated college after attending for seven years. His father, Big Tom Callahan, owns an auto parts factory in Ohio. When Tommy arrives back home, he finds he has a position at the factory waiting for him. His dad also introduces Tommy to the new brake pad division of the factory and to Tommy's soon-to-be stepmother, Beverly, and her son Paul. But when Big Tom dies, the factory threatens to go under unless the new brake pads are to be sold. Therefore, Tommy must go on the road to sell them, along with the assistance of Richard, Big Tom's right-hand man. Will Tommy save the company, or will the factory, and the town, go under?                Written by\\nAnonymous\",\n",
       "       'New York based jazz pianist Willie Conway heads back to his small hometown of Knights Ridge, Massachusetts for a high school reunion. The trip is as much to go to the reunion and see his old friends - none of whom left Knights Ridge after graduation - as it is to get away from his current life, at which he is at a crossroads both personally and professionally. He is just eking out a living with his piano playing gigs, and as such he is thinking about taking a sales job. He\\'s also not sure if he\\'s ready to marry his long time girlfriend, lawyer Tracy Stover. Most of Willie\\'s Knights Ridge blue collar friends\\' best days were in high school, they still having that \"trophy\" mentality of girlfriends and wives. Only Michael \"Mo\" Morris is happily married with a family. Paul Kirkwood, whose room is plastered with magazine pictures of models, wants his waitress ex-girlfriend Jan back only because he knows now that he can\\'t have her. And Tommy \"Birdman\" Rowland, who was the big man in high ...                Written by\\nHuggo'],\n",
       "      dtype=object)"
      ]
     },
     "execution_count": 107,
     "metadata": {},
     "output_type": "execute_result"
    }
   ],
   "source": [
    "# but a better measure here is comparing vectors\n",
    "tfidf_sim = cosine_similarity(tfidf_df)\n",
    "random_idx = np.random.randint(len(tfidf_sim))\n",
    "# take the most similar for this random idx (aside from self)\n",
    "movies.iloc[[random_idx,\n",
    "            tfidf_sim[random_idx].argsort()[-2]]].plot_summary.values\n",
    "# not clear if this is working, just pairwisw"
   ]
  },
  {
   "cell_type": "code",
   "execution_count": 69,
   "metadata": {},
   "outputs": [
    {
     "name": "stdout",
     "output_type": "stream",
     "text": [
      "Topic 0:\n",
      "family man decides home frank\n",
      "Topic 1:\n",
      "luke han princess leia skywalker\n",
      "Topic 2:\n",
      "life year love old sam\n",
      "Topic 3:\n",
      "ed mindspring esutton sutton man\n",
      "Topic 4:\n",
      "king porthos athos artagnan aramis\n",
      "Topic 5:\n",
      "movie follows film new building\n",
      "Topic 6:\n",
      "war general attack army force\n",
      "Topic 7:\n",
      "bond max jhailey cady hotmail\n",
      "Topic 8:\n",
      "school high friends girl hero\n",
      "Topic 9:\n",
      "gordon team hockey coach win\n"
     ]
    }
   ],
   "source": [
    "# run topic model - NMF\n",
    "n_components = 10\n",
    "nmf = NMF(n_components=n_components)\n",
    "nmf_vecs = nmf.fit_transform(tfidf_vecs)\n",
    "\n",
    "# examine topic model\n",
    "def display_components(model, word_features, top_display=5):\n",
    "    # utility for displaying respresentative words per component for topic models\n",
    "    for topic_idx, topic in enumerate(model.components_):\n",
    "        print(\"Topic %d:\" % (topic_idx))\n",
    "        top_words_idx = topic.argsort()[::-1][:top_display]\n",
    "        top_words = [word_features[i] for i in top_words_idx]\n",
    "        print(\" \".join(top_words))\n",
    "display_components(nmf, tfidf.get_feature_names())\n"
   ]
  },
  {
   "cell_type": "code",
   "execution_count": 66,
   "metadata": {},
   "outputs": [
    {
     "data": {
      "text/plain": [
       "array([\"12-year-old Dre Parker has moved to China, and finds himself like a fish out of water. He befriends a fellow classmate, Mei Ying, only to make a rival, Cheng, who starts to bully and attack Dre. Soon, Mr Han, the maintenance man of Dre's apartment, fends off Cheng and his friends when they are attacking Dre and signs Dre up to fight in the Kung Fu tournament in return for the bullies laying off of Dre. Dre realizes Mr. Han is much more than a maintenance man, when he's revealed as a master of Kung Fu and Dre soon learns that Kung Fu is about self defense and peace, instead of violence and bloodshed.                Written by\\nKennedy\",\n",
       "       'As the Clone Wars sweep through the galaxy, the heroic Jedi Knights struggle to maintain order and restore peace. More and more systems are falling prey to the forces of the dark side as the Galactic Republic slips further and further under the sway of the Separatists and their never-ending droid army. Anakin Skywalker and his Padawan learner Ahsoka Tano find themselves on a mission with far-reaching consequences, one that brings them face-to-face with crime lord Jabba the Hutt. But Count Dooku and his sinister agents, including the nefarious Asajj Ventress, will stop at nothing to ensure that Anakin and Ahsoka fail at their quest. Meanwhile, on the front lines of the Clone Wars, Obi-Wan Kenobi and Master Yoda lead the massive clone army in a valiant effort to resist the forces of the dark side ...                Written by\\nWarner Bros. Pictures',\n",
       "       \"Luke Skywalker, Han Solo, Princess Leia and Chewbacca face attack by the Imperial forces and its AT-AT walkers on the ice planet Hoth. While Han and Leia escape in the Millennium Falcon, Luke travels to Dagobah in search of Yoda. Only with the Jedi master's help will Luke survive when the dark side of the Force beckons him into the ultimate duel with Darth Vader.                Written by\\nJwelch5742\",\n",
       "       'Luke Skywalker battles horrible Jabba the Hut and cruel Darth Vader to save his comrades in the Rebel Alliance and triumph over the Galactic Empire. Han Solo and Princess Leia reaffirm their love and team with Chewbacca, Lando Calrissian, the Ewoks and the androids C-3PO and R2-D2 to aid in the disruption of the Dark Side and the defeat of the evil emperor.                Written by\\nJwelch5742',\n",
       "       'The Imperial Forces, under orders from cruel Darth Vader, hold Princess Leia hostage in their efforts to quell the rebellion against the Galactic Empire. Luke Skywalker and Han Solo, captain of the Millennium Falcon, work together with the companionable droid duo R2-D2 and C-3PO to rescue the beautiful princess, help the Rebel Alliance and restore freedom and justice to the Galaxy.                Written by\\nJwelch5742'],\n",
       "      dtype=object)"
      ]
     },
     "execution_count": 66,
     "metadata": {},
     "output_type": "execute_result"
    }
   ],
   "source": [
    "# i'd imagine  loading on 1 = star wars\n",
    "movies.iloc[np.argsort(nmf_vecs[:, 1])[-5:]].plot_summary.values"
   ]
  },
  {
   "cell_type": "code",
   "execution_count": 110,
   "metadata": {},
   "outputs": [
    {
     "data": {
      "text/plain": [
       "array([\"Luke Skywalker, Han Solo, Princess Leia and Chewbacca face attack by the Imperial forces and its AT-AT walkers on the ice planet Hoth. While Han and Leia escape in the Millennium Falcon, Luke travels to Dagobah in search of Yoda. Only with the Jedi master's help will Luke survive when the dark side of the Force beckons him into the ultimate duel with Darth Vader.                Written by\\nJwelch5742\",\n",
       "       'The Imperial Forces, under orders from cruel Darth Vader, hold Princess Leia hostage in their efforts to quell the rebellion against the Galactic Empire. Luke Skywalker and Han Solo, captain of the Millennium Falcon, work together with the companionable droid duo R2-D2 and C-3PO to rescue the beautiful princess, help the Rebel Alliance and restore freedom and justice to the Galaxy.                Written by\\nJwelch5742'],\n",
       "      dtype=object)"
      ]
     },
     "execution_count": 110,
     "metadata": {},
     "output_type": "execute_result"
    }
   ],
   "source": [
    "# with similarity\n",
    "nmf_sim = cosine_similarity(nmf_vecs)\n",
    "random_idx = np.random.randint(len(nmf_sim))\n",
    "# take the most similar for this random idx (aside from self)\n",
    "movies.iloc[[random_idx,\n",
    "            nmf_sim[random_idx].argsort()[-2]]].plot_summary.values\n",
    "# not clear if this is working, just pairwise"
   ]
  },
  {
   "cell_type": "markdown",
   "metadata": {},
   "source": [
    "So far we've been looking at different slices of these models/heuristics.  But the purpose, as we've covered before, is to go from unstructured text and a lot of noise, to distilled representations.  In SVM models, we used the representations as input and trained weights on each dimension.  In clustering, we'll be embedding our text in \"representation space\" and grouping those representations.\n",
    "\n",
    "The method we're using here is called K-Means clustering.  Refer to the slides for an explanation.  Suffice to say here, it's a fairly simple method for creating those groups."
   ]
  },
  {
   "cell_type": "code",
   "execution_count": 141,
   "metadata": {},
   "outputs": [
    {
     "name": "stdout",
     "output_type": "stream",
     "text": [
      "Inertia (Sum of squared distances to cluster center): 7.561936280646607\n"
     ]
    }
   ],
   "source": [
    "# clustering K-means\n",
    "clusterer = KMeans(n_clusters=5)\n",
    "clusterer.fit(nmf_vecs)\n",
    "cluster_preds = clusterer.predict(nmf_vecs)\n",
    "\n",
    "# how well did our clustering do\n",
    "print('Inertia (Sum of squared distances to cluster center):', clusterer.inertia_)"
   ]
  },
  {
   "cell_type": "code",
   "execution_count": 181,
   "metadata": {},
   "outputs": [
    {
     "data": {
      "text/html": [
       "<div>\n",
       "<style scoped>\n",
       "    .dataframe tbody tr th:only-of-type {\n",
       "        vertical-align: middle;\n",
       "    }\n",
       "\n",
       "    .dataframe tbody tr th {\n",
       "        vertical-align: top;\n",
       "    }\n",
       "\n",
       "    .dataframe thead th {\n",
       "        text-align: right;\n",
       "    }\n",
       "</style>\n",
       "<table border=\"1\" class=\"dataframe\">\n",
       "  <thead>\n",
       "    <tr style=\"text-align: right;\">\n",
       "      <th></th>\n",
       "      <th>Drama</th>\n",
       "      <th>Comedy</th>\n",
       "      <th>Adventure</th>\n",
       "      <th>Action</th>\n",
       "      <th>Crime</th>\n",
       "    </tr>\n",
       "  </thead>\n",
       "  <tbody>\n",
       "    <tr>\n",
       "      <th>0</th>\n",
       "      <td>7.0</td>\n",
       "      <td>3.0</td>\n",
       "      <td>4.0</td>\n",
       "      <td>4.0</td>\n",
       "      <td>2.0</td>\n",
       "    </tr>\n",
       "    <tr>\n",
       "      <th>1</th>\n",
       "      <td>77.0</td>\n",
       "      <td>52.0</td>\n",
       "      <td>39.0</td>\n",
       "      <td>35.0</td>\n",
       "      <td>34.0</td>\n",
       "    </tr>\n",
       "    <tr>\n",
       "      <th>2</th>\n",
       "      <td>2.0</td>\n",
       "      <td>1.0</td>\n",
       "      <td>2.0</td>\n",
       "      <td>2.0</td>\n",
       "      <td>2.0</td>\n",
       "    </tr>\n",
       "    <tr>\n",
       "      <th>3</th>\n",
       "      <td>0.0</td>\n",
       "      <td>0.0</td>\n",
       "      <td>3.0</td>\n",
       "      <td>3.0</td>\n",
       "      <td>0.0</td>\n",
       "    </tr>\n",
       "    <tr>\n",
       "      <th>4</th>\n",
       "      <td>0.0</td>\n",
       "      <td>1.0</td>\n",
       "      <td>3.0</td>\n",
       "      <td>3.0</td>\n",
       "      <td>0.0</td>\n",
       "    </tr>\n",
       "  </tbody>\n",
       "</table>\n",
       "</div>"
      ],
      "text/plain": [
       "   Drama  Comedy  Adventure  Action  Crime\n",
       "0    7.0     3.0        4.0     4.0    2.0\n",
       "1   77.0    52.0       39.0    35.0   34.0\n",
       "2    2.0     1.0        2.0     2.0    2.0\n",
       "3    0.0     0.0        3.0     3.0    0.0\n",
       "4    0.0     1.0        3.0     3.0    0.0"
      ]
     },
     "execution_count": 181,
     "metadata": {},
     "output_type": "execute_result"
    }
   ],
   "source": [
    "# how are these clusters split by genre\n",
    "# just subseting to our top 5 genres, for ease of viewing\n",
    "top_genres = df_genre_dummies.sum().nlargest(n=5).index.tolist()\n",
    "cluster_by_genre = df_genre_dummies[top_genres].groupby(cluster_preds).sum()\n",
    "cluster_by_genre\n",
    "# seems like we're seeing a lot in one cluster, yikes!"
   ]
  },
  {
   "cell_type": "code",
   "execution_count": 194,
   "metadata": {},
   "outputs": [
    {
     "data": {
      "text/plain": [
       "<matplotlib.axes._subplots.AxesSubplot at 0x1a3a5a1990>"
      ]
     },
     "execution_count": 194,
     "metadata": {},
     "output_type": "execute_result"
    },
    {
     "data": {
      "image/png": "[encoded data removed]",
      "text/plain": [
       "<Figure size 432x288 with 1 Axes>"
      ]
     },
     "metadata": {
      "needs_background": "light"
     },
     "output_type": "display_data"
    }
   ],
   "source": [
    "# get the % of each cluster in each genre\n",
    "cluster_by_genre.apply(lambda x: x/x.sum(), axis=1).plot(kind='bar', stacked=True)"
   ]
  },
  {
   "cell_type": "code",
   "execution_count": 165,
   "metadata": {},
   "outputs": [
    {
     "data": {
      "text/plain": [
       "<matplotlib.collections.PathCollection at 0x1a37a2cf90>"
      ]
     },
     "execution_count": 165,
     "metadata": {},
     "output_type": "execute_result"
    },
    {
     "data": {
      "image/png": "[encoded data removed]",
      "text/plain": [
       "<Figure size 432x288 with 1 Axes>"
      ]
     },
     "metadata": {
      "needs_background": "light"
     },
     "output_type": "display_data"
    }
   ],
   "source": [
    "# one way to visualize this: a two-dimensional decomposition (T-SNE)\n",
    "# see https://scikit-learn.org/stable/modules/manifold.html#t-sne for more info\n",
    "from sklearn.manifold import TSNE\n",
    "import matplotlib.pyplot as plt\n",
    "# fitting to 2 components\n",
    "tsne_decomposition = TSNE(n_components=2, random_state=42).fit_transform(nmf_vecs)\n",
    "fig, ax = plt.subplots()\n",
    "# colors based on clusters\n",
    "color_cycle = ['r', 'b', 'g', 'y', 'purple']\n",
    "ax.scatter(tsne_decomposition[:,0], tsne_decomposition[:,1],\n",
    "          c=[color_cycle[c] for c in cluster_preds])"
   ]
  },
  {
   "cell_type": "markdown",
   "metadata": {},
   "source": [
    "### Exercise: Experiment with clustering\n",
    "We've tried out a specific use of KMeans with a specific set of features, but there are tons of other ways to approach this.  Spend some time experimenting with different KMeans parameters and using other sets of features.  \n",
    "\n",
    "Some example experiments:\n",
    "- Tuning the number of clusters based on lowest inertia\n",
    "- Fitting clusters to vectors of spatial information (e.g. cosine similarity)\n",
    "- Trying other featuresets (e.g. TFIDF)\n",
    "\n",
    "See if you can find a solution where the clusters seem to map on to genres to some extent, or at least where we don't see these big clusters."
   ]
  },
  {
   "cell_type": "code",
   "execution_count": null,
   "metadata": {},
   "outputs": [],
   "source": []
  },
  {
   "cell_type": "markdown",
   "metadata": {},
   "source": [
    "## Named-Entity Recognition\n",
    "The use-case we'll be covering in the slides might be considered \"semi-supervised\".  In a lot of cases, you may have an inventory of named-entities, but not necessary a fully labelled set of text.  In this use-case, we'll use our movie  dataset and a simple pattern matching implemented in SpaCy to train a NER model from scratch to recognize locations and actors."
   ]
  },
  {
   "cell_type": "code",
   "execution_count": 5,
   "metadata": {},
   "outputs": [
    {
     "name": "stdout",
     "output_type": "stream",
     "text": [
      "7593739049417968140 people Angela Merkel\n",
      "7593739049417968140 people Barack Obama\n",
      "13063876858105367867 locations Oval Office\n",
      "13063876858105367867 locations Washington, D.C.\n"
     ]
    }
   ],
   "source": [
    "# how to use spaCy's PhraseMatcher\n",
    "# adapted from https://spacy.io/usage/rule-based-matching#phrasematcher\n",
    "# load a language model\n",
    "from spacy.lang.en import English\n",
    "en = English()\n",
    "matcher = PhraseMatcher(en.vocab)\n",
    "inventories = {'people': [\"Barack Obama\", \"Angela Merkel\"],\n",
    "           'locations': [\"Washington, D.C.\", \"Oval Office\"]}\n",
    "for k in inventories:           \n",
    "    matcher.add(k, # label for the match \n",
    "                None, # no custom function for dealing with matches (\"callback\")\n",
    "                *[en(text) for text in inventories[k]])\n",
    "\n",
    "doc = en(\"German Chancellor Angela Merkel and US President Barack Obama \"\n",
    "          \"converse in the Oval Office inside the White House in Washington, D.C.\")\n",
    "matches = matcher(doc)\n",
    "for match_id, start, end in matches:\n",
    "    span = doc[start:end]\n",
    "    # note: match_id is stored as an index within the vocab\n",
    "    print(match_id, en.vocab[match_id].text, span.text)"
   ]
  },
  {
   "cell_type": "markdown",
   "metadata": {},
   "source": [
    "### Exercise: Use PhraseMatcher to identify entities from the inventory in the spoilers dataset"
   ]
  },
  {
   "cell_type": "code",
   "execution_count": 2,
   "metadata": {},
   "outputs": [],
   "source": [
    "# read in reviews descriptions from spoilers dataset\n",
    "reviews = pd.read_pickle('../data/spoilers_reviews.pkl.gz')\n",
    "# an inventory of 288 academy award nominated actors \n",
    "actor_inventory = pickle.load(open('../data/actors_inventory.pkl', 'rb'))\n",
    "# a set of US cities\n",
    "city_inventory = pickle.load(open('../data/city_inventory.pkl', 'rb'))\n",
    "# just splitting off state (think why this might be appropriate!)\n",
    "city_inventory = [x.split(',')[0] for x in city_inventory]"
   ]
  },
  {
   "cell_type": "code",
   "execution_count": 36,
   "metadata": {},
   "outputs": [
    {
     "name": "stdout",
     "output_type": "stream",
     "text": [
      "4027484925341841840 actors Antonio Banderas\n",
      "2380246478874457969 cities New York\n"
     ]
    }
   ],
   "source": [
    "# adapted from https://spacy.io/usage/rule-based-matching#phrasematcher\n",
    "from spacy.lang.en import English\n",
    "en = English()\n",
    "matcher = PhraseMatcher(en.vocab)\n",
    "inventories = {'actors': actor_inventory,\n",
    "           'cities': city_inventory}\n",
    "for k in inventories:           \n",
    "    matcher.add(k, # label for the match \n",
    "                None, # no custom function for dealing with matches (\"callback\")\n",
    "                *[en(text) for text in inventories[k]])\n",
    "\n",
    "doc = en(f\"{actor_inventory[0]} is in {city_inventory[0]}\")\n",
    "matches = matcher(doc)\n",
    "for match_id, start, end in matches:\n",
    "    span = doc[start:end]\n",
    "    # note: match_id is stored as an index within the vocab\n",
    "    print(match_id, en.vocab[match_id].text, span.text)"
   ]
  },
  {
   "cell_type": "code",
   "execution_count": 59,
   "metadata": {},
   "outputs": [],
   "source": [
    "# parse all reviews\n",
    "parsed_summaries = [d for d in en.pipe(reviews.review_text)]"
   ]
  },
  {
   "cell_type": "code",
   "execution_count": 68,
   "metadata": {},
   "outputs": [],
   "source": [
    "# get all matches\n",
    "matches = [matcher(d) for d in parsed_summaries]"
   ]
  },
  {
   "cell_type": "code",
   "execution_count": 91,
   "metadata": {},
   "outputs": [
    {
     "name": "stdout",
     "output_type": "stream",
     "text": [
      "% reviews with matched entities: 0.4170986258479736\n"
     ]
    },
    {
     "data": {
      "text/plain": [
       "{'actors': 68216, 'cities': 45462}"
      ]
     },
     "execution_count": 91,
     "metadata": {},
     "output_type": "execute_result"
    }
   ],
   "source": [
    "# some descriptives about matching\n",
    "# total reviews with any matched\n",
    "matched_sum = np.sum([m!=[] for m in matches])\n",
    "print('% reviews with matched entities:', matched_sum/len(matches))\n",
    "# average matched per type\n",
    "inventory_matched = dict([(k, 0) for k in inventories])\n",
    "for k in inventories:\n",
    "    for m in matches:\n",
    "        if m!=[]:\n",
    "            for mm in m:\n",
    "                inventory_matched[en.vocab[mm[0]].text]+=1\n",
    "inventory_matched"
   ]
  },
  {
   "cell_type": "code",
   "execution_count": 105,
   "metadata": {},
   "outputs": [
    {
     "data": {
      "text/plain": [
       "585"
      ]
     },
     "execution_count": 105,
     "metadata": {},
     "output_type": "execute_result"
    }
   ],
   "source": [
    "parsed_summaries[-1][mm[1]:mm[-1]].start_char"
   ]
  },
  {
   "cell_type": "markdown",
   "metadata": {},
   "source": [
    "SpaCy's NER training expects observations to be in a certain format: \n",
    "\n",
    "`(text, annotations)`\n",
    "\n",
    "Where annotations is a dictionary.  This dictionary can contain things like part-of-speech, but we'll just be including entities.  Each entity will in in this format:\n",
    "\n",
    "`(entity start character, entity end character, entity type)`\n",
    "\n",
    "So each observation will look something like this:\n",
    "\n",
    "```\n",
    "(text, \n",
    "    {'entities': [\n",
    "        (start, end, type),\n",
    "        (start, end, type),\n",
    "        ...]\n",
    "        }\n",
    "    )\n",
    "```\n",
    "\n",
    "Additionally, we'll need to deal with entities that have overlap.  We can't feed the model text that has two different entities with overlapping tokens.  So in this case, we just ignore any entities that start within the boundaries of the previous entity."
   ]
  },
  {
   "cell_type": "code",
   "execution_count": 145,
   "metadata": {},
   "outputs": [],
   "source": [
    "def format_data(text, matches, excluded=[]):\n",
    "    # include list for excluded entity text\n",
    "    training = []\n",
    "    for i, t in enumerate(text):\n",
    "        entities = []\n",
    "        # dealing with overlapping entities\n",
    "        end = -1\n",
    "        for m in matches[i]:\n",
    "            # matches have token idx, need character idx\n",
    "            st = t[m[1]:m[2]].start_char\n",
    "            # if start idx is <= end idx, ignore that match\n",
    "            if st<=end:\n",
    "                continue\n",
    "            end = t[m[1]:m[2]].end_char\n",
    "            ent_type = en.vocab[m[0]].text\n",
    "            entities.append((st, end, ent_type))\n",
    "        training.append((t.text, {'entities':entities}))\n",
    "    return(training)"
   ]
  },
  {
   "cell_type": "code",
   "execution_count": 146,
   "metadata": {},
   "outputs": [],
   "source": [
    "formatted = format_data(parsed_summaries, matches)"
   ]
  },
  {
   "cell_type": "code",
   "execution_count": 115,
   "metadata": {},
   "outputs": [
    {
     "data": {
      "text/plain": [
       "(\"Angelina Jolie pulled it off. I didn't think she could pull off being a cop, after watching her be a heroine addict model. She did, unfortunately that was the only thing that work for me. Had huge problems with the story, to many holes(do not want to give it away), the biggest is with the huge amount of technologically advance gadgets Denzel's character had (at least $500,000 worth), they could have easily hired an investigator as good as Denzel's character to take over the case and not give it to the rookie cop, who didn't want to take the case to begin with.  Of course, it is Hollywood. I have to admit the casting of Ed O'neill was great, his comedic timing is impeccable.\",\n",
       " {'entities': [(585, 594, 'cities')]})"
      ]
     },
     "execution_count": 115,
     "metadata": {},
     "output_type": "execute_result"
    }
   ],
   "source": [
    "formatted[-1]"
   ]
  },
  {
   "cell_type": "markdown",
   "metadata": {},
   "source": [
    "In the slides, we'll discuss a couple of considerations for creating a training and a test dataset.  In this case, for simplicity, we'll just split 70/30."
   ]
  },
  {
   "cell_type": "code",
   "execution_count": 119,
   "metadata": {},
   "outputs": [],
   "source": [
    "train_pct = 0.7\n",
    "train_idxs = np.random.random(len(formatted))<=train_pct\n",
    "train_data = np.array(formatted)[train_idxs]\n",
    "test_data = np.array(formatted)[~train_idxs]"
   ]
  },
  {
   "cell_type": "code",
   "execution_count": 120,
   "metadata": {},
   "outputs": [],
   "source": [
    "def train_model(train_data, model_name, labels, early_stop=5, epoch=30, nlp_model=None, last_loss=np.inf):\n",
    "    if nlp_model is None:\n",
    "        # initialize model (can pass a trained model to updated)\n",
    "        nlp_model = English()\n",
    "        # ner pipeline component\n",
    "        ner = nlp_model.create_pipe('ner')\n",
    "        nlp_model.add_pipe(ner)\n",
    "        # entity types\n",
    "        for l in labels:\n",
    "            ner.add_label(l)\n",
    "        optimizer = nlp_model.begin_training()\n",
    "    else:\n",
    "        optimizer = nlp_model.resume_training()\n",
    "    # from tutorial, creates increasing batch size\n",
    "    sizes = compounding(1.0, 4.0, 1.001)\n",
    "    early_stop=5\n",
    "    last_loss = last_loss\n",
    "    for itn in range(epoch):\n",
    "        # random shuffle\n",
    "        random.shuffle(train_data)\n",
    "        # batch up the examples using spaCy's minibatch\n",
    "        batches = minibatch(train_data, size=sizes)\n",
    "        losses = {}\n",
    "        for batch in batches:\n",
    "            texts, annotations = zip(*batch)\n",
    "            nlp_model.update(texts, annotations, sgd=optimizer, drop=0.35, losses=losses)\n",
    "        print(\"Losses\", losses)\n",
    "        if last_loss>losses['ner']:\n",
    "            last_loss = losses['ner']\n",
    "            print('Saving model')\n",
    "            with open(model_name+'.pkl', 'wb') as f:\n",
    "                pickle.dump(nlp_model, f)\n",
    "        elif early_stop==0:\n",
    "            print('Stopping iteration')\n",
    "            break\n",
    "        else:\n",
    "            early_stop -= 1\n",
    "    return(nlp_model)"
   ]
  },
  {
   "cell_type": "code",
   "execution_count": 125,
   "metadata": {},
   "outputs": [
    {
     "name": "stdout",
     "output_type": "stream",
     "text": [
      "Losses {'ner': 2335.0432242849447}\n",
      "Saving model\n",
      "Losses {'ner': 93.57460749050809}\n",
      "Saving model\n"
     ]
    },
    {
     "data": {
      "text/plain": [
       "<spacy.lang.en.English at 0x18814f7b8>"
      ]
     },
     "execution_count": 125,
     "metadata": {},
     "output_type": "execute_result"
    }
   ],
   "source": [
    "train_model(train_data[:100], 'review_model', inventories.keys(), epoch=2)"
   ]
  },
  {
   "cell_type": "code",
   "execution_count": 132,
   "metadata": {},
   "outputs": [],
   "source": [
    "full_model = pickle.load(open('review_model.pkl', 'rb'))\n",
    "nlp = English()"
   ]
  },
  {
   "cell_type": "code",
   "execution_count": 129,
   "metadata": {},
   "outputs": [],
   "source": [
    "from spacy.gold import GoldParse\n",
    "from spacy.scorer import Scorer"
   ]
  },
  {
   "cell_type": "code",
   "execution_count": 133,
   "metadata": {
    "colab": {},
    "colab_type": "code",
    "id": "SHeO-oxtl7LH"
   },
   "outputs": [],
   "source": [
    "scorer = Scorer()\n",
    "for doc, annot in test_data[:100]:\n",
    "    doc_to_test = full_model(doc)\n",
    "    gold_text = nlp(doc)\n",
    "    gold = GoldParse(gold_text, entities=annot.get(\"entities\"))\n",
    "    scorer.score(doc_to_test, gold)"
   ]
  },
  {
   "cell_type": "code",
   "execution_count": 134,
   "metadata": {},
   "outputs": [
    {
     "data": {
      "text/plain": [
       "{'uas': 0.0,\n",
       " 'las': 0.0,\n",
       " 'ents_p': 27.027027027027028,\n",
       " 'ents_r': 10.204081632653061,\n",
       " 'ents_f': 14.814814814814813,\n",
       " 'ents_per_type': {'actors': {'p': 24.59016393442623,\n",
       "   'r': 14.85148514851485,\n",
       "   'f': 18.51851851851852},\n",
       "  'cities': {'p': 38.46153846153847,\n",
       "   'r': 5.263157894736842,\n",
       "   'f': 9.25925925925926}},\n",
       " 'tags_acc': 0.0,\n",
       " 'token_acc': 100.0}"
      ]
     },
     "execution_count": 134,
     "metadata": {},
     "output_type": "execute_result"
    }
   ],
   "source": [
    "scorer.scores"
   ]
  },
  {
   "cell_type": "code",
   "execution_count": 143,
   "metadata": {},
   "outputs": [
    {
     "name": "stdout",
     "output_type": "stream",
     "text": [
      "(Jackson, 's, John Travolta,, than Jackson's, Jackson's)\n",
      "(Samuel L. Jackson's character, , Jules, Tim Roth, John Travolta and, Christopher Walken, Samuel L. Jackson has got, to be, Harvey Keitel)\n",
      "(Samuel L. Jackson,, That's, Dr. Kent Hovind who, Christopher Walken)\n",
      "(Jackson, and, John, Travolta, Samuel L. Jackson dominates, , John Travolta)\n",
      "((, John, Travolta, ), Samuel L. Jackson)., Pumpkin(Tim Roth)\n",
      "(Jackson, and, John, Travolta, Harvey Keitel, Tim Roth, Christopher Walken)\n",
      "(Jackson, 's)\n",
      "(Jackson, and, John, Travolta, Harvey Keitel, Tim Roth, Christopher Walken)\n",
      "(Jackson, 's, Harvey Keitel)\n",
      "(John Travolta, Harvey Keitel,)\n",
      "(John Travola), Samuel L. Jackson) going, Ving Rhames, Samuel L. Jackson a)\n",
      "(Jackson, 's)\n",
      "(John Travolta--, Samuel L. Jackson--Shaft, (Ving, John Travolta, Samuel L. Jackson also, Jules by, Harvey Keitel)\n",
      "(Jackson, and, John, Travolta, (Jackson, Harvey Keitel)\n",
      "(John Travolta) and, Samuel L. Jackson) on, Vincent Vega, (Harvey Keitel))\n",
      "(Jackson, 's)\n",
      "(Tim Roth, (John Travolta), Samuel L. Jackson) who, Ving Rhames)\n",
      "(Jackson, and, John, Travolta, Harvey Keitel, Tim Roth, Christopher Walken)\n",
      "(Harvey,)\n",
      "(Jackson, 's, John Travolta, Harvey Keitel, Samuel L. Jackson has)\n",
      "(Jackson,)\n",
      "(John Travolta in, Samuel L. Jackson), Ving Rhames, Tim Roth, Christopher Walken)\n",
      "(John Travolta) and, Winnfield(Samuel L, Jackson)\n",
      "(Jackson, Samuel L. Jackson)., Citizen Kane)\n",
      "(Jackson, 's, John Travolta and)\n",
      "(John, Travolta, ), Samuel L. Jackson), Ving Rhames, Harvey Keitel, Tim Roth)\n",
      "(Jackson, John Travolta's (, Vincent Vega, Tim Roth)\n",
      "(Jackson, , John Travolta,)\n",
      "(John Travolta), John Travolta,, Samueal L, Jackson and)\n",
      "(Samuel L. Jackson of, Vincent (John Travolta)\n",
      "(John Travolta and Samuel L. Jackson and, Horror and, John Travolta)\n",
      "(John Travolta and Samuel Jackson, Samuel Jackson, John Travolta shoots)\n",
      "(Jackson, 's)\n",
      "(John Travolta) and, Samuel L. Jackson), Ving Rhames, John Travolta, John Travolta and, from John Travolta, Samuel L. Jackson because)\n",
      "(Jackson, 's, Samuel L. Jackson,, Tim Roth, Samuel L. Jackson and in, that Travolta)\n",
      "(John Travolta), Vincent's)\n",
      "(John Travolta,, Samuel L. Jackson,, This is)\n",
      "(Samuel L. Jackson),, Vincent Vega (John Travolta), Christopher Walken)\n",
      "(John Travolta and Samuel L. Jackson to,)\n",
      "(John Travolta), Vincent's)\n",
      "(John Travolta,, Samuel L. Jackson,, , Harvey Keitel, John Travolta and Samuel L. Jackson as, Then Travolta, Harvey Keitel)\n",
      "(Jackson, ()\n",
      "(John Travolta and,)\n",
      "(Harvey Keitel, Christopher Walken, Tim Roth)\n",
      "(John Travolta,, Samuel L. Jackson), Ving Rhames)\n",
      "(John Travolta) and, Samuel L Jackson) in, Then Vincent)\n",
      "(John Travolta, Samuel L. Jackson is, and Jurassic)\n",
      "(Jackson, and, John, Travolta, Christopher Walken, Tim Roth)\n",
      "(John, Travolta, ), Samuel L. Jackson), Cannes.)\n",
      "(John Travolta and Samuel L. Jackson give, Samuel L. Jackson, John Travolta,, Tim Roth, Harvey Keitel)\n",
      "(John Travolta) and, Samuel L Jackson) both, Vincent Vega)\n",
      "(John Travolta are, john Travolta, Samuel Jackson)\n",
      "(John Travolta and Samuel L. Jackson are, Jackson's, Tim Roth)\n",
      "(John Travolta), . John Travolta, Samuel L. Jackson,)\n",
      "(John Travolta) and, Samuel L. Jackson)., Ving Rhames, Tim Roth)\n",
      "(John Travolta), Samuel L. Jackson) and, and Jody)\n",
      "(John Travolta) and, (Samuel L. Jackson))\n",
      "(John Travolta, Samual L. Jackson,, Tim Roth)\n",
      "(John Travolta),)\n",
      "(John Travolta)., Samuel L. Jackson,, (Tim Roth)\n",
      "(John Travolta elevate,)\n",
      "(John, Travolta, ), Samuel L. Jackson) make, (Uma)\n",
      "(Jackson, ., John Travolta, Jackson's, Samuel L. Jackson who steals)\n",
      "(John Travolta), Coolidge's, (Harvey Kietel)\n",
      "(Samuel L. Jackson and John Travolta), Ving Rhames, Christopher Walken, Harvey Keitel)\n",
      "(John Travolta and Samuel L Jackson), (Travolta, John Travolta's, Travolta's, Travolta is)\n",
      "(Jackson, 's, John Travolta, Harvey Keitel, Tim Roth)\n",
      "(John Travolta and Samuel L. Jackson,, Jimmie's, Jimmie's, Harvey Keitel)\n",
      "(John Travolta and,)\n",
      "(Jackson, 's)\n",
      "(John Travolta) and, Samuel L. Jackson) work, Ving Rhames, John Travolta that, Title ()\n",
      "(John, Travolta, Christopher Walken, Harvey Keitel, Jackson), Tim Roth)\n",
      "(Jackson, and, John Travolta., Samuel L. Jackson and lowlighted, Kevin Costner)\n",
      "(Jackson,)\n"
     ]
    },
    {
     "ename": "KeyboardInterrupt",
     "evalue": "",
     "output_type": "error",
     "traceback": [
      "\u001b[0;31m---------------------------------------------------------------------------\u001b[0m",
      "\u001b[0;31mKeyboardInterrupt\u001b[0m                         Traceback (most recent call last)",
      "\u001b[0;32m<ipython-input-143-840971cced0e>\u001b[0m in \u001b[0;36m<module>\u001b[0;34m\u001b[0m\n\u001b[1;32m      1\u001b[0m \u001b[0;32mfor\u001b[0m \u001b[0mp\u001b[0m \u001b[0;32min\u001b[0m \u001b[0mparsed_summaries\u001b[0m\u001b[0;34m:\u001b[0m\u001b[0;34m\u001b[0m\u001b[0;34m\u001b[0m\u001b[0m\n\u001b[0;32m----> 2\u001b[0;31m     \u001b[0;32mif\u001b[0m \u001b[0mfull_model\u001b[0m\u001b[0;34m(\u001b[0m\u001b[0mp\u001b[0m\u001b[0;34m.\u001b[0m\u001b[0mtext\u001b[0m\u001b[0;34m)\u001b[0m\u001b[0;34m.\u001b[0m\u001b[0ments\u001b[0m\u001b[0;34m!=\u001b[0m\u001b[0;34m(\u001b[0m\u001b[0;34m)\u001b[0m\u001b[0;34m:\u001b[0m\u001b[0;34m\u001b[0m\u001b[0;34m\u001b[0m\u001b[0m\n\u001b[0m\u001b[1;32m      3\u001b[0m         \u001b[0mprint\u001b[0m\u001b[0;34m(\u001b[0m\u001b[0mfull_model\u001b[0m\u001b[0;34m(\u001b[0m\u001b[0mp\u001b[0m\u001b[0;34m.\u001b[0m\u001b[0mtext\u001b[0m\u001b[0;34m)\u001b[0m\u001b[0;34m.\u001b[0m\u001b[0ments\u001b[0m\u001b[0;34m)\u001b[0m\u001b[0;34m\u001b[0m\u001b[0;34m\u001b[0m\u001b[0m\n",
      "\u001b[0;32m~/anaconda/envs/mainpy3/lib/python3.6/site-packages/spacy/language.py\u001b[0m in \u001b[0;36m__call__\u001b[0;34m(self, text, disable, component_cfg)\u001b[0m\n\u001b[1;32m    400\u001b[0m             \u001b[0;32mif\u001b[0m \u001b[0;32mnot\u001b[0m \u001b[0mhasattr\u001b[0m\u001b[0;34m(\u001b[0m\u001b[0mproc\u001b[0m\u001b[0;34m,\u001b[0m \u001b[0;34m\"__call__\"\u001b[0m\u001b[0;34m)\u001b[0m\u001b[0;34m:\u001b[0m\u001b[0;34m\u001b[0m\u001b[0;34m\u001b[0m\u001b[0m\n\u001b[1;32m    401\u001b[0m                 \u001b[0;32mraise\u001b[0m \u001b[0mValueError\u001b[0m\u001b[0;34m(\u001b[0m\u001b[0mErrors\u001b[0m\u001b[0;34m.\u001b[0m\u001b[0mE003\u001b[0m\u001b[0;34m.\u001b[0m\u001b[0mformat\u001b[0m\u001b[0;34m(\u001b[0m\u001b[0mcomponent\u001b[0m\u001b[0;34m=\u001b[0m\u001b[0mtype\u001b[0m\u001b[0;34m(\u001b[0m\u001b[0mproc\u001b[0m\u001b[0;34m)\u001b[0m\u001b[0;34m,\u001b[0m \u001b[0mname\u001b[0m\u001b[0;34m=\u001b[0m\u001b[0mname\u001b[0m\u001b[0;34m)\u001b[0m\u001b[0;34m)\u001b[0m\u001b[0;34m\u001b[0m\u001b[0;34m\u001b[0m\u001b[0m\n\u001b[0;32m--> 402\u001b[0;31m             \u001b[0mdoc\u001b[0m \u001b[0;34m=\u001b[0m \u001b[0mproc\u001b[0m\u001b[0;34m(\u001b[0m\u001b[0mdoc\u001b[0m\u001b[0;34m,\u001b[0m \u001b[0;34m**\u001b[0m\u001b[0mcomponent_cfg\u001b[0m\u001b[0;34m.\u001b[0m\u001b[0mget\u001b[0m\u001b[0;34m(\u001b[0m\u001b[0mname\u001b[0m\u001b[0;34m,\u001b[0m \u001b[0;34m{\u001b[0m\u001b[0;34m}\u001b[0m\u001b[0;34m)\u001b[0m\u001b[0;34m)\u001b[0m\u001b[0;34m\u001b[0m\u001b[0;34m\u001b[0m\u001b[0m\n\u001b[0m\u001b[1;32m    403\u001b[0m             \u001b[0;32mif\u001b[0m \u001b[0mdoc\u001b[0m \u001b[0;32mis\u001b[0m \u001b[0;32mNone\u001b[0m\u001b[0;34m:\u001b[0m\u001b[0;34m\u001b[0m\u001b[0;34m\u001b[0m\u001b[0m\n\u001b[1;32m    404\u001b[0m                 \u001b[0;32mraise\u001b[0m \u001b[0mValueError\u001b[0m\u001b[0;34m(\u001b[0m\u001b[0mErrors\u001b[0m\u001b[0;34m.\u001b[0m\u001b[0mE005\u001b[0m\u001b[0;34m.\u001b[0m\u001b[0mformat\u001b[0m\u001b[0;34m(\u001b[0m\u001b[0mname\u001b[0m\u001b[0;34m=\u001b[0m\u001b[0mname\u001b[0m\u001b[0;34m)\u001b[0m\u001b[0;34m)\u001b[0m\u001b[0;34m\u001b[0m\u001b[0;34m\u001b[0m\u001b[0m\n",
      "\u001b[0;32mnn_parser.pyx\u001b[0m in \u001b[0;36mspacy.syntax.nn_parser.Parser.__call__\u001b[0;34m()\u001b[0m\n",
      "\u001b[0;32mnn_parser.pyx\u001b[0m in \u001b[0;36mspacy.syntax.nn_parser.Parser.predict\u001b[0;34m()\u001b[0m\n",
      "\u001b[0;32mnn_parser.pyx\u001b[0m in \u001b[0;36mspacy.syntax.nn_parser.Parser.greedy_parse\u001b[0;34m()\u001b[0m\n",
      "\u001b[0;32m~/anaconda/envs/mainpy3/lib/python3.6/site-packages/thinc/neural/_classes/model.py\u001b[0m in \u001b[0;36m__call__\u001b[0;34m(self, x)\u001b[0m\n\u001b[1;32m    167\u001b[0m             \u001b[0mMust\u001b[0m \u001b[0mmatch\u001b[0m \u001b[0mexpected\u001b[0m \u001b[0mshape\u001b[0m\u001b[0;34m\u001b[0m\u001b[0;34m\u001b[0m\u001b[0m\n\u001b[1;32m    168\u001b[0m         \"\"\"\n\u001b[0;32m--> 169\u001b[0;31m         \u001b[0;32mreturn\u001b[0m \u001b[0mself\u001b[0m\u001b[0;34m.\u001b[0m\u001b[0mpredict\u001b[0m\u001b[0;34m(\u001b[0m\u001b[0mx\u001b[0m\u001b[0;34m)\u001b[0m\u001b[0;34m\u001b[0m\u001b[0;34m\u001b[0m\u001b[0m\n\u001b[0m\u001b[1;32m    170\u001b[0m \u001b[0;34m\u001b[0m\u001b[0m\n\u001b[1;32m    171\u001b[0m     \u001b[0;32mdef\u001b[0m \u001b[0mpipe\u001b[0m\u001b[0;34m(\u001b[0m\u001b[0mself\u001b[0m\u001b[0;34m,\u001b[0m \u001b[0mstream\u001b[0m\u001b[0;34m,\u001b[0m \u001b[0mbatch_size\u001b[0m\u001b[0;34m=\u001b[0m\u001b[0;36m128\u001b[0m\u001b[0;34m)\u001b[0m\u001b[0;34m:\u001b[0m\u001b[0;34m\u001b[0m\u001b[0;34m\u001b[0m\u001b[0m\n",
      "\u001b[0;32m~/anaconda/envs/mainpy3/lib/python3.6/site-packages/thinc/neural/_classes/model.py\u001b[0m in \u001b[0;36mpredict\u001b[0;34m(self, X)\u001b[0m\n\u001b[1;32m    131\u001b[0m \u001b[0;34m\u001b[0m\u001b[0m\n\u001b[1;32m    132\u001b[0m     \u001b[0;32mdef\u001b[0m \u001b[0mpredict\u001b[0m\u001b[0;34m(\u001b[0m\u001b[0mself\u001b[0m\u001b[0;34m,\u001b[0m \u001b[0mX\u001b[0m\u001b[0;34m)\u001b[0m\u001b[0;34m:\u001b[0m\u001b[0;34m\u001b[0m\u001b[0;34m\u001b[0m\u001b[0m\n\u001b[0;32m--> 133\u001b[0;31m         \u001b[0my\u001b[0m\u001b[0;34m,\u001b[0m \u001b[0m_\u001b[0m \u001b[0;34m=\u001b[0m \u001b[0mself\u001b[0m\u001b[0;34m.\u001b[0m\u001b[0mbegin_update\u001b[0m\u001b[0;34m(\u001b[0m\u001b[0mX\u001b[0m\u001b[0;34m,\u001b[0m \u001b[0mdrop\u001b[0m\u001b[0;34m=\u001b[0m\u001b[0;32mNone\u001b[0m\u001b[0;34m)\u001b[0m\u001b[0;34m\u001b[0m\u001b[0;34m\u001b[0m\u001b[0m\n\u001b[0m\u001b[1;32m    134\u001b[0m         \u001b[0;32mreturn\u001b[0m \u001b[0my\u001b[0m\u001b[0;34m\u001b[0m\u001b[0;34m\u001b[0m\u001b[0m\n\u001b[1;32m    135\u001b[0m \u001b[0;34m\u001b[0m\u001b[0m\n",
      "\u001b[0;32m_parser_model.pyx\u001b[0m in \u001b[0;36mspacy.syntax._parser_model.ParserModel.begin_update\u001b[0;34m()\u001b[0m\n",
      "\u001b[0;32m_parser_model.pyx\u001b[0m in \u001b[0;36mspacy.syntax._parser_model.ParserStepModel.__init__\u001b[0;34m()\u001b[0m\n",
      "\u001b[0;32m~/anaconda/envs/mainpy3/lib/python3.6/site-packages/thinc/neural/_classes/feed_forward.py\u001b[0m in \u001b[0;36mbegin_update\u001b[0;34m(self, X, drop)\u001b[0m\n\u001b[1;32m     44\u001b[0m         \u001b[0mcallbacks\u001b[0m \u001b[0;34m=\u001b[0m \u001b[0;34m[\u001b[0m\u001b[0;34m]\u001b[0m\u001b[0;34m\u001b[0m\u001b[0;34m\u001b[0m\u001b[0m\n\u001b[1;32m     45\u001b[0m         \u001b[0;32mfor\u001b[0m \u001b[0mlayer\u001b[0m \u001b[0;32min\u001b[0m \u001b[0mself\u001b[0m\u001b[0;34m.\u001b[0m\u001b[0m_layers\u001b[0m\u001b[0;34m:\u001b[0m\u001b[0;34m\u001b[0m\u001b[0;34m\u001b[0m\u001b[0m\n\u001b[0;32m---> 46\u001b[0;31m             \u001b[0mX\u001b[0m\u001b[0;34m,\u001b[0m \u001b[0minc_layer_grad\u001b[0m \u001b[0;34m=\u001b[0m \u001b[0mlayer\u001b[0m\u001b[0;34m.\u001b[0m\u001b[0mbegin_update\u001b[0m\u001b[0;34m(\u001b[0m\u001b[0mX\u001b[0m\u001b[0;34m,\u001b[0m \u001b[0mdrop\u001b[0m\u001b[0;34m=\u001b[0m\u001b[0mdrop\u001b[0m\u001b[0;34m)\u001b[0m\u001b[0;34m\u001b[0m\u001b[0;34m\u001b[0m\u001b[0m\n\u001b[0m\u001b[1;32m     47\u001b[0m             \u001b[0mcallbacks\u001b[0m\u001b[0;34m.\u001b[0m\u001b[0mappend\u001b[0m\u001b[0;34m(\u001b[0m\u001b[0minc_layer_grad\u001b[0m\u001b[0;34m)\u001b[0m\u001b[0;34m\u001b[0m\u001b[0;34m\u001b[0m\u001b[0m\n\u001b[1;32m     48\u001b[0m \u001b[0;34m\u001b[0m\u001b[0m\n",
      "\u001b[0;32m~/anaconda/envs/mainpy3/lib/python3.6/site-packages/thinc/api.py\u001b[0m in \u001b[0;36mbegin_update\u001b[0;34m(seqs_in, drop)\u001b[0m\n\u001b[1;32m    293\u001b[0m     \u001b[0;32mdef\u001b[0m \u001b[0mbegin_update\u001b[0m\u001b[0;34m(\u001b[0m\u001b[0mseqs_in\u001b[0m\u001b[0;34m,\u001b[0m \u001b[0mdrop\u001b[0m\u001b[0;34m=\u001b[0m\u001b[0;36m0.0\u001b[0m\u001b[0;34m)\u001b[0m\u001b[0;34m:\u001b[0m\u001b[0;34m\u001b[0m\u001b[0;34m\u001b[0m\u001b[0m\n\u001b[1;32m    294\u001b[0m         \u001b[0mlengths\u001b[0m \u001b[0;34m=\u001b[0m \u001b[0mlayer\u001b[0m\u001b[0;34m.\u001b[0m\u001b[0mops\u001b[0m\u001b[0;34m.\u001b[0m\u001b[0masarray\u001b[0m\u001b[0;34m(\u001b[0m\u001b[0;34m[\u001b[0m\u001b[0mlen\u001b[0m\u001b[0;34m(\u001b[0m\u001b[0mseq\u001b[0m\u001b[0;34m)\u001b[0m \u001b[0;32mfor\u001b[0m \u001b[0mseq\u001b[0m \u001b[0;32min\u001b[0m \u001b[0mseqs_in\u001b[0m\u001b[0;34m]\u001b[0m\u001b[0;34m)\u001b[0m\u001b[0;34m\u001b[0m\u001b[0;34m\u001b[0m\u001b[0m\n\u001b[0;32m--> 295\u001b[0;31m         \u001b[0mX\u001b[0m\u001b[0;34m,\u001b[0m \u001b[0mbp_layer\u001b[0m \u001b[0;34m=\u001b[0m \u001b[0mlayer\u001b[0m\u001b[0;34m.\u001b[0m\u001b[0mbegin_update\u001b[0m\u001b[0;34m(\u001b[0m\u001b[0mlayer\u001b[0m\u001b[0;34m.\u001b[0m\u001b[0mops\u001b[0m\u001b[0;34m.\u001b[0m\u001b[0mflatten\u001b[0m\u001b[0;34m(\u001b[0m\u001b[0mseqs_in\u001b[0m\u001b[0;34m,\u001b[0m \u001b[0mpad\u001b[0m\u001b[0;34m=\u001b[0m\u001b[0mpad\u001b[0m\u001b[0;34m)\u001b[0m\u001b[0;34m,\u001b[0m \u001b[0mdrop\u001b[0m\u001b[0;34m=\u001b[0m\u001b[0mdrop\u001b[0m\u001b[0;34m)\u001b[0m\u001b[0;34m\u001b[0m\u001b[0;34m\u001b[0m\u001b[0m\n\u001b[0m\u001b[1;32m    296\u001b[0m         \u001b[0;32mif\u001b[0m \u001b[0mbp_layer\u001b[0m \u001b[0;32mis\u001b[0m \u001b[0;32mNone\u001b[0m\u001b[0;34m:\u001b[0m\u001b[0;34m\u001b[0m\u001b[0;34m\u001b[0m\u001b[0m\n\u001b[1;32m    297\u001b[0m             \u001b[0;32mreturn\u001b[0m \u001b[0mlayer\u001b[0m\u001b[0;34m.\u001b[0m\u001b[0mops\u001b[0m\u001b[0;34m.\u001b[0m\u001b[0munflatten\u001b[0m\u001b[0;34m(\u001b[0m\u001b[0mX\u001b[0m\u001b[0;34m,\u001b[0m \u001b[0mlengths\u001b[0m\u001b[0;34m,\u001b[0m \u001b[0mpad\u001b[0m\u001b[0;34m=\u001b[0m\u001b[0mpad\u001b[0m\u001b[0;34m)\u001b[0m\u001b[0;34m,\u001b[0m \u001b[0;32mNone\u001b[0m\u001b[0;34m\u001b[0m\u001b[0;34m\u001b[0m\u001b[0m\n",
      "\u001b[0;32m~/anaconda/envs/mainpy3/lib/python3.6/site-packages/thinc/neural/_classes/feed_forward.py\u001b[0m in \u001b[0;36mbegin_update\u001b[0;34m(self, X, drop)\u001b[0m\n\u001b[1;32m     44\u001b[0m         \u001b[0mcallbacks\u001b[0m \u001b[0;34m=\u001b[0m \u001b[0;34m[\u001b[0m\u001b[0;34m]\u001b[0m\u001b[0;34m\u001b[0m\u001b[0;34m\u001b[0m\u001b[0m\n\u001b[1;32m     45\u001b[0m         \u001b[0;32mfor\u001b[0m \u001b[0mlayer\u001b[0m \u001b[0;32min\u001b[0m \u001b[0mself\u001b[0m\u001b[0;34m.\u001b[0m\u001b[0m_layers\u001b[0m\u001b[0;34m:\u001b[0m\u001b[0;34m\u001b[0m\u001b[0;34m\u001b[0m\u001b[0m\n\u001b[0;32m---> 46\u001b[0;31m             \u001b[0mX\u001b[0m\u001b[0;34m,\u001b[0m \u001b[0minc_layer_grad\u001b[0m \u001b[0;34m=\u001b[0m \u001b[0mlayer\u001b[0m\u001b[0;34m.\u001b[0m\u001b[0mbegin_update\u001b[0m\u001b[0;34m(\u001b[0m\u001b[0mX\u001b[0m\u001b[0;34m,\u001b[0m \u001b[0mdrop\u001b[0m\u001b[0;34m=\u001b[0m\u001b[0mdrop\u001b[0m\u001b[0;34m)\u001b[0m\u001b[0;34m\u001b[0m\u001b[0;34m\u001b[0m\u001b[0m\n\u001b[0m\u001b[1;32m     47\u001b[0m             \u001b[0mcallbacks\u001b[0m\u001b[0;34m.\u001b[0m\u001b[0mappend\u001b[0m\u001b[0;34m(\u001b[0m\u001b[0minc_layer_grad\u001b[0m\u001b[0;34m)\u001b[0m\u001b[0;34m\u001b[0m\u001b[0;34m\u001b[0m\u001b[0m\n\u001b[1;32m     48\u001b[0m \u001b[0;34m\u001b[0m\u001b[0m\n",
      "\u001b[0;32m~/anaconda/envs/mainpy3/lib/python3.6/site-packages/thinc/api.py\u001b[0m in \u001b[0;36muniqued_fwd\u001b[0;34m(X, drop)\u001b[0m\n\u001b[1;32m    380\u001b[0m         \u001b[0mY\u001b[0m \u001b[0;34m=\u001b[0m \u001b[0mY_uniq\u001b[0m\u001b[0;34m[\u001b[0m\u001b[0minv\u001b[0m\u001b[0;34m]\u001b[0m\u001b[0;34m.\u001b[0m\u001b[0mreshape\u001b[0m\u001b[0;34m(\u001b[0m\u001b[0;34m(\u001b[0m\u001b[0mX\u001b[0m\u001b[0;34m.\u001b[0m\u001b[0mshape\u001b[0m\u001b[0;34m[\u001b[0m\u001b[0;36m0\u001b[0m\u001b[0;34m]\u001b[0m\u001b[0;34m,\u001b[0m\u001b[0;34m)\u001b[0m \u001b[0;34m+\u001b[0m \u001b[0mY_uniq\u001b[0m\u001b[0;34m.\u001b[0m\u001b[0mshape\u001b[0m\u001b[0;34m[\u001b[0m\u001b[0;36m1\u001b[0m\u001b[0;34m:\u001b[0m\u001b[0;34m]\u001b[0m\u001b[0;34m)\u001b[0m\u001b[0;34m\u001b[0m\u001b[0;34m\u001b[0m\u001b[0m\n\u001b[1;32m    381\u001b[0m \u001b[0;34m\u001b[0m\u001b[0m\n\u001b[0;32m--> 382\u001b[0;31m         \u001b[0;32mdef\u001b[0m \u001b[0muniqued_bwd\u001b[0m\u001b[0;34m(\u001b[0m\u001b[0mdY\u001b[0m\u001b[0;34m,\u001b[0m \u001b[0msgd\u001b[0m\u001b[0;34m=\u001b[0m\u001b[0;32mNone\u001b[0m\u001b[0;34m)\u001b[0m\u001b[0;34m:\u001b[0m\u001b[0;34m\u001b[0m\u001b[0;34m\u001b[0m\u001b[0m\n\u001b[0m\u001b[1;32m    383\u001b[0m             \u001b[0mdY_uniq\u001b[0m \u001b[0;34m=\u001b[0m \u001b[0mlayer\u001b[0m\u001b[0;34m.\u001b[0m\u001b[0mops\u001b[0m\u001b[0;34m.\u001b[0m\u001b[0mallocate\u001b[0m\u001b[0;34m(\u001b[0m\u001b[0mY_uniq\u001b[0m\u001b[0;34m.\u001b[0m\u001b[0mshape\u001b[0m\u001b[0;34m,\u001b[0m \u001b[0mdtype\u001b[0m\u001b[0;34m=\u001b[0m\u001b[0;34m\"f\"\u001b[0m\u001b[0;34m)\u001b[0m\u001b[0;34m\u001b[0m\u001b[0;34m\u001b[0m\u001b[0m\n\u001b[1;32m    384\u001b[0m             \u001b[0mlayer\u001b[0m\u001b[0;34m.\u001b[0m\u001b[0mops\u001b[0m\u001b[0;34m.\u001b[0m\u001b[0mscatter_add\u001b[0m\u001b[0;34m(\u001b[0m\u001b[0mdY_uniq\u001b[0m\u001b[0;34m,\u001b[0m \u001b[0mlayer\u001b[0m\u001b[0;34m.\u001b[0m\u001b[0mops\u001b[0m\u001b[0;34m.\u001b[0m\u001b[0masarray\u001b[0m\u001b[0;34m(\u001b[0m\u001b[0minv\u001b[0m\u001b[0;34m,\u001b[0m \u001b[0mdtype\u001b[0m\u001b[0;34m=\u001b[0m\u001b[0;34m\"i\"\u001b[0m\u001b[0;34m)\u001b[0m\u001b[0;34m,\u001b[0m \u001b[0mdY\u001b[0m\u001b[0;34m)\u001b[0m\u001b[0;34m\u001b[0m\u001b[0;34m\u001b[0m\u001b[0m\n",
      "\u001b[0;31mKeyboardInterrupt\u001b[0m: "
     ]
    }
   ],
   "source": [
    "for p in parsed_summaries:\n",
    "    if full_model(p.text).ents!=():\n",
    "        print(full_model(p.text).ents)"
   ]
  },
  {
   "cell_type": "markdown",
   "metadata": {},
   "source": [
    "Note a problem here.  It seems like the only actors being identified are male.  That's because I played a bit of a trick.  The inventory I used is all MALE award nominees.  You'd think that that's an oversight no serious designer of DS products wouldn't make.  [You'd think](https://www.wired.com/story/photo-algorithms-id-white-men-fineblack-women-not-so-much/).\n",
    "\n",
    "This is just a very simple example to show that models learn what you give them.  If I don't provide female nominees, then it won't learn to identify them.\n",
    "\n",
    "\n",
    "## Language generation with RNNs\n",
    "One a-typical use-case is being able to generate language"
   ]
  },
  {
   "cell_type": "code",
   "execution_count": 5,
   "metadata": {},
   "outputs": [],
   "source": [
    "def pad_sequence(seqs, seq_len=200):\n",
    "    # function for adding padding to ensure all seq same length\n",
    "    features = np.zeros((len(seqs), seq_len),dtype=int)\n",
    "    for i, seq in enumerate(seqs):\n",
    "        if len(seq) != 0:\n",
    "            features[i, -len(seq):] = np.array(seq)[:seq_len]\n",
    "    return features\n",
    "\n",
    "def doc_to_index(docs, vocab):\n",
    "    # transform docs into series of indices\n",
    "    docs_idxs = []\n",
    "    for d in docs:\n",
    "        w_idxs = []\n",
    "        for w in d:\n",
    "            if w in vocab:\n",
    "                w_idxs.append(vocab[w])\n",
    "            else:\n",
    "                # unknown token = 1\n",
    "                w_idxs.append(1)\n",
    "        docs_idxs.append(w_idxs)\n",
    "    return(docs_idxs)"
   ]
  },
  {
   "cell_type": "code",
   "execution_count": 6,
   "metadata": {},
   "outputs": [
    {
     "name": "stdout",
     "output_type": "stream",
     "text": [
      "Size of vocab: 63418\n"
     ]
    }
   ],
   "source": [
    "# you will need to change this to where ever the file is stored\n",
    "data_location = '../data/assignment_1_reviews.pkl'\n",
    "with open(data_location, 'rb') as f:\n",
    "    all_text = pickle.load(f)\n",
    "neg, pos = all_text.values()\n",
    "# join all reviews\n",
    "all_reviews = np.array(neg+pos)\n",
    "# create a (very basic) vocab of all words\n",
    "count = Counter(' '.join(all_reviews).split())\n",
    "# mimicking the countvectorizer\n",
    "count_vocab = dict((k, i) for i,k in enumerate(count.keys()))\n",
    "print(\"Size of vocab:\", len(count_vocab))\n",
    "count_vocab = dict([(v, count_vocab[v]+2) for v in count_vocab])\n",
    "count_vocab['_UNK'] = 1\n",
    "count_vocab['_PAD'] = 0\n"
   ]
  },
  {
   "cell_type": "code",
   "execution_count": 7,
   "metadata": {},
   "outputs": [],
   "source": [
    "# format data for input\n",
    "idx_docs = doc_to_index([d.split() for d in all_reviews], count_vocab)\n",
    "padded_docs = np.array(pad_sequence(idx_docs, seq_len=30))\n",
    "# outcome: the next word\n",
    "# set the last word in target = first word in input\n",
    "outcome_docs = np.array([np.append(d[1:], d[0]) for d in padded_docs])"
   ]
  },
  {
   "cell_type": "code",
   "execution_count": 66,
   "metadata": {},
   "outputs": [],
   "source": [
    "#np.reshape(padded_docs, (batch_size, -1))"
   ]
  },
  {
   "cell_type": "code",
   "execution_count": 67,
   "metadata": {},
   "outputs": [],
   "source": [
    "class NLGNet(nn.Module):\n",
    "    # adapted from https://blog.floydhub.com/long-short-term-memory-from-zero-to-hero-with-pytorch/\n",
    "    def __init__(self,\n",
    "                 weight_matrix=None,\n",
    "                 vocab_size=None, \n",
    "                 output_size=1,  \n",
    "                 hidden_dim=512,\n",
    "                 embedding_dim=400, \n",
    "                 n_layers=2, \n",
    "                 dropout_prob=0.5):\n",
    "        super(NLGNet, self).__init__()\n",
    "        # size of the output, in this case it's one input to one output\n",
    "        self.output_size = vocab_size\n",
    "        # number of layers (default 2) one LSTM layer, one fully-connected layer\n",
    "        self.n_layers = n_layers\n",
    "        # dimensions of our hidden state, what is passed from one time point to the next\n",
    "        self.hidden_dim = hidden_dim\n",
    "        # initialize the representation to pass to the LSTM\n",
    "        self.embedding, embedding_dim = self.init_embedding(\n",
    "            vocab_size, \n",
    "            embedding_dim, \n",
    "            weight_matrix)\n",
    "        # LSTM layer, where the magic happens\n",
    "        self.lstm = nn.LSTM(embedding_dim, hidden_dim, n_layers, \n",
    "                            dropout=dropout_prob, batch_first=True)\n",
    "        # fully connected layer\n",
    "        self.fc = nn.Linear(hidden_dim, self.output_size)\n",
    "        # sigmoid activiation\n",
    "        #self.sigmoid = nn.Sigmoid()\n",
    "        # softmax function\n",
    "        #self.softmax = nn.LogSoftmax(dim=1)\n",
    "        #self.softmax = nn.LogSoftmax(dim=2)\n",
    "        \n",
    "    def forward(self, x, hidden):\n",
    "        # forward pass of the network\n",
    "        batch_size = x.size(0)\n",
    "        # transform input\n",
    "        embeds = self.embedding(x)\n",
    "        # run input embedding + hidden state through model\n",
    "        lstm_out, hidden = self.lstm(embeds, hidden)\n",
    "        # fully connected layer\n",
    "        out = self.fc(lstm_out)\n",
    "        # activation function\n",
    "        #out = self.sigmoid(out)\n",
    "        # softmax\n",
    "        #out = self.softmax(out)\n",
    "        # return the output and the hidden state\n",
    "        return out, hidden\n",
    "    \n",
    "    def init_embedding(self, vocab_size, embedding_dim, weight_matrix):\n",
    "        # initializes the embedding\n",
    "        if weight_matrix is None:\n",
    "            if vocab_size is None:\n",
    "                raise ValueError('If no weight matrix, need a vocab size')\n",
    "            # if embedding is a size, initialize trainable\n",
    "            return(nn.Embedding(vocab_size, embedding_dim),\n",
    "                   embedding_dim)\n",
    "        else:\n",
    "            # otherwise use matrix as pretrained\n",
    "            weights = torch.FloatTensor(weight_matrix)\n",
    "            return(nn.Embedding.from_pretrained(weights),\n",
    "                  weights.shape[1])\n",
    "    \n",
    "    def init_hidden(self, batch_size):\n",
    "        # initializes the hidden state\n",
    "        hidden = (torch.zeros(self.n_layers, batch_size, self.hidden_dim).to(device),\n",
    "                  torch.zeros(self.n_layers, batch_size, self.hidden_dim).to(device))\n",
    "        return hidden"
   ]
  },
  {
   "cell_type": "code",
   "execution_count": 68,
   "metadata": {},
   "outputs": [],
   "source": [
    "#nn.Softmax(output.detach())"
   ]
  },
  {
   "cell_type": "code",
   "execution_count": 69,
   "metadata": {},
   "outputs": [],
   "source": [
    "model_params = {'weight_matrix': None,\n",
    "               'output_size': len(count_vocab),\n",
    "                'vocab_size': len(count_vocab),\n",
    "               'hidden_dim': 512,\n",
    "               'n_layers': 2,\n",
    "               'embedding_dim': 400,\n",
    "               'dropout_prob': 0.20}\n",
    "training_params = {'learning_rate': 0.005,\n",
    "                  'epochs': 1,\n",
    "                  'batch_size': 10}\n",
    "batch_size = training_params['batch_size']\n",
    "# construct datasets for loading by PyTorch\n",
    "# in this case, we're predicting the next word\n",
    "data = TensorDataset(torch.from_numpy(padded_docs), torch.from_numpy(outcome_docs))\n",
    "loader = DataLoader(data, shuffle=True, batch_size=batch_size,\n",
    "                         drop_last=True) # this is to keep the size consistent"
   ]
  },
  {
   "cell_type": "code",
   "execution_count": 31,
   "metadata": {},
   "outputs": [],
   "source": [
    "#nn.functional.softmax(output.detach(), dim=1).sum(axis=0)"
   ]
  },
  {
   "cell_type": "code",
   "execution_count": 62,
   "metadata": {},
   "outputs": [],
   "source": [
    "#output[0].sum(axis=1)\n",
    "#labels[0].unsqueeze_(-1)"
   ]
  },
  {
   "cell_type": "code",
   "execution_count": 71,
   "metadata": {},
   "outputs": [
    {
     "name": "stdout",
     "output_type": "stream",
     "text": [
      "Epoch: 1/1... Step: 5... Loss: 8.301820...\n",
      "Epoch: 1/1... Step: 10... Loss: 8.672991...\n",
      "Epoch: 1/1... Step: 15... Loss: 8.441500...\n",
      "Epoch: 1/1... Step: 20... Loss: 8.506925...\n",
      "Epoch: 1/1... Step: 25... Loss: 8.264468...\n",
      "Epoch: 1/1... Step: 30... Loss: 8.015874...\n",
      "Epoch: 1/1... Step: 35... Loss: 8.476435...\n",
      "Epoch: 1/1... Step: 40... Loss: 8.410895...\n",
      "Epoch: 1/1... Step: 45... Loss: 8.382673...\n",
      "Epoch: 1/1... Step: 50... Loss: 8.058313...\n",
      "Epoch: 1/1... Step: 55... Loss: 8.182523...\n",
      "Epoch: 1/1... Step: 60... Loss: 8.060787...\n",
      "Epoch: 1/1... Step: 65... Loss: 7.500784...\n",
      "Epoch: 1/1... Step: 70... Loss: 8.241846...\n",
      "Epoch: 1/1... Step: 75... Loss: 7.723259...\n",
      "Epoch: 1/1... Step: 80... Loss: 8.108508...\n",
      "Epoch: 1/1... Step: 85... Loss: 7.744896...\n",
      "Epoch: 1/1... Step: 90... Loss: 7.618964...\n",
      "Epoch: 1/1... Step: 95... Loss: 7.963496...\n",
      "Epoch: 1/1... Step: 100... Loss: 7.517007...\n",
      "Epoch: 1/1... Step: 105... Loss: 7.381601...\n",
      "Epoch: 1/1... Step: 110... Loss: 7.723213...\n",
      "Epoch: 1/1... Step: 115... Loss: 8.162390...\n",
      "Epoch: 1/1... Step: 120... Loss: 7.425934...\n",
      "Epoch: 1/1... Step: 125... Loss: 7.979779...\n",
      "Epoch: 1/1... Step: 130... Loss: 7.310792...\n",
      "Epoch: 1/1... Step: 135... Loss: 7.536837...\n",
      "Epoch: 1/1... Step: 140... Loss: 7.552525...\n",
      "Epoch: 1/1... Step: 145... Loss: 7.608936...\n",
      "Epoch: 1/1... Step: 150... Loss: 7.917222...\n",
      "Epoch: 1/1... Step: 155... Loss: 7.455459...\n",
      "Epoch: 1/1... Step: 160... Loss: 7.454743...\n",
      "Epoch: 1/1... Step: 165... Loss: 7.385855...\n",
      "Epoch: 1/1... Step: 170... Loss: 7.679624...\n",
      "Epoch: 1/1... Step: 175... Loss: 7.305088...\n",
      "Epoch: 1/1... Step: 180... Loss: 7.579242...\n",
      "Epoch: 1/1... Step: 185... Loss: 7.490247...\n",
      "Epoch: 1/1... Step: 190... Loss: 7.755728...\n",
      "Epoch: 1/1... Step: 195... Loss: 6.798472...\n",
      "Epoch: 1/1... Step: 200... Loss: 7.364145...\n",
      "Epoch: 1/1... Step: 205... Loss: 7.362070...\n",
      "Epoch: 1/1... Step: 210... Loss: 7.311589...\n",
      "Epoch: 1/1... Step: 215... Loss: 7.897683...\n",
      "Epoch: 1/1... Step: 220... Loss: 7.193862...\n",
      "Epoch: 1/1... Step: 225... Loss: 6.754177...\n",
      "Epoch: 1/1... Step: 230... Loss: 7.831270...\n",
      "Epoch: 1/1... Step: 235... Loss: 7.374148...\n",
      "Epoch: 1/1... Step: 240... Loss: 7.534122...\n",
      "Epoch: 1/1... Step: 245... Loss: 7.390323...\n"
     ]
    }
   ],
   "source": [
    "model = NLGNet(**model_params)\n",
    "model.to(device)\n",
    "criterion = nn.CrossEntropyLoss()\n",
    "optimizer = torch.optim.Adam(model.parameters(), \n",
    "                         lr=training_params['learning_rate'])\n",
    "# increasing this will make the training take a while on CPU\n",
    "# decrease to 5 if it's taking too long\n",
    "epochs = training_params['epochs']\n",
    "batch_size = training_params['batch_size']\n",
    "counter = 0\n",
    "print_every = 5\n",
    "clip = 5\n",
    "valid_loss_min = np.Inf\n",
    "\n",
    "model.train()\n",
    "for i in range(epochs):\n",
    "    h = model.init_hidden(batch_size)\n",
    "    for inputs, labels in loader:\n",
    "        counter += 1\n",
    "        h = tuple([e.data for e in h])\n",
    "        inputs, labels = inputs.to(device), labels.to(device)\n",
    "        model.zero_grad()\n",
    "        output, hidden = model(inputs, h)\n",
    "        loss = criterion(output.transpose(1,2), labels)\n",
    "        loss.backward()\n",
    "        nn.utils.clip_grad_norm_(model.parameters(), clip)\n",
    "        optimizer.step()\n",
    "        \n",
    "        if counter%print_every == 0:\n",
    "            print(\"Epoch: {}/{}...\".format(i+1, epochs),\n",
    "                  \"Step: {}...\".format(counter),\n",
    "                  \"Loss: {:.6f}...\".format(loss.item()))"
   ]
  },
  {
   "cell_type": "code",
   "execution_count": 166,
   "metadata": {},
   "outputs": [
    {
     "name": "stdout",
     "output_type": "stream",
     "text": [
      "Generated sentence: ['the', 'of', 'the', 'movie', 'is', 'a', 'movie', 'of', 'the', 'movie', 'is', 'a', 'movie', 'of', 'the', 'movie', 'is', 'a', 'movie', 'of', 'the', 'movie', 'is', 'a', 'movie', 'of', 'the', 'movie', 'is', 'a']\n"
     ]
    }
   ],
   "source": [
    "# generate a review\n",
    "# create a idx-to-word translation\n",
    "idx_to_word = dict((v, k) for k,v in count_vocab.items())\n",
    "# input the words \"The\" and \"movie\"\n",
    "model.eval()\n",
    "h, c = model.init_hidden(batch_size)\n",
    "h = h[:,:1,:]\n",
    "c = c[:,:1,:]\n",
    "words = ['A', 'ad']\n",
    "pred_words = []\n",
    "for w in words:\n",
    "    ix = torch.tensor([[count_vocab[w]]]).to(device)\n",
    "    output, (h, c) = model(ix, (h, c))\n",
    "    top_pred_word = torch.argmax(output)\n",
    "    pred_words.append(int(top_pred_word))\n",
    "while len(pred_words)<30:\n",
    "    output, (h, c) = model(top_pred_word.view(1, 1), (h, c))\n",
    "    top_pred_word = torch.argmax(output)\n",
    "    pred_words.append(int(top_pred_word))  \n",
    "print('Generated sentence:', [idx_to_word[idx] for idx in pred_words])"
   ]
  }
 ],
 "metadata": {
  "accelerator": "GPU",
  "colab": {
   "collapsed_sections": [],
   "name": "week_5_scoping.ipynb",
   "provenance": []
  },
  "kernelspec": {
   "display_name": "Python [conda env:mainpy3] *",
   "language": "python",
   "name": "conda-env-mainpy3-py"
  },
  "language_info": {
   "codemirror_mode": {
    "name": "ipython",
    "version": 3
   },
   "file_extension": ".py",
   "mimetype": "text/x-python",
   "name": "python",
   "nbconvert_exporter": "python",
   "pygments_lexer": "ipython3",
   "version": "3.6.7"
  },
  "widgets": {
   "application/vnd.jupyter.widget-state+json": {
    "0426dfb932f34544b41a713341f72a66": {
     "model_module": "@jupyter-widgets/controls",
     "model_name": "ProgressStyleModel",
     "state": {
      "_model_module": "@jupyter-widgets/controls",
      "_model_module_version": "1.5.0",
      "_model_name": "ProgressStyleModel",
      "_view_count": null,
      "_view_module": "@jupyter-widgets/base",
      "_view_module_version": "1.2.0",
      "_view_name": "StyleView",
      "bar_color": null,
      "description_width": "initial"
     }
    },
    "113785db3fff4cebb333547def6a3e7e": {
     "model_module": "@jupyter-widgets/controls",
     "model_name": "HBoxModel",
     "state": {
      "_dom_classes": [],
      "_model_module": "@jupyter-widgets/controls",
      "_model_module_version": "1.5.0",
      "_model_name": "HBoxModel",
      "_view_count": null,
      "_view_module": "@jupyter-widgets/controls",
      "_view_module_version": "1.5.0",
      "_view_name": "HBoxView",
      "box_style": "",
      "children": [
       "IPY_MODEL_250a5b33586e446aa854e931897262b1",
       "IPY_MODEL_32c0e2488c7e4f5da4de89379f2087de"
      ],
      "layout": "IPY_MODEL_a48d098fd5f84b69bd48f781a30cd9cf"
     }
    },
    "18a058fbe9de43b8bcbbd8a9c59dfa88": {
     "model_module": "@jupyter-widgets/base",
     "model_name": "LayoutModel",
     "state": {
      "_model_module": "@jupyter-widgets/base",
      "_model_module_version": "1.2.0",
      "_model_name": "LayoutModel",
      "_view_count": null,
      "_view_module": "@jupyter-widgets/base",
      "_view_module_version": "1.2.0",
      "_view_name": "LayoutView",
      "align_content": null,
      "align_items": null,
      "align_self": null,
      "border": null,
      "bottom": null,
      "display": null,
      "flex": null,
      "flex_flow": null,
      "grid_area": null,
      "grid_auto_columns": null,
      "grid_auto_flow": null,
      "grid_auto_rows": null,
      "grid_column": null,
      "grid_gap": null,
      "grid_row": null,
      "grid_template_areas": null,
      "grid_template_columns": null,
      "grid_template_rows": null,
      "height": null,
      "justify_content": null,
      "justify_items": null,
      "left": null,
      "margin": null,
      "max_height": null,
      "max_width": null,
      "min_height": null,
      "min_width": null,
      "object_fit": null,
      "object_position": null,
      "order": null,
      "overflow": null,
      "overflow_x": null,
      "overflow_y": null,
      "padding": null,
      "right": null,
      "top": null,
      "visibility": null,
      "width": null
     }
    },
    "1aa1af45996b48019c8edfc5b6680c93": {
     "model_module": "@jupyter-widgets/controls",
     "model_name": "HBoxModel",
     "state": {
      "_dom_classes": [],
      "_model_module": "@jupyter-widgets/controls",
      "_model_module_version": "1.5.0",
      "_model_name": "HBoxModel",
      "_view_count": null,
      "_view_module": "@jupyter-widgets/controls",
      "_view_module_version": "1.5.0",
      "_view_name": "HBoxView",
      "box_style": "",
      "children": [
       "IPY_MODEL_7ce3f1d752e346eeaa1271f5240ea2de",
       "IPY_MODEL_d74668b6b570463baf4864f7c3c623a4"
      ],
      "layout": "IPY_MODEL_18a058fbe9de43b8bcbbd8a9c59dfa88"
     }
    },
    "250a5b33586e446aa854e931897262b1": {
     "model_module": "@jupyter-widgets/controls",
     "model_name": "FloatProgressModel",
     "state": {
      "_dom_classes": [],
      "_model_module": "@jupyter-widgets/controls",
      "_model_module_version": "1.5.0",
      "_model_name": "FloatProgressModel",
      "_view_count": null,
      "_view_module": "@jupyter-widgets/controls",
      "_view_module_version": "1.5.0",
      "_view_name": "ProgressView",
      "bar_style": "success",
      "description": "Downloading: 100%",
      "description_tooltip": null,
      "layout": "IPY_MODEL_2665d51083e2495bb59f1cbfceb94cb1",
      "max": 442,
      "min": 0,
      "orientation": "horizontal",
      "style": "IPY_MODEL_bba9944b17ed42c6bb7c7a41a57d5f32",
      "value": 442
     }
    },
    "2665d51083e2495bb59f1cbfceb94cb1": {
     "model_module": "@jupyter-widgets/base",
     "model_name": "LayoutModel",
     "state": {
      "_model_module": "@jupyter-widgets/base",
      "_model_module_version": "1.2.0",
      "_model_name": "LayoutModel",
      "_view_count": null,
      "_view_module": "@jupyter-widgets/base",
      "_view_module_version": "1.2.0",
      "_view_name": "LayoutView",
      "align_content": null,
      "align_items": null,
      "align_self": null,
      "border": null,
      "bottom": null,
      "display": null,
      "flex": null,
      "flex_flow": null,
      "grid_area": null,
      "grid_auto_columns": null,
      "grid_auto_flow": null,
      "grid_auto_rows": null,
      "grid_column": null,
      "grid_gap": null,
      "grid_row": null,
      "grid_template_areas": null,
      "grid_template_columns": null,
      "grid_template_rows": null,
      "height": null,
      "justify_content": null,
      "justify_items": null,
      "left": null,
      "margin": null,
      "max_height": null,
      "max_width": null,
      "min_height": null,
      "min_width": null,
      "object_fit": null,
      "object_position": null,
      "order": null,
      "overflow": null,
      "overflow_x": null,
      "overflow_y": null,
      "padding": null,
      "right": null,
      "top": null,
      "visibility": null,
      "width": null
     }
    },
    "2e022f78c0bb4beaa5f8adcc771b05cd": {
     "model_module": "@jupyter-widgets/controls",
     "model_name": "DescriptionStyleModel",
     "state": {
      "_model_module": "@jupyter-widgets/controls",
      "_model_module_version": "1.5.0",
      "_model_name": "DescriptionStyleModel",
      "_view_count": null,
      "_view_module": "@jupyter-widgets/base",
      "_view_module_version": "1.2.0",
      "_view_name": "StyleView",
      "description_width": ""
     }
    },
    "32c0e2488c7e4f5da4de89379f2087de": {
     "model_module": "@jupyter-widgets/controls",
     "model_name": "HTMLModel",
     "state": {
      "_dom_classes": [],
      "_model_module": "@jupyter-widgets/controls",
      "_model_module_version": "1.5.0",
      "_model_name": "HTMLModel",
      "_view_count": null,
      "_view_module": "@jupyter-widgets/controls",
      "_view_module_version": "1.5.0",
      "_view_name": "HTMLView",
      "description": "",
      "description_tooltip": null,
      "layout": "IPY_MODEL_f48438770cc2493c98dd287c42a3a8d1",
      "placeholder": "​",
      "style": "IPY_MODEL_fb98c3946c3a447e8aea928fcd60787f",
      "value": " 442/442 [00:12&lt;00:00, 34.8B/s]"
     }
    },
    "37e7c6e7381d400cb5a7a1cfb07ee5a3": {
     "model_module": "@jupyter-widgets/base",
     "model_name": "LayoutModel",
     "state": {
      "_model_module": "@jupyter-widgets/base",
      "_model_module_version": "1.2.0",
      "_model_name": "LayoutModel",
      "_view_count": null,
      "_view_module": "@jupyter-widgets/base",
      "_view_module_version": "1.2.0",
      "_view_name": "LayoutView",
      "align_content": null,
      "align_items": null,
      "align_self": null,
      "border": null,
      "bottom": null,
      "display": null,
      "flex": null,
      "flex_flow": null,
      "grid_area": null,
      "grid_auto_columns": null,
      "grid_auto_flow": null,
      "grid_auto_rows": null,
      "grid_column": null,
      "grid_gap": null,
      "grid_row": null,
      "grid_template_areas": null,
      "grid_template_columns": null,
      "grid_template_rows": null,
      "height": null,
      "justify_content": null,
      "justify_items": null,
      "left": null,
      "margin": null,
      "max_height": null,
      "max_width": null,
      "min_height": null,
      "min_width": null,
      "object_fit": null,
      "object_position": null,
      "order": null,
      "overflow": null,
      "overflow_x": null,
      "overflow_y": null,
      "padding": null,
      "right": null,
      "top": null,
      "visibility": null,
      "width": null
     }
    },
    "4ccb577ea8c4496f8f5da7fdb925b598": {
     "model_module": "@jupyter-widgets/base",
     "model_name": "LayoutModel",
     "state": {
      "_model_module": "@jupyter-widgets/base",
      "_model_module_version": "1.2.0",
      "_model_name": "LayoutModel",
      "_view_count": null,
      "_view_module": "@jupyter-widgets/base",
      "_view_module_version": "1.2.0",
      "_view_name": "LayoutView",
      "align_content": null,
      "align_items": null,
      "align_self": null,
      "border": null,
      "bottom": null,
      "display": null,
      "flex": null,
      "flex_flow": null,
      "grid_area": null,
      "grid_auto_columns": null,
      "grid_auto_flow": null,
      "grid_auto_rows": null,
      "grid_column": null,
      "grid_gap": null,
      "grid_row": null,
      "grid_template_areas": null,
      "grid_template_columns": null,
      "grid_template_rows": null,
      "height": null,
      "justify_content": null,
      "justify_items": null,
      "left": null,
      "margin": null,
      "max_height": null,
      "max_width": null,
      "min_height": null,
      "min_width": null,
      "object_fit": null,
      "object_position": null,
      "order": null,
      "overflow": null,
      "overflow_x": null,
      "overflow_y": null,
      "padding": null,
      "right": null,
      "top": null,
      "visibility": null,
      "width": null
     }
    },
    "5aa01c5c96484549aacd377f3a017faa": {
     "model_module": "@jupyter-widgets/controls",
     "model_name": "FloatProgressModel",
     "state": {
      "_dom_classes": [],
      "_model_module": "@jupyter-widgets/controls",
      "_model_module_version": "1.5.0",
      "_model_name": "FloatProgressModel",
      "_view_count": null,
      "_view_module": "@jupyter-widgets/controls",
      "_view_module_version": "1.5.0",
      "_view_name": "ProgressView",
      "bar_style": "success",
      "description": "Downloading: 100%",
      "description_tooltip": null,
      "layout": "IPY_MODEL_9358dac6728749958658d9fdad894be5",
      "max": 267967963,
      "min": 0,
      "orientation": "horizontal",
      "style": "IPY_MODEL_0426dfb932f34544b41a713341f72a66",
      "value": 267967963
     }
    },
    "7ce3f1d752e346eeaa1271f5240ea2de": {
     "model_module": "@jupyter-widgets/controls",
     "model_name": "FloatProgressModel",
     "state": {
      "_dom_classes": [],
      "_model_module": "@jupyter-widgets/controls",
      "_model_module_version": "1.5.0",
      "_model_name": "FloatProgressModel",
      "_view_count": null,
      "_view_module": "@jupyter-widgets/controls",
      "_view_module_version": "1.5.0",
      "_view_name": "ProgressView",
      "bar_style": "success",
      "description": "Downloading: 100%",
      "description_tooltip": null,
      "layout": "IPY_MODEL_fd9739bca498421cb1ce14f41acc0989",
      "max": 231508,
      "min": 0,
      "orientation": "horizontal",
      "style": "IPY_MODEL_8591a0fd56c847698965b03eb9b27c52",
      "value": 231508
     }
    },
    "8591a0fd56c847698965b03eb9b27c52": {
     "model_module": "@jupyter-widgets/controls",
     "model_name": "ProgressStyleModel",
     "state": {
      "_model_module": "@jupyter-widgets/controls",
      "_model_module_version": "1.5.0",
      "_model_name": "ProgressStyleModel",
      "_view_count": null,
      "_view_module": "@jupyter-widgets/base",
      "_view_module_version": "1.2.0",
      "_view_name": "StyleView",
      "bar_color": null,
      "description_width": "initial"
     }
    },
    "9358dac6728749958658d9fdad894be5": {
     "model_module": "@jupyter-widgets/base",
     "model_name": "LayoutModel",
     "state": {
      "_model_module": "@jupyter-widgets/base",
      "_model_module_version": "1.2.0",
      "_model_name": "LayoutModel",
      "_view_count": null,
      "_view_module": "@jupyter-widgets/base",
      "_view_module_version": "1.2.0",
      "_view_name": "LayoutView",
      "align_content": null,
      "align_items": null,
      "align_self": null,
      "border": null,
      "bottom": null,
      "display": null,
      "flex": null,
      "flex_flow": null,
      "grid_area": null,
      "grid_auto_columns": null,
      "grid_auto_flow": null,
      "grid_auto_rows": null,
      "grid_column": null,
      "grid_gap": null,
      "grid_row": null,
      "grid_template_areas": null,
      "grid_template_columns": null,
      "grid_template_rows": null,
      "height": null,
      "justify_content": null,
      "justify_items": null,
      "left": null,
      "margin": null,
      "max_height": null,
      "max_width": null,
      "min_height": null,
      "min_width": null,
      "object_fit": null,
      "object_position": null,
      "order": null,
      "overflow": null,
      "overflow_x": null,
      "overflow_y": null,
      "padding": null,
      "right": null,
      "top": null,
      "visibility": null,
      "width": null
     }
    },
    "964be5aed4bb42fb9f1954cc31c78f44": {
     "model_module": "@jupyter-widgets/controls",
     "model_name": "HBoxModel",
     "state": {
      "_dom_classes": [],
      "_model_module": "@jupyter-widgets/controls",
      "_model_module_version": "1.5.0",
      "_model_name": "HBoxModel",
      "_view_count": null,
      "_view_module": "@jupyter-widgets/controls",
      "_view_module_version": "1.5.0",
      "_view_name": "HBoxView",
      "box_style": "",
      "children": [
       "IPY_MODEL_5aa01c5c96484549aacd377f3a017faa",
       "IPY_MODEL_dda260a25b174799a87bcec9ce7d5fb3"
      ],
      "layout": "IPY_MODEL_4ccb577ea8c4496f8f5da7fdb925b598"
     }
    },
    "9eb1877f49dc4fa4a1b04c7008db029d": {
     "model_module": "@jupyter-widgets/base",
     "model_name": "LayoutModel",
     "state": {
      "_model_module": "@jupyter-widgets/base",
      "_model_module_version": "1.2.0",
      "_model_name": "LayoutModel",
      "_view_count": null,
      "_view_module": "@jupyter-widgets/base",
      "_view_module_version": "1.2.0",
      "_view_name": "LayoutView",
      "align_content": null,
      "align_items": null,
      "align_self": null,
      "border": null,
      "bottom": null,
      "display": null,
      "flex": null,
      "flex_flow": null,
      "grid_area": null,
      "grid_auto_columns": null,
      "grid_auto_flow": null,
      "grid_auto_rows": null,
      "grid_column": null,
      "grid_gap": null,
      "grid_row": null,
      "grid_template_areas": null,
      "grid_template_columns": null,
      "grid_template_rows": null,
      "height": null,
      "justify_content": null,
      "justify_items": null,
      "left": null,
      "margin": null,
      "max_height": null,
      "max_width": null,
      "min_height": null,
      "min_width": null,
      "object_fit": null,
      "object_position": null,
      "order": null,
      "overflow": null,
      "overflow_x": null,
      "overflow_y": null,
      "padding": null,
      "right": null,
      "top": null,
      "visibility": null,
      "width": null
     }
    },
    "a48d098fd5f84b69bd48f781a30cd9cf": {
     "model_module": "@jupyter-widgets/base",
     "model_name": "LayoutModel",
     "state": {
      "_model_module": "@jupyter-widgets/base",
      "_model_module_version": "1.2.0",
      "_model_name": "LayoutModel",
      "_view_count": null,
      "_view_module": "@jupyter-widgets/base",
      "_view_module_version": "1.2.0",
      "_view_name": "LayoutView",
      "align_content": null,
      "align_items": null,
      "align_self": null,
      "border": null,
      "bottom": null,
      "display": null,
      "flex": null,
      "flex_flow": null,
      "grid_area": null,
      "grid_auto_columns": null,
      "grid_auto_flow": null,
      "grid_auto_rows": null,
      "grid_column": null,
      "grid_gap": null,
      "grid_row": null,
      "grid_template_areas": null,
      "grid_template_columns": null,
      "grid_template_rows": null,
      "height": null,
      "justify_content": null,
      "justify_items": null,
      "left": null,
      "margin": null,
      "max_height": null,
      "max_width": null,
      "min_height": null,
      "min_width": null,
      "object_fit": null,
      "object_position": null,
      "order": null,
      "overflow": null,
      "overflow_x": null,
      "overflow_y": null,
      "padding": null,
      "right": null,
      "top": null,
      "visibility": null,
      "width": null
     }
    },
    "b20ebae009a043e589d85a01f86769c6": {
     "model_module": "@jupyter-widgets/controls",
     "model_name": "DescriptionStyleModel",
     "state": {
      "_model_module": "@jupyter-widgets/controls",
      "_model_module_version": "1.5.0",
      "_model_name": "DescriptionStyleModel",
      "_view_count": null,
      "_view_module": "@jupyter-widgets/base",
      "_view_module_version": "1.2.0",
      "_view_name": "StyleView",
      "description_width": ""
     }
    },
    "bba9944b17ed42c6bb7c7a41a57d5f32": {
     "model_module": "@jupyter-widgets/controls",
     "model_name": "ProgressStyleModel",
     "state": {
      "_model_module": "@jupyter-widgets/controls",
      "_model_module_version": "1.5.0",
      "_model_name": "ProgressStyleModel",
      "_view_count": null,
      "_view_module": "@jupyter-widgets/base",
      "_view_module_version": "1.2.0",
      "_view_name": "StyleView",
      "bar_color": null,
      "description_width": "initial"
     }
    },
    "d74668b6b570463baf4864f7c3c623a4": {
     "model_module": "@jupyter-widgets/controls",
     "model_name": "HTMLModel",
     "state": {
      "_dom_classes": [],
      "_model_module": "@jupyter-widgets/controls",
      "_model_module_version": "1.5.0",
      "_model_name": "HTMLModel",
      "_view_count": null,
      "_view_module": "@jupyter-widgets/controls",
      "_view_module_version": "1.5.0",
      "_view_name": "HTMLView",
      "description": "",
      "description_tooltip": null,
      "layout": "IPY_MODEL_37e7c6e7381d400cb5a7a1cfb07ee5a3",
      "placeholder": "​",
      "style": "IPY_MODEL_2e022f78c0bb4beaa5f8adcc771b05cd",
      "value": " 232k/232k [00:00&lt;00:00, 693kB/s]"
     }
    },
    "dda260a25b174799a87bcec9ce7d5fb3": {
     "model_module": "@jupyter-widgets/controls",
     "model_name": "HTMLModel",
     "state": {
      "_dom_classes": [],
      "_model_module": "@jupyter-widgets/controls",
      "_model_module_version": "1.5.0",
      "_model_name": "HTMLModel",
      "_view_count": null,
      "_view_module": "@jupyter-widgets/controls",
      "_view_module_version": "1.5.0",
      "_view_name": "HTMLView",
      "description": "",
      "description_tooltip": null,
      "layout": "IPY_MODEL_9eb1877f49dc4fa4a1b04c7008db029d",
      "placeholder": "​",
      "style": "IPY_MODEL_b20ebae009a043e589d85a01f86769c6",
      "value": " 268M/268M [00:09&lt;00:00, 27.4MB/s]"
     }
    },
    "f48438770cc2493c98dd287c42a3a8d1": {
     "model_module": "@jupyter-widgets/base",
     "model_name": "LayoutModel",
     "state": {
      "_model_module": "@jupyter-widgets/base",
      "_model_module_version": "1.2.0",
      "_model_name": "LayoutModel",
      "_view_count": null,
      "_view_module": "@jupyter-widgets/base",
      "_view_module_version": "1.2.0",
      "_view_name": "LayoutView",
      "align_content": null,
      "align_items": null,
      "align_self": null,
      "border": null,
      "bottom": null,
      "display": null,
      "flex": null,
      "flex_flow": null,
      "grid_area": null,
      "grid_auto_columns": null,
      "grid_auto_flow": null,
      "grid_auto_rows": null,
      "grid_column": null,
      "grid_gap": null,
      "grid_row": null,
      "grid_template_areas": null,
      "grid_template_columns": null,
      "grid_template_rows": null,
      "height": null,
      "justify_content": null,
      "justify_items": null,
      "left": null,
      "margin": null,
      "max_height": null,
      "max_width": null,
      "min_height": null,
      "min_width": null,
      "object_fit": null,
      "object_position": null,
      "order": null,
      "overflow": null,
      "overflow_x": null,
      "overflow_y": null,
      "padding": null,
      "right": null,
      "top": null,
      "visibility": null,
      "width": null
     }
    },
    "fb98c3946c3a447e8aea928fcd60787f": {
     "model_module": "@jupyter-widgets/controls",
     "model_name": "DescriptionStyleModel",
     "state": {
      "_model_module": "@jupyter-widgets/controls",
      "_model_module_version": "1.5.0",
      "_model_name": "DescriptionStyleModel",
      "_view_count": null,
      "_view_module": "@jupyter-widgets/base",
      "_view_module_version": "1.2.0",
      "_view_name": "StyleView",
      "description_width": ""
     }
    },
    "fd9739bca498421cb1ce14f41acc0989": {
     "model_module": "@jupyter-widgets/base",
     "model_name": "LayoutModel",
     "state": {
      "_model_module": "@jupyter-widgets/base",
      "_model_module_version": "1.2.0",
      "_model_name": "LayoutModel",
      "_view_count": null,
      "_view_module": "@jupyter-widgets/base",
      "_view_module_version": "1.2.0",
      "_view_name": "LayoutView",
      "align_content": null,
      "align_items": null,
      "align_self": null,
      "border": null,
      "bottom": null,
      "display": null,
      "flex": null,
      "flex_flow": null,
      "grid_area": null,
      "grid_auto_columns": null,
      "grid_auto_flow": null,
      "grid_auto_rows": null,
      "grid_column": null,
      "grid_gap": null,
      "grid_row": null,
      "grid_template_areas": null,
      "grid_template_columns": null,
      "grid_template_rows": null,
      "height": null,
      "justify_content": null,
      "justify_items": null,
      "left": null,
      "margin": null,
      "max_height": null,
      "max_width": null,
      "min_height": null,
      "min_width": null,
      "object_fit": null,
      "object_position": null,
      "order": null,
      "overflow": null,
      "overflow_x": null,
      "overflow_y": null,
      "padding": null,
      "right": null,
      "top": null,
      "visibility": null,
      "width": null
     }
    }
   }
  }
 },
 "nbformat": 4,
 "nbformat_minor": 1
}
