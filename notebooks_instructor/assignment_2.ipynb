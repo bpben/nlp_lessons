{
 "cells": [
  {
   "cell_type": "markdown",
   "metadata": {},
   "source": [
    "# Assignment 2: Predicting sentiment\n",
    "In this assignment, you will be using the same sentiment analysis dataset as for Assignment 1, but you'll be looking to actually predict sentiment based on a variety of text-derived features.\n",
    "\n",
    "This dataset comes from [Mass et. al. (2011)](https://www.aclweb.org/anthology/P11-1015.pdf) and the full version is available [here](http://ai.stanford.edu/~amaas/data/sentiment/)."
   ]
  },
  {
   "cell_type": "code",
   "execution_count": 1,
   "metadata": {},
   "outputs": [],
   "source": [
    "# setup\n",
    "import sys\n",
    "import subprocess\n",
    "import pkg_resources\n",
    "from collections import Counter\n",
    "import re\n",
    "from numpy import log, mean\n",
    "\n",
    "required = {'spacy', 'scikit-learn', 'pandas', 'transformers==2.4.1'}\n",
    "installed = {pkg.key for pkg in pkg_resources.working_set}\n",
    "missing = required - installed\n",
    "\n",
    "if missing:\n",
    "    python = sys.executable\n",
    "    subprocess.check_call([python, '-m', 'pip', 'install', *missing], stdout=subprocess.DEVNULL)\n",
    "\n",
    "import spacy\n",
    "import pandas as pd\n",
    "import numpy as np\n",
    "import pickle\n",
    "from sklearn.feature_extraction.text import CountVectorizer, TfidfVectorizer\n",
    "from sklearn.decomposition import NMF, LatentDirichletAllocation\n",
    "from sklearn.metrics.pairwise import cosine_similarity\n",
    "from sklearn.metrics import accuracy_score\n",
    "from sklearn.svm import LinearSVC"
   ]
  },
  {
   "cell_type": "markdown",
   "metadata": {},
   "source": [
    "## Read in data\n",
    "I've saved a subset of the data in the data directory on the repository.  It is available as a pickled dictionary.\n"
   ]
  },
  {
   "cell_type": "code",
   "execution_count": 31,
   "metadata": {},
   "outputs": [
    {
     "name": "stdout",
     "output_type": "stream",
     "text": [
      "[('neg', 1233), ('pos', 1266)]\n",
      "[1233 1266]\n"
     ]
    }
   ],
   "source": [
    "# you will need to change this to where ever the file is stored\n",
    "data_location = '../data/assignment_1_reviews.pkl'\n",
    "with open(data_location, 'rb') as f:\n",
    "    all_text = pickle.load(f)\n",
    "# corpora size\n",
    "print([(k, len(all_text[k])) for k in all_text])\n",
    "neg, pos = all_text.values()\n",
    "# for this assignment, let's combine all our data, but maintain the labels\n",
    "all_text = neg+pos\n",
    "# array makes for easier indexing\n",
    "is_positive = np.array([False]*len(neg)+[True]*len(pos))\n",
    "# check that they're equivalent\n",
    "print(np.bincount(is_positive))"
   ]
  },
  {
   "cell_type": "markdown",
   "metadata": {},
   "source": [
    "## Creating document feature vectors\n",
    "In this section, process all of your text data in order to create the following document-level feature vectors:\n",
    "\n",
    "- Word Counts (using `CountVectorizer`)\n",
    "- TF-IDF vectors (using `TfidfVectorizer`)\n",
    "- Non-Negative Matrix Factorization-based representations (using `NMF`)\n",
    "- Latent Dirichlet Allocation-based representations (using `LatentDirichletAllocation`)\n",
    "\n",
    "All of the design elements are up to you (e.g. tokenization, vocabulary limits, number of components).  It may make sense to try out a few different designs.  In the next section we'll do some evaluation of our different strategies."
   ]
  },
  {
   "cell_type": "code",
   "execution_count": 3,
   "metadata": {},
   "outputs": [],
   "source": [
    "from spacy.lang.en import English\n",
    "en = English()\n",
    "\n",
    "def simple_tokenizer(doc, model=en):\n",
    "    # a simple tokenizer for individual documents (different from above)\n",
    "    tokenized_docs = []\n",
    "    parsed = model(doc)\n",
    "    return([t.lower_ for t in parsed if (t.is_alpha)&(not t.like_url)])\n",
    "\n",
    "def simple_vectorizer(data, vec_model):\n",
    "    vecs = vec_model.fit_transform(data)\n",
    "    return(vecs)"
   ]
  },
  {
   "cell_type": "code",
   "execution_count": 104,
   "metadata": {},
   "outputs": [],
   "source": [
    "# initialize vectorizers\n",
    "cv = CountVectorizer(tokenizer=simple_tokenizer)\n",
    "tfidf = TfidfVectorizer(tokenizer=simple_tokenizer)\n",
    "nmf = NMF(n_components=10)\n",
    "lda = LatentDirichletAllocation(n_components=10)"
   ]
  },
  {
   "cell_type": "code",
   "execution_count": 105,
   "metadata": {},
   "outputs": [],
   "source": [
    "# tfidf for nmf\n",
    "tfidf_counts = tfidf.fit_transform(all_text).toarray()\n",
    "nmf_vecs = nmf.fit_transform(tfidf_counts)\n",
    "# count for lda\n",
    "counts = cv.fit_transform(all_text).toarray()\n",
    "lda_vecs = lda.fit_transform(counts)"
   ]
  },
  {
   "cell_type": "markdown",
   "metadata": {},
   "source": [
    "## Exploratory analysis on vectors\n",
    "It's important to do some initial exploration of the features you've engineered.  Remember the goal is to get some information out of text, so you want to ensure your features are informative.  In this case, informative would mean it gives some information about sentiment.\n",
    "\n",
    "Perform the following analysis and any additional checks that might be useful for creating a set of informative features:\n",
    "- Top words for positive versus negative (Counts and TF-IDF)\n",
    "- Topic model performance measures (NMF=Reconstruction error, LDA=Evidence Lower BOund (ELBO))\n",
    "- Average cosine similarity between negative review vecvtors and positive review vectors (for all vectors you've created)\n",
    "\n",
    "Tip: You can use the is_positive vector to subset your vectors.  You will likely need to have them in dense array format (use the `.toarray()` method.)"
   ]
  },
  {
   "cell_type": "code",
   "execution_count": 106,
   "metadata": {},
   "outputs": [
    {
     "name": "stdout",
     "output_type": "stream",
     "text": [
      "['that', 'i', 'it', 'in', 'is', 'to', 'of', 'a', 'and', 'the']\n",
      "['this', 'in', 'i', 'it', 'is', 'of', 'to', 'and', 'a', 'the']\n",
      "['this', 'in', 'it', 'i', 'is', 'to', 'of', 'a', 'and', 'the']\n",
      "['in', 'this', 'it', 'is', 'i', 'of', 'to', 'and', 'a', 'the']\n"
     ]
    }
   ],
   "source": [
    "# get top x words\n",
    "top_words = 10\n",
    "# for pos/neg set\n",
    "for vectorizer, vecs  in [(cv, counts), (tfidf, tfidf_counts)]:\n",
    "    for s in [is_positive, ~is_positive]:    \n",
    "        # sum counts\n",
    "        s_sum = vecs[s].sum(axis=0)\n",
    "        # sort arguments\n",
    "        s_sorted = np.argsort(s_sum)\n",
    "        # print top words\n",
    "        print([vectorizer.get_feature_names()[x] for x in s_sorted[-top_words:]])"
   ]
  },
  {
   "cell_type": "code",
   "execution_count": 107,
   "metadata": {},
   "outputs": [
    {
     "name": "stdout",
     "output_type": "stream",
     "text": [
      "Reconstruction err: 45.64506849016089\n",
      "ELBO: 1169.3050783512356\n"
     ]
    }
   ],
   "source": [
    "# topic model performance\n",
    "print('Reconstruction err:', nmf.reconstruction_err_)\n",
    "print('ELBO:', lda.bound_)"
   ]
  },
  {
   "cell_type": "code",
   "execution_count": 108,
   "metadata": {},
   "outputs": [
    {
     "name": "stdout",
     "output_type": "stream",
     "text": [
      "neg-to-neg: 0.5334077646265442 neg-to-pos: 0.5314326255417757 pos-to-pos: 0.5369682327485035\n",
      "neg-to-neg: 0.1297415905734085 neg-to-pos: 0.1236987648556773 pos-to-pos: 0.12412758408737891\n",
      "neg-to-neg: 0.5553866886819624 neg-to-pos: 0.5378613920269675 pos-to-pos: 0.5474888074545456\n",
      "neg-to-neg: 0.5436592806791214 neg-to-pos: 0.4692693171162177 pos-to-pos: 0.4215521175388209\n"
     ]
    }
   ],
   "source": [
    "# average cosine similarity\n",
    "count_sims = cosine_similarity(counts)\n",
    "tfidf_sims = cosine_similarity(tfidf_counts)\n",
    "nmf_sims = cosine_similarity(nmf_vecs)\n",
    "lda_sims = cosine_similarity(lda_vecs)\n",
    "# compare positive to negative average distance\n",
    "for s_matrix in [count_sims, tfidf_sims, nmf_sims, lda_sims]:\n",
    "    print('neg-to-neg:', s_matrix[~is_positive][:, ~is_positive].mean(axis=1).mean(),\n",
    "          'neg-to-pos:', s_matrix[~is_positive][:, is_positive].mean(axis=1).mean(),\n",
    "          'pos-to-pos:', s_matrix[is_positive][:, is_positive].mean(axis=1).mean())"
   ]
  },
  {
   "cell_type": "markdown",
   "metadata": {},
   "source": [
    "How do the above results look? Ideally you should see that your features give some information that might help a model discern negative from positive reviews.  That means lower similarity inter-class and different words showing up as most frequent/relevant.  Experiment with your design choices on the steps above.  Your goal should be to get to a set of vectors that have lower inter-class similarity than intra-class similarity (e.g. positive reviews should be more similar to positive reviews than negative reviews)"
   ]
  },
  {
   "cell_type": "markdown",
   "metadata": {},
   "source": [
    "## Predicting sentiment\n",
    "As we did in week 2's notebook, we're now going to use these informative vectors to predict sentiment.  We'll be using `LinearSVC` in this exercise, but feel free to try out other models.\n",
    "\n",
    "Start by creating a train/test split for the dataset (typically 70%/30%).  We'll use the same split for all feature vectors for comparability. \n",
    "\n",
    "Do the following steps for all the feature vectors you developed above:\n",
    "- Start by creating a train/test split for the dataset (typically 70%/30%).  We'll use the same split for all feature vectors for comparability. \n",
    "- Train an SVM model on your feature vectors with the corresponding target values (positive/negative)\n",
    "- Test the SVM model on the test set and output the accuracy\n",
    "\n",
    "Tip: Sklearn has a train/test split functionality for generating train/test splits (`sklearn.model_selection.train_test_split`).  Since we want to use the same reviews, make sure you set a random_state (see the docs)."
   ]
  },
  {
   "cell_type": "code",
   "execution_count": 109,
   "metadata": {},
   "outputs": [],
   "source": [
    "test_size = 0.3\n",
    "test_idxs = np.random.random(size=len(is_positive))\n",
    "test_idxs = test_idxs<=test_size\n",
    "def split_vecs(vecs, target=is_positive, test_idxs=test_idxs):\n",
    "    X_test = vecs[test_idxs, :]\n",
    "    X_train = vecs[~test_idxs, :]\n",
    "    y_test = target[test_idxs]\n",
    "    y_train = target[~test_idxs]\n",
    "    return(X_test, X_train, y_train, y_test)\n",
    "X_test, X_train, y_train, y_test = split_vecs(tfidf_counts)"
   ]
  },
  {
   "cell_type": "code",
   "execution_count": 110,
   "metadata": {},
   "outputs": [
    {
     "name": "stdout",
     "output_type": "stream",
     "text": [
      "0.8066666666666666\n",
      "0.8293333333333334\n",
      "0.6493333333333333\n",
      "0.5853333333333334\n"
     ]
    }
   ],
   "source": [
    "from sklearn.model_selection import train_test_split\n",
    "random_state = 42\n",
    "test_size = 0.3\n",
    "for v in [counts, tfidf_counts, nmf_vecs, lda_vecs]:\n",
    "    X_train, X_test, y_train, y_test = train_test_split(v, is_positive, \n",
    "                                                        test_size=test_size, \n",
    "                                                        random_state=random_state)\n",
    "    svc = LinearSVC()\n",
    "    svc.fit(X_train, y_train)\n",
    "    print(accuracy_score(y_test, svc.predict(X_test)))"
   ]
  },
  {
   "cell_type": "code",
   "execution_count": 111,
   "metadata": {},
   "outputs": [
    {
     "name": "stdout",
     "output_type": "stream",
     "text": [
      "0.812\n",
      "0.8253333333333334\n"
     ]
    }
   ],
   "source": [
    "from sklearn.model_selection import train_test_split\n",
    "random_state = 42\n",
    "test_size = 0.3\n",
    "for v in [np.concatenate([counts, lda_vecs], axis=1),\n",
    "          np.concatenate([tfidf_counts, nmf_vecs], axis=1)]:\n",
    "    X_train, X_test, y_train, y_test = train_test_split(v, is_positive, \n",
    "                                                        test_size=test_size, random_state=42)\n",
    "    svc = LinearSVC()\n",
    "    svc.fit(X_train, y_train)\n",
    "    print(accuracy_score(y_test, svc.predict(X_test)))"
   ]
  },
  {
   "cell_type": "markdown",
   "metadata": {},
   "source": [
    "Depending on how you've designed your vectors, you may find that the topic models perform worse than the count vectors.  You may want to try a couple different configurations.  \n",
    "\n",
    "One key reason for this may be because if the goal is to use our test observations to simulate our \"new observations\", we haven't properly done that.  We've fit our vectorizers on the FULL corpus.  If our test observations are \"unseen\", that means our vectorizers should only be fit on the training corpus.\n",
    "\n",
    "Try this out: Split the unprocessed reviews, fit the vectorizer, then the model and then transform the test observations and predict.  See how the accuracy changes\n",
    "\n",
    "Tip: You may want to explore sklearn's `Pipelines`, which is designed for exactly this purpose"
   ]
  },
  {
   "cell_type": "code",
   "execution_count": 119,
   "metadata": {},
   "outputs": [],
   "source": [
    "# split raw data\n",
    "test_size = 0.3\n",
    "test_idxs = np.random.random(len(all_text))<=test_size\n",
    "test_text = np.array(all_text)[test_idxs]\n",
    "test_is_positive = np.array(is_positive)[test_idxs]\n",
    "train_text = np.array(all_text)[~test_idxs]\n",
    "train_is_positive = np.array(is_positive)[~test_idxs]"
   ]
  },
  {
   "cell_type": "code",
   "execution_count": 158,
   "metadata": {},
   "outputs": [
    {
     "data": {
      "text/plain": [
       "Pipeline(memory=None,\n",
       "         steps=[('tfidf',\n",
       "                 TfidfVectorizer(analyzer='word', binary=False,\n",
       "                                 decode_error='strict',\n",
       "                                 dtype=<class 'numpy.float64'>,\n",
       "                                 encoding='utf-8', input='content',\n",
       "                                 lowercase=True, max_df=1.0, max_features=None,\n",
       "                                 min_df=1, ngram_range=(1, 1), norm='l2',\n",
       "                                 preprocessor=None, smooth_idf=True,\n",
       "                                 stop_words=None, strip_accents=None,\n",
       "                                 sublinear_tf=False,\n",
       "                                 token_pattern='...\n",
       "                 NMF(alpha=0.0, beta_loss='frobenius', init=None, l1_ratio=0.0,\n",
       "                     max_iter=200, n_components=10, random_state=None,\n",
       "                     shuffle=False, solver='cd', tol=0.0001, verbose=0)),\n",
       "                ('svc',\n",
       "                 LinearSVC(C=1.0, class_weight=None, dual=True,\n",
       "                           fit_intercept=True, intercept_scaling=1,\n",
       "                           loss='squared_hinge', max_iter=1000,\n",
       "                           multi_class='ovr', penalty='l2', random_state=None,\n",
       "                           tol=0.0001, verbose=0))],\n",
       "         verbose=False)"
      ]
     },
     "execution_count": 158,
     "metadata": {},
     "output_type": "execute_result"
    }
   ],
   "source": [
    "from sklearn.pipeline import Pipeline\n",
    "# tfidf for nmf\n",
    "tfidf = TfidfVectorizer(tokenizer=simple_tokenizer)\n",
    "nmf = NMF(n_components=10)\n",
    "p = Pipeline([('tfidf', tfidf),\n",
    "         ('nmf', nmf),\n",
    "         ('svc', svc)])\n",
    "p.fit(train_text, train_is_positive)"
   ]
  },
  {
   "cell_type": "code",
   "execution_count": 159,
   "metadata": {},
   "outputs": [
    {
     "name": "stdout",
     "output_type": "stream",
     "text": [
      "Train accuracy: 0.6398876404494382\n",
      "Test accuracy: 0.6203059805285118\n"
     ]
    }
   ],
   "source": [
    "# performance train\n",
    "print('Train accuracy:', p.score(train_text, train_is_positive))\n",
    "# performance test\n",
    "print('Test accuracy:', p.score(test_text, test_is_positive))"
   ]
  },
  {
   "cell_type": "code",
   "execution_count": null,
   "metadata": {},
   "outputs": [],
   "source": []
  }
 ],
 "metadata": {
  "kernelspec": {
   "display_name": "Python [conda env:nlp]",
   "language": "python",
   "name": "conda-env-nlp-py"
  },
  "language_info": {
   "codemirror_mode": {
    "name": "ipython",
    "version": 3
   },
   "file_extension": ".py",
   "mimetype": "text/x-python",
   "name": "python",
   "nbconvert_exporter": "python",
   "pygments_lexer": "ipython3",
   "version": "3.6.10"
  }
 },
 "nbformat": 4,
 "nbformat_minor": 2
}
