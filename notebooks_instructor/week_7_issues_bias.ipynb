{
 "cells": [
  {
   "cell_type": "markdown",
   "metadata": {},
   "source": [
    "# Week 7: Issues and bias in NLP\n",
    "This notebook accompanies the week 7 lecture.  This week focuses on examples of how NLP models can be subject to unexpected bias/unwanted learning and potential methods for addressing these issues."
   ]
  },
  {
   "cell_type": "code",
   "execution_count": 268,
   "metadata": {},
   "outputs": [],
   "source": [
    "%matplotlib inline\n",
    "# setup\n",
    "import sys\n",
    "import subprocess\n",
    "import pkg_resources\n",
    "from collections import Counter\n",
    "import re\n",
    "import pickle\n",
    "\n",
    "required = {'spacy', 'transformers'}\n",
    "installed = {pkg.key for pkg in pkg_resources.working_set}\n",
    "missing = required - installed\n",
    "\n",
    "if missing:\n",
    "    python = sys.executable\n",
    "    subprocess.check_call([python, '-m', 'pip', 'install', *missing], stdout=subprocess.DEVNULL)\n",
    "\n",
    "import json\n",
    "import numpy as np\n",
    "import pandas as pd\n",
    "import spacy\n",
    "import matplotlib.pyplot as plt\n",
    "from sklearn.metrics import accuracy_score\n",
    "from sklearn.metrics.pairwise import cosine_similarity\n",
    "from sklearn.feature_extraction.text import TfidfVectorizer\n",
    "from sklearn.svm import LinearSVC\n",
    "from sklearn.model_selection import train_test_split\n",
    "import torch\n",
    "import torch.nn as nn\n",
    "from torch.utils.data import TensorDataset, DataLoader\n",
    "import transformers\n",
    "# this will set the device on which to train\n",
    "device = torch.device(\"cpu\")\n",
    "# if using collab, set your runtime to use GPU and use the line below\n",
    "#device = torch.device(\"cuda:0\")"
   ]
  },
  {
   "cell_type": "markdown",
   "metadata": {},
   "source": [
    "### Learning from group information\n",
    "In this example, we'll show how removing \"group\" information from data can hurt the performance of the model, but that including it might lead to bias in favor of one group versus another.  We'll also show some potential ways to include group information, but account for potential bias."
   ]
  },
  {
   "cell_type": "code",
   "execution_count": 40,
   "metadata": {},
   "outputs": [],
   "source": [
    "# read in our reviews dataset\n",
    "# you will need to change this to where ever the file is stored\n",
    "data_location = '../data/assignment_1_reviews.pkl'\n",
    "with open(data_location, 'rb') as f:\n",
    "    all_text = pickle.load(f)\n",
    "neg, pos = all_text.values()\n",
    "# join all reviews\n",
    "all_reviews = np.array(neg+pos)\n",
    "# make into a dataframe, a bit easier to manipulate\n",
    "review_df = pd.DataFrame(all_reviews, columns=['review_text'])\n",
    "review_df['is_positive'] =  [0]*len(neg) + [1]*len(pos)"
   ]
  },
  {
   "cell_type": "markdown",
   "metadata": {},
   "source": [
    "Let's make up two groups.  Let's say there's a set of \"picky\" reviewers for whom 90% of their reviews are negative and \"nice\" reviewers who are about equally likely to give a positive review as a negative review."
   ]
  },
  {
   "cell_type": "code",
   "execution_count": 41,
   "metadata": {},
   "outputs": [
    {
     "data": {
      "text/plain": [
       "is_nice\n",
       "0    0.1\n",
       "1    0.5\n",
       "Name: is_positive, dtype: float64"
      ]
     },
     "execution_count": 41,
     "metadata": {},
     "output_type": "execute_result"
    }
   ],
   "source": [
    "# 1000 of each\n",
    "group_size = 1000\n",
    "group_neg_chance = {'picky': 0.9, \n",
    "                    'nice': 0.5}\n",
    "group_data = {}\n",
    "for g in group_neg_chance:\n",
    "    neg_size = int(group_size*group_neg_chance[g])\n",
    "    neg_data = review_df[review_df.is_positive==0].sample(neg_size)\n",
    "    pos_data = review_df[review_df.is_positive==1].sample(group_size-neg_size)\n",
    "    group_data[g] = pd.concat([neg_data, pos_data])\n",
    "    \n",
    "# merge together for model\n",
    "model_data = pd.concat(group_data.values())\n",
    "# add in group indicator\n",
    "model_data['is_nice'] = [0]*group_size + [1]*group_size\n",
    "# quick check\n",
    "model_data.groupby('is_nice')['is_positive'].mean()\n"
   ]
  },
  {
   "cell_type": "code",
   "execution_count": 133,
   "metadata": {},
   "outputs": [
    {
     "name": "stdout",
     "output_type": "stream",
     "text": [
      "Performance with group info: 0.912\n",
      "Performance without group info: 0.88\n",
      "Performance for nice group with group info: 0.8765432098765432\n",
      "Performance for picky group with group info: 0.9455252918287937\n",
      "Performance for nice group without group info: 0.831275720164609\n",
      "Performance for picky group without group info: 0.9260700389105059\n"
     ]
    }
   ],
   "source": [
    "# simple: tfidf + svc with and without groups\n",
    "# train/test split\n",
    "X_train, X_test, y_train, y_test = train_test_split(model_data[['review_text', 'is_nice']], \n",
    "                                                    model_data.is_positive,\n",
    "                                                   random_state=42)\n",
    "# fit tfidf\n",
    "tfidf = TfidfVectorizer(stop_words='english', min_df=0.01)\n",
    "train_vecs = tfidf.fit_transform(X_train['review_text']).toarray()\n",
    "# fit model without group\n",
    "svc_w_group = LinearSVC().fit(\n",
    "    np.concatenate((train_vecs, X_train[['is_nice']]), axis=1),\n",
    "    y_train)\n",
    "# fit model with group\n",
    "svc_no_group = LinearSVC().fit(train_vecs, y_train)\n",
    "# predict on test\n",
    "test_vecs = tfidf.transform(X_test['review_text']).toarray()\n",
    "pred_w_group = svc_w_group.predict(np.concatenate((test_vecs, X_test[['is_nice']]), axis=1))\n",
    "pred_no_group = svc_no_group.predict(test_vecs)\n",
    "\n",
    "print('Performance with group info:', accuracy_score(pred_w_group, y_test))\n",
    "print('Performance without group info:', accuracy_score(pred_no_group, y_test))\n",
    "is_nice = X_test['is_nice'].astype(bool)\n",
    "\n",
    "print('Performance for nice group with group info:', \n",
    "      accuracy_score(pred_w_group[is_nice], \n",
    "                     y_test[is_nice]))\n",
    "print('Performance for picky group with group info:', \n",
    "      accuracy_score(pred_w_group[~is_nice], \n",
    "                     y_test[~is_nice]))\n",
    "print('Performance for nice group without group info:', \n",
    "      accuracy_score(pred_no_group[is_nice], \n",
    "                     y_test[is_nice]))\n",
    "print('Performance for picky group without group info:', \n",
    "      accuracy_score(pred_no_group[~is_nice], \n",
    "                     y_test[~is_nice].astype(bool)))"
   ]
  },
  {
   "cell_type": "markdown",
   "metadata": {},
   "source": [
    "It generally seems that using group info improves our performance across the board.  But is the model unfairly biased against picky reviewers? One way to look at this might be to examine the confusion matrix (i.e. the number of times each class is correctly/incorrectly classified.  Do these numbers vary by group?"
   ]
  },
  {
   "cell_type": "code",
   "execution_count": 137,
   "metadata": {},
   "outputs": [
    {
     "name": "stdout",
     "output_type": "stream",
     "text": [
      "Nice group confusion matrix\n",
      " [[107  24]\n",
      " [  6 106]]\n",
      "Picky group confusion matrix\n",
      " [[229  11]\n",
      " [  3  14]]\n"
     ]
    }
   ],
   "source": [
    "from sklearn.metrics import confusion_matrix\n",
    "print('Nice group confusion matrix\\n',\n",
    "      confusion_matrix(pred_w_group[is_nice], y_test[is_nice]))\n",
    "print('Picky group confusion matrix\\n',\n",
    "      confusion_matrix(pred_w_group[~is_nice], y_test[~is_nice]))"
   ]
  },
  {
   "cell_type": "markdown",
   "metadata": {},
   "source": [
    "This suggests that the model wrongly classifies positive reviews as negative 44% (11/25) of the time for picky reviewers, but only 18% (24/130) of the time for nice reviewers.  That's >2x more likely to mis-classify a positive review! Let's see if we can reduce that.\n",
    "\n",
    "### Exercise: Improve group-wise recall\n",
    "Think of some methods we might use to reduce the misclassification of positive reviews for the picky group.  Some strategies you might want to consider is the `class_weight` parameter in SVC or ensembling models (e.g. averaging predicted probabilities, fitting a model to the predictions)"
   ]
  },
  {
   "cell_type": "code",
   "execution_count": 180,
   "metadata": {},
   "outputs": [
    {
     "name": "stdout",
     "output_type": "stream",
     "text": [
      "Performance with weights: 0.908\n",
      "Nice group confusion matrix\n",
      " [[105  22]\n",
      " [  8 108]]\n",
      "Picky group confusion matrix\n",
      " [[225   9]\n",
      " [  7  16]]\n"
     ]
    }
   ],
   "source": [
    "# weight classes by inverse frequency in train\n",
    "class_weight = (1/y_train.value_counts(normalize=True)).to_dict()\n",
    "svc_balanced = LinearSVC(class_weight=class_weight).fit(\n",
    "    np.concatenate((train_vecs, X_train[['is_nice']]), axis=1),\n",
    "    y_train)\n",
    "# predict on test\n",
    "test_vecs = tfidf.transform(X_test['review_text']).toarray()\n",
    "pred_balanced = svc_balanced.predict(np.concatenate((test_vecs, X_test[['is_nice']]), axis=1))\n",
    "print('Performance with weights:', accuracy_score(pred_balanced, y_test))\n",
    "print('Nice group confusion matrix\\n',\n",
    "      confusion_matrix(pred_balanced[is_nice], y_test[is_nice]))\n",
    "print('Picky group confusion matrix\\n',\n",
    "      confusion_matrix(pred_balanced[~is_nice], y_test[~is_nice]))"
   ]
  },
  {
   "cell_type": "markdown",
   "metadata": {},
   "source": [
    "Nice! We've reduced the missclassification rate for positive reviews for picky reviewers and nice reviewers without hurting accuracy much.  What if we tried just fitting separate models here?"
   ]
  },
  {
   "cell_type": "code",
   "execution_count": 189,
   "metadata": {},
   "outputs": [
    {
     "name": "stdout",
     "output_type": "stream",
     "text": [
      "Performance of nice model: 0.7942386831275721\n",
      "Performance of picky model: 0.9105058365758755\n",
      "Picky group-picky model confusion matrix\n",
      " [[232  23]\n",
      " [  0   2]]\n"
     ]
    }
   ],
   "source": [
    "# fit model with group\n",
    "is_nice_train = X_train['is_nice'].astype(bool)\n",
    "svc_nice = LinearSVC().fit(train_vecs[is_nice_train], y_train[is_nice_train])\n",
    "svc_picky = LinearSVC().fit(train_vecs[~is_nice_train], y_train[~is_nice_train])\n",
    "# predict \n",
    "test_vecs = tfidf.transform(X_test['review_text']).toarray()\n",
    "pred_nice = svc_nice.predict(test_vecs[is_nice])\n",
    "pred_picky = svc_picky.predict(test_vecs[~is_nice])\n",
    "print('Performance of nice model:', accuracy_score(pred_nice, y_test[is_nice]))\n",
    "print('Performance of picky model:', accuracy_score(pred_picky, y_test[~is_nice]))\n",
    "print('Picky group-picky model confusion matrix\\n',\n",
    "      confusion_matrix(pred_picky, y_test[~is_nice]))"
   ]
  },
  {
   "cell_type": "markdown",
   "metadata": {},
   "source": [
    "The accuracy for the picky model is pretty high, but it seems to achieve that by even more bias against picky users.  What if we combine the information here?"
   ]
  },
  {
   "cell_type": "code",
   "execution_count": 209,
   "metadata": {},
   "outputs": [
    {
     "name": "stdout",
     "output_type": "stream",
     "text": [
      "Performance of combined predictions: 0.834\n",
      "Picky group confusion matrix\n",
      " [[202   6]\n",
      " [ 30  19]]\n"
     ]
    }
   ],
   "source": [
    "pred_nice = svc_nice.predict(test_vecs)\n",
    "pred_picky = svc_picky.predict(test_vecs)\n",
    "pred_combined = (pred_nice|pred_picky)\n",
    "print('Performance of combined predictions:', accuracy_score(pred_combined, y_test))\n",
    "print('Picky group confusion matrix\\n',\n",
    "      confusion_matrix(pred_combined[~is_nice], y_test[~is_nice]))"
   ]
  },
  {
   "cell_type": "markdown",
   "metadata": {},
   "source": [
    "Another reduction in misclassification! Though this seems to cost some amount of accuracy.  We can also use a proxy for confidence using the distance to the separator in the model.  You might also use probability if using a logistic regression.  This is just one way to try that out"
   ]
  },
  {
   "cell_type": "code",
   "execution_count": 234,
   "metadata": {},
   "outputs": [
    {
     "name": "stdout",
     "output_type": "stream",
     "text": [
      "Performance of combined predictions: 0.822\n",
      "Picky group confusion matrix\n",
      " [[228  15]\n",
      " [  4  10]]\n"
     ]
    }
   ],
   "source": [
    "pred_nice = svc_nice.decision_function(test_vecs)\n",
    "pred_picky = svc_picky.decision_function(test_vecs)\n",
    "pred_combined = np.mean(np.array([pred_nice, pred_picky]), axis=0)>0\n",
    "print('Performance of combined predictions:', accuracy_score(pred_combined, y_test))\n",
    "print('Picky group confusion matrix\\n',\n",
    "      confusion_matrix(pred_combined[~is_nice], y_test[~is_nice]))"
   ]
  },
  {
   "cell_type": "markdown",
   "metadata": {},
   "source": [
    "Not really promising here.  A model fit on these two features might be able to learn a smarter combination.\n",
    "\n",
    "## Identifying bias in word vectors\n",
    "In this section, we explore a method for identifying bias in word vectors.  In this case we'll be looking at how to evaluate the \"gender component\" of different vectors and how you might be able to correct for it.  Also, we'll see how that correction may not be totally solving our problem."
   ]
  },
  {
   "cell_type": "code",
   "execution_count": 236,
   "metadata": {},
   "outputs": [],
   "source": [
    "nlp = spacy.load('en_core_web_md')"
   ]
  },
  {
   "cell_type": "code",
   "execution_count": 258,
   "metadata": {},
   "outputs": [],
   "source": [
    "# gendered word pairs\n",
    "gendered = [('man', 'woman'),\n",
    "           ('he', 'she'),\n",
    "           ('father', 'mother'),\n",
    "           ('son', 'daughter'),\n",
    "           ('men', 'women'),\n",
    "           ('boy', 'girl'),\n",
    "           ('his', 'hers')]\n",
    "\n",
    "# occupation words (ideally \"neutral\")\n",
    "occs = ['nurse', 'homemaker', 'receptionist',\n",
    "       'boss', 'philosopher', 'maestro']\n",
    "\n",
    "# get occ vectors\n",
    "occs_v = np.zeros(shape=(len(occs), 300))\n",
    "for i, occ in enumerate(occs):\n",
    "    occs_v[i] = nlp.vocab[occ].vector"
   ]
  },
  {
   "cell_type": "code",
   "execution_count": 266,
   "metadata": {},
   "outputs": [],
   "source": [
    "# demonstrating occupation bias\n",
    "# just use he/she\n",
    "he = nlp.vocab['he'].vector\n",
    "she = nlp.vocab['she'].vector\n",
    "occ_he_sim = cosine_similarity(occs_v, he.reshape(1, -1))\n",
    "occ_she_sim = cosine_similarity(occs_v, she.reshape(1, -1))"
   ]
  },
  {
   "cell_type": "code",
   "execution_count": 280,
   "metadata": {},
   "outputs": [
    {
     "data": {
      "text/plain": [
       "Text(0, 0.5, 'similarity to she')"
      ]
     },
     "execution_count": 280,
     "metadata": {},
     "output_type": "execute_result"
    },
    {
     "data": {
      "image/png": "[encoded data removed]",
      "text/plain": [
       "<Figure size 432x288 with 1 Axes>"
      ]
     },
     "metadata": {
      "needs_background": "light"
     },
     "output_type": "display_data"
    }
   ],
   "source": [
    "fig, ax = plt.subplots()\n",
    "ax.scatter(occ_he_sim, occ_she_sim)\n",
    "for i, occ in enumerate(occs):\n",
    "    ax.annotate(occ, (occ_he_sim[i], occ_she_sim[i]))\n",
    "ax.set_xlabel('similarity to he')\n",
    "ax.set_ylabel('similarity to she')"
   ]
  },
  {
   "cell_type": "markdown",
   "metadata": {},
   "source": [
    "We can see a simple view of the gender bias embedded in these supposedly neutral occupational terms here.  Another way we might be able to explore this is by creating a \"gender\" vector and measuring the degree to which a word is gendered by its projection on that vector.  \n",
    "\n",
    "In [Bolukbasi et. al (2016)](https://arxiv.org/pdf/1607.06520.pdf) they use the first principle component of a decomposition of the difference between gendered words, but we'll just use the average for simplicity."
   ]
  },
  {
   "cell_type": "code",
   "execution_count": 289,
   "metadata": {},
   "outputs": [],
   "source": [
    "# gender vector = average of the difference between gendered pairs\n",
    "gender_vec = np.zeros(shape=(300, ))\n",
    "for p in gendered:\n",
    "    gender_vec += nlp.vocab[p[0]].vector - nlp.vocab[p[1]].vector\n",
    "gender_vec = gender_vec/len(gendered)"
   ]
  },
  {
   "cell_type": "code",
   "execution_count": 293,
   "metadata": {},
   "outputs": [
    {
     "name": "stdout",
     "output_type": "stream",
     "text": [
      "nurse -0.6004035111823856\n",
      "homemaker -0.43700202902639257\n",
      "receptionist -0.5232524099656529\n",
      "boss 0.25550318080828693\n",
      "philosopher 0.46069631122875915\n",
      "maestro 0.39486994393427016\n"
     ]
    }
   ],
   "source": [
    "# projection = dot product of vectors, normalized\n",
    "#a = nlp.vocab['test']\n",
    "for i, occ in enumerate(occs):\n",
    "    print(occ, occs_v[i].dot(gender_vec)/gender_vec.dot(gender_vec))"
   ]
  },
  {
   "cell_type": "markdown",
   "metadata": {},
   "source": [
    "Note that since we made the vector he-she, the vector is in the \"direction\" of male-gendered words.  So words that are negative have stronger female associations, positive have stronger male associations.\n",
    "\n",
    "Check out the projection of \"a\", which is close to orthogonal to the gender vector (i.e. has no real gender component)"
   ]
  },
  {
   "cell_type": "code",
   "execution_count": 297,
   "metadata": {},
   "outputs": [
    {
     "data": {
      "text/plain": [
       "0.09311277934342956"
      ]
     },
     "execution_count": 297,
     "metadata": {},
     "output_type": "execute_result"
    }
   ],
   "source": [
    "nlp.vocab['a'].vector.dot(gender_vec)/gender_vec.dot(gender_vec)"
   ]
  },
  {
   "cell_type": "markdown",
   "metadata": {},
   "source": [
    "### Exercise: Explore the \"gender\" component of various words"
   ]
  },
  {
   "cell_type": "code",
   "execution_count": null,
   "metadata": {},
   "outputs": [],
   "source": []
  }
 ],
 "metadata": {
  "kernelspec": {
   "display_name": "Python [conda env:mainpy3] *",
   "language": "python",
   "name": "conda-env-mainpy3-py"
  },
  "language_info": {
   "codemirror_mode": {
    "name": "ipython",
    "version": 3
   },
   "file_extension": ".py",
   "mimetype": "text/x-python",
   "name": "python",
   "nbconvert_exporter": "python",
   "pygments_lexer": "ipython3",
   "version": "3.6.7"
  }
 },
 "nbformat": 4,
 "nbformat_minor": 2
}
